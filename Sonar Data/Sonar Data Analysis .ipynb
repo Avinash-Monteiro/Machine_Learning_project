{
 "cells": [
  {
   "cell_type": "markdown",
   "metadata": {
    "id": "c2RBVNTwI3fc"
   },
   "source": [
    "<h1><center> MACHINE LEARNING ON SONAR DATASET<h1> \n",
    "    \n",
    "    \n",
    "   "
   ]
  },
  {
   "cell_type": "markdown",
   "metadata": {},
   "source": [
    "                                                                                                  -Avinash Shan Monteiro"
   ]
  },
  {
   "cell_type": "markdown",
   "metadata": {
    "id": "nejZ5Xw8iOQP"
   },
   "source": [
    "<img align=\"center\" src=\"https://thumbor.forbes.com/thumbor/960x0/https%3A%2F%2Fspecials-images.forbesimg.com%2Fdam%2Fimageserve%2F939119258%2F960x0.jpg%3Ffit%3Dscale\" />"
   ]
  },
  {
   "cell_type": "markdown",
   "metadata": {
    "id": "lcL_yFCTI3fe"
   },
   "source": [
    "## Table of Contents\n",
    "\n",
    "1. [Introduction](#section1)<br>\n",
    "    - 1.1[Sonar Technology](#section11)<br>\n",
    "    - 1.2[Data Set Information](#section12)<br>\n",
    "2. [Problem Statement](#section2)<br>\n",
    "3. [Selecting the important Python libraries](#section3)<br>\n",
    "4. [Data Loading and Description](#section4)<br>\n",
    "    - 4.1[Data Loading](#section41)<br> \n",
    "    - 4.2[Description of the data](#section42)<br> \n",
    "5. [Exploratory Data Analysis](#section5)<br>\n",
    "    - 5.1[Re-engineering the Target Variable column](#section51)<br>\n",
    "    - 5.2[Understanding the Distribution of independent variables](#section52)<br>\n",
    "    - 5.3[Target Variable Analysis](#section53)<br>\n",
    "    - 5.4[Pandas Profiling](#section54)<br>\n",
    "6. [Dimensionality Reduction](#section6)<br>\n",
    "    - 6.1[Variance Mentod](#section61)<br>\n",
    "    - 6.2[ Scaling the dataset](#section62)<br>\n",
    "    - 6.3[Principal Components Analysis](#section63)<br>\n",
    "7. [Train Test Split](#section7)<br>\n",
    "8. [Machine Learning Models](#section8)<br>\n",
    "    - 8.1[Logistic Regression](#section81)<br>\n",
    "    - 8.2[Decision Tree](#section82)<br>\n",
    "    - 8.3[Random Forest Regression](#section83)<br>\n",
    "    - 8.4[Naive Bayes Classifier](#section84)<br>\n",
    "    - 8.5[Support Vector Classifier](#section85)<br>\n",
    "    - 8.6[K Nearest Neighbor](#section86)<br>\n",
    "9. [Final Summary](#section9)<br>        \n"
   ]
  },
  {
   "cell_type": "markdown",
   "metadata": {
    "id": "LtFZGgLvI3ff"
   },
   "source": [
    "# 1. INTRODUCTION\n",
    "<a id=section1></a>"
   ]
  },
  {
   "cell_type": "markdown",
   "metadata": {},
   "source": [
    "<img align=\"center\" src=\"https://previews.123rf.com/images/pattarawit/pattarawit1707/pattarawit170700007/82308579-sonar-signal-systems-are-generally-used-underwater-for-range-finding-and-detection-active-sonar-emit.jpg\" />"
   ]
  },
  {
   "cell_type": "markdown",
   "metadata": {
    "id": "bCvCt6piI3fg"
   },
   "source": [
    "## 1.1 Sonar Technology\n",
    "<a id=section11></a>"
   ]
  },
  {
   "cell_type": "markdown",
   "metadata": {
    "id": "44I5-n2yI3fh"
   },
   "source": [
    "**Sonar (sound navigation and ranging)** is a technology that uses acoustical waves to sense the location of objects in the ocean. The simplest sonar devices send out a sound pulse from a transducer, and then precisely measure the time it takes for the sound pulses to be reflected back to the transducer. The distance to an object can be calculated using this time difference and the speed of sound in the water (approximately 1,500 meters per second). More sophisticated sonar systems can provide additional direction and range information. Sonar was developed during World War I as an aid in finding both submarines and icebergs. Major improvements were made on this technology during World War II, and eventually scientists adapted the highly sensitive equipment for use in oceanographic research."
   ]
  },
  {
   "cell_type": "markdown",
   "metadata": {
    "id": "X4PxuSkuI3fi"
   },
   "source": [
    "<img src='https://dosits.org/wp-content/uploads/2017/07/anime66.gif' align ='center'/>"
   ]
  },
  {
   "cell_type": "markdown",
   "metadata": {
    "id": "r-ch8e8UI3fj"
   },
   "source": [
    "There are two types of sonar: **active and passive**. \n",
    "#### Active Sonar\n",
    "**Active sonar** transducers emit an acoustic signal or pulse of sound into the water. If an object is in the path of the sound pulse, the sound bounces off the object and returns an “echo” to the sonar transducer. If the transducer is equipped with the ability to receive signals, it measures the strength of the signal. By determining the time between the emission of the sound pulse and its reception, the transducer can determine the range and orientation of the object.\n",
    "\n",
    "#### Passive Sonar\n",
    "**Passive sonar** systems are used primarily to detect noise from marine objects (such as submarines or ships) and marine animals like whales. Unlike active sonar, passive sonar does not emit its own signal, which is an advantage for military vessels that do not want to be found or for scientific missions that concentrate on quietly “listening” to the ocean. Rather, it only detects sound waves coming towards it. Passive sonar cannot measure the range of an object unless it is used in conjunction with other passive listening devices. Multiple passive sonar devices may allow for triangulation of a sound source.\n"
   ]
  },
  {
   "cell_type": "markdown",
   "metadata": {
    "id": "ATZBWK9oI3fj"
   },
   "source": [
    "## 1.2 Data Set Information\n",
    "<a id=section12></a>"
   ]
  },
  {
   "cell_type": "markdown",
   "metadata": {
    "id": "dxZ7B2aFI3fk"
   },
   "source": [
    "The file ``\"sonar_dataset.csv\"`` contains 208 patterns obtained by bouncing sonar signals off a metal cylinder at various angles and under various conditions. The transmitted sonar signal is a frequency-modulated chirp, rising in frequency. The data set contains signals obtained from a variety of different aspect angles, spanning 90 degrees for the cylinder and 180 degrees for the rock.\n",
    "\n",
    "Each pattern is a set of 60 numbers in the range 0.0 to 1.0. Each number represents the energy within a particular frequency band, integrated over a certain period of time. The integration aperture for higher frequencies occur later in time, since these frequencies are transmitted later during the chirp.\n",
    "\n",
    "The label associated with each record contains the letter **\"R\"** if the object is a rock and **\"M\"** if it is a mine (metal cylinder). The numbers in the labels are in increasing order of aspect angle, but they do not encode the angle directly."
   ]
  },
  {
   "cell_type": "markdown",
   "metadata": {
    "id": "ySOo_LPFI3fk"
   },
   "source": [
    "# 2. Problem Statement\n",
    "<a id=section2></a>"
   ]
  },
  {
   "cell_type": "markdown",
   "metadata": {
    "id": "48ne4rlLI3fl"
   },
   "source": [
    "- By analysing the dataset file ```dataset.csv``` we need to develop a model which could predict whether an object is a rock or a metal mine accurately.\n",
    "- The model should make least error in determining the Mine as it could lead to explosion and damage to the submarine, if the submarine passes over a mine. "
   ]
  },
  {
   "cell_type": "markdown",
   "metadata": {
    "id": "yOuMlQRII3fl"
   },
   "source": [
    "# 3. Selecting the important Python libraries\n",
    "<a id=section3></a>"
   ]
  },
  {
   "cell_type": "code",
   "execution_count": 1,
   "metadata": {},
   "outputs": [],
   "source": [
    "#!pip install matplotlib"
   ]
  },
  {
   "cell_type": "code",
   "execution_count": 2,
   "metadata": {
    "executionInfo": {
     "elapsed": 1351,
     "status": "ok",
     "timestamp": 1604063654413,
     "user": {
      "displayName": "Avinash Shan Monteiro",
      "photoUrl": "https://lh3.googleusercontent.com/a-/AOh14GhdXz_vydwJJcfCE9FwqTa-bepmD2utpymafyGVRA=s64",
      "userId": "06625822810889763391"
     },
     "user_tz": -330
    },
    "id": "VvaOVufNI3fm"
   },
   "outputs": [],
   "source": [
    "import pandas as pd #Python library to import the dataset and work on it\n",
    "pd.set_option('mode.chained_assignment', None)      # To suppress pandas warnings.\n",
    "pd.set_option('display.max_colwidth', None)           # To display all the data in each column\n",
    "pd.options.display.max_columns = 50                 # To display every column of the dataset in head()\n",
    "\n",
    "import numpy as np # Python library to perform mathematical operations on the dataset\n",
    "import matplotlib.pyplot as plt #Python library to plot the graphs\n",
    "%matplotlib inline \n",
    "import warnings\n",
    "warnings.filterwarnings('ignore') #to ignore the errors which doesnt affect the output"
   ]
  },
  {
   "cell_type": "code",
   "execution_count": 3,
   "metadata": {
    "executionInfo": {
     "elapsed": 3186,
     "status": "ok",
     "timestamp": 1604063656259,
     "user": {
      "displayName": "Avinash Shan Monteiro",
      "photoUrl": "https://lh3.googleusercontent.com/a-/AOh14GhdXz_vydwJJcfCE9FwqTa-bepmD2utpymafyGVRA=s64",
      "userId": "06625822810889763391"
     },
     "user_tz": -330
    },
    "id": "ISJFYRF7I3fp"
   },
   "outputs": [],
   "source": [
    "import seaborn as sns #Python library to plot the graph\n",
    "sns.set(style=\"darkgrid\", font_scale=1, color_codes=True)\n",
    "sns.set(style='whitegrid', font_scale=1.3, color_codes=True)      # To apply seaborn styles to the plots.\n",
    "from pandas_profiling import ProfileReport"
   ]
  },
  {
   "cell_type": "markdown",
   "metadata": {
    "id": "z5oU0SyhI3fv"
   },
   "source": [
    "# 4. Data Loading and Description \n",
    "<a id=section4></a>"
   ]
  },
  {
   "cell_type": "markdown",
   "metadata": {
    "id": "-V3xksuDI3fw"
   },
   "source": [
    "## 4.1 Data Loading\n",
    "<a id=section41></a>"
   ]
  },
  {
   "cell_type": "code",
   "execution_count": 4,
   "metadata": {
    "executionInfo": {
     "elapsed": 3184,
     "status": "ok",
     "timestamp": 1604063656263,
     "user": {
      "displayName": "Avinash Shan Monteiro",
      "photoUrl": "https://lh3.googleusercontent.com/a-/AOh14GhdXz_vydwJJcfCE9FwqTa-bepmD2utpymafyGVRA=s64",
      "userId": "06625822810889763391"
     },
     "user_tz": -330
    },
    "id": "kjEt-vpkI3fy",
    "scrolled": true
   },
   "outputs": [],
   "source": [
    "df=pd.read_csv('https://raw.githubusercontent.com/Avinash-Monteiro/Datasets/master/Sonar_dataset.csv')"
   ]
  },
  {
   "cell_type": "markdown",
   "metadata": {
    "id": "tCRaw6dCI3f2"
   },
   "source": [
    "The data is successfully loaded from ```Github``` repository and now we can view the data by using ```.head()``` function of pandas "
   ]
  },
  {
   "cell_type": "code",
   "execution_count": 5,
   "metadata": {
    "colab": {
     "base_uri": "https://localhost:8080/",
     "height": 253
    },
    "executionInfo": {
     "elapsed": 3175,
     "status": "ok",
     "timestamp": 1604063656268,
     "user": {
      "displayName": "Avinash Shan Monteiro",
      "photoUrl": "https://lh3.googleusercontent.com/a-/AOh14GhdXz_vydwJJcfCE9FwqTa-bepmD2utpymafyGVRA=s64",
      "userId": "06625822810889763391"
     },
     "user_tz": -330
    },
    "id": "1abljxe5I3f2",
    "outputId": "2de6f60c-ca15-446f-a821-548382636679"
   },
   "outputs": [
    {
     "data": {
      "text/html": [
       "<div>\n",
       "<style scoped>\n",
       "    .dataframe tbody tr th:only-of-type {\n",
       "        vertical-align: middle;\n",
       "    }\n",
       "\n",
       "    .dataframe tbody tr th {\n",
       "        vertical-align: top;\n",
       "    }\n",
       "\n",
       "    .dataframe thead th {\n",
       "        text-align: right;\n",
       "    }\n",
       "</style>\n",
       "<table border=\"1\" class=\"dataframe\">\n",
       "  <thead>\n",
       "    <tr style=\"text-align: right;\">\n",
       "      <th></th>\n",
       "      <th>v1</th>\n",
       "      <th>v2</th>\n",
       "      <th>v3</th>\n",
       "      <th>v4</th>\n",
       "      <th>v5</th>\n",
       "      <th>v6</th>\n",
       "      <th>v7</th>\n",
       "      <th>v8</th>\n",
       "      <th>v9</th>\n",
       "      <th>v10</th>\n",
       "      <th>v11</th>\n",
       "      <th>v12</th>\n",
       "      <th>v13</th>\n",
       "      <th>v14</th>\n",
       "      <th>v15</th>\n",
       "      <th>v16</th>\n",
       "      <th>v17</th>\n",
       "      <th>v18</th>\n",
       "      <th>v19</th>\n",
       "      <th>v20</th>\n",
       "      <th>v21</th>\n",
       "      <th>v22</th>\n",
       "      <th>v23</th>\n",
       "      <th>v24</th>\n",
       "      <th>v25</th>\n",
       "      <th>...</th>\n",
       "      <th>v37</th>\n",
       "      <th>v38</th>\n",
       "      <th>v39</th>\n",
       "      <th>v40</th>\n",
       "      <th>v41</th>\n",
       "      <th>v42</th>\n",
       "      <th>v43</th>\n",
       "      <th>v44</th>\n",
       "      <th>v45</th>\n",
       "      <th>v46</th>\n",
       "      <th>v47</th>\n",
       "      <th>v48</th>\n",
       "      <th>v49</th>\n",
       "      <th>v50</th>\n",
       "      <th>v51</th>\n",
       "      <th>v52</th>\n",
       "      <th>v53</th>\n",
       "      <th>v54</th>\n",
       "      <th>v55</th>\n",
       "      <th>v56</th>\n",
       "      <th>v57</th>\n",
       "      <th>v58</th>\n",
       "      <th>v59</th>\n",
       "      <th>v60</th>\n",
       "      <th>Class</th>\n",
       "    </tr>\n",
       "  </thead>\n",
       "  <tbody>\n",
       "    <tr>\n",
       "      <th>0</th>\n",
       "      <td>0.0200</td>\n",
       "      <td>0.0371</td>\n",
       "      <td>0.0428</td>\n",
       "      <td>0.0207</td>\n",
       "      <td>0.0954</td>\n",
       "      <td>0.0986</td>\n",
       "      <td>0.1539</td>\n",
       "      <td>0.1601</td>\n",
       "      <td>0.3109</td>\n",
       "      <td>0.2111</td>\n",
       "      <td>0.1609</td>\n",
       "      <td>0.1582</td>\n",
       "      <td>0.2238</td>\n",
       "      <td>0.0645</td>\n",
       "      <td>0.0660</td>\n",
       "      <td>0.2273</td>\n",
       "      <td>0.3100</td>\n",
       "      <td>0.2999</td>\n",
       "      <td>0.5078</td>\n",
       "      <td>0.4797</td>\n",
       "      <td>0.5783</td>\n",
       "      <td>0.5071</td>\n",
       "      <td>0.4328</td>\n",
       "      <td>0.5550</td>\n",
       "      <td>0.6711</td>\n",
       "      <td>...</td>\n",
       "      <td>0.6692</td>\n",
       "      <td>0.6097</td>\n",
       "      <td>0.4943</td>\n",
       "      <td>0.2744</td>\n",
       "      <td>0.0510</td>\n",
       "      <td>0.2834</td>\n",
       "      <td>0.2825</td>\n",
       "      <td>0.4256</td>\n",
       "      <td>0.2641</td>\n",
       "      <td>0.1386</td>\n",
       "      <td>0.1051</td>\n",
       "      <td>0.1343</td>\n",
       "      <td>0.0383</td>\n",
       "      <td>0.0324</td>\n",
       "      <td>0.0232</td>\n",
       "      <td>0.0027</td>\n",
       "      <td>0.0065</td>\n",
       "      <td>0.0159</td>\n",
       "      <td>0.0072</td>\n",
       "      <td>0.0167</td>\n",
       "      <td>0.0180</td>\n",
       "      <td>0.0084</td>\n",
       "      <td>0.0090</td>\n",
       "      <td>0.0032</td>\n",
       "      <td>R</td>\n",
       "    </tr>\n",
       "    <tr>\n",
       "      <th>1</th>\n",
       "      <td>0.0453</td>\n",
       "      <td>0.0523</td>\n",
       "      <td>0.0843</td>\n",
       "      <td>0.0689</td>\n",
       "      <td>0.1183</td>\n",
       "      <td>0.2583</td>\n",
       "      <td>0.2156</td>\n",
       "      <td>0.3481</td>\n",
       "      <td>0.3337</td>\n",
       "      <td>0.2872</td>\n",
       "      <td>0.4918</td>\n",
       "      <td>0.6552</td>\n",
       "      <td>0.6919</td>\n",
       "      <td>0.7797</td>\n",
       "      <td>0.7464</td>\n",
       "      <td>0.9444</td>\n",
       "      <td>1.0000</td>\n",
       "      <td>0.8874</td>\n",
       "      <td>0.8024</td>\n",
       "      <td>0.7818</td>\n",
       "      <td>0.5212</td>\n",
       "      <td>0.4052</td>\n",
       "      <td>0.3957</td>\n",
       "      <td>0.3914</td>\n",
       "      <td>0.3250</td>\n",
       "      <td>...</td>\n",
       "      <td>0.3835</td>\n",
       "      <td>0.1057</td>\n",
       "      <td>0.1840</td>\n",
       "      <td>0.1970</td>\n",
       "      <td>0.1674</td>\n",
       "      <td>0.0583</td>\n",
       "      <td>0.1401</td>\n",
       "      <td>0.1628</td>\n",
       "      <td>0.0621</td>\n",
       "      <td>0.0203</td>\n",
       "      <td>0.0530</td>\n",
       "      <td>0.0742</td>\n",
       "      <td>0.0409</td>\n",
       "      <td>0.0061</td>\n",
       "      <td>0.0125</td>\n",
       "      <td>0.0084</td>\n",
       "      <td>0.0089</td>\n",
       "      <td>0.0048</td>\n",
       "      <td>0.0094</td>\n",
       "      <td>0.0191</td>\n",
       "      <td>0.0140</td>\n",
       "      <td>0.0049</td>\n",
       "      <td>0.0052</td>\n",
       "      <td>0.0044</td>\n",
       "      <td>R</td>\n",
       "    </tr>\n",
       "    <tr>\n",
       "      <th>2</th>\n",
       "      <td>0.0262</td>\n",
       "      <td>0.0582</td>\n",
       "      <td>0.1099</td>\n",
       "      <td>0.1083</td>\n",
       "      <td>0.0974</td>\n",
       "      <td>0.2280</td>\n",
       "      <td>0.2431</td>\n",
       "      <td>0.3771</td>\n",
       "      <td>0.5598</td>\n",
       "      <td>0.6194</td>\n",
       "      <td>0.6333</td>\n",
       "      <td>0.7060</td>\n",
       "      <td>0.5544</td>\n",
       "      <td>0.5320</td>\n",
       "      <td>0.6479</td>\n",
       "      <td>0.6931</td>\n",
       "      <td>0.6759</td>\n",
       "      <td>0.7551</td>\n",
       "      <td>0.8929</td>\n",
       "      <td>0.8619</td>\n",
       "      <td>0.7974</td>\n",
       "      <td>0.6737</td>\n",
       "      <td>0.4293</td>\n",
       "      <td>0.3648</td>\n",
       "      <td>0.5331</td>\n",
       "      <td>...</td>\n",
       "      <td>0.6116</td>\n",
       "      <td>0.6756</td>\n",
       "      <td>0.5375</td>\n",
       "      <td>0.4719</td>\n",
       "      <td>0.4647</td>\n",
       "      <td>0.2587</td>\n",
       "      <td>0.2129</td>\n",
       "      <td>0.2222</td>\n",
       "      <td>0.2111</td>\n",
       "      <td>0.0176</td>\n",
       "      <td>0.1348</td>\n",
       "      <td>0.0744</td>\n",
       "      <td>0.0130</td>\n",
       "      <td>0.0106</td>\n",
       "      <td>0.0033</td>\n",
       "      <td>0.0232</td>\n",
       "      <td>0.0166</td>\n",
       "      <td>0.0095</td>\n",
       "      <td>0.0180</td>\n",
       "      <td>0.0244</td>\n",
       "      <td>0.0316</td>\n",
       "      <td>0.0164</td>\n",
       "      <td>0.0095</td>\n",
       "      <td>0.0078</td>\n",
       "      <td>R</td>\n",
       "    </tr>\n",
       "    <tr>\n",
       "      <th>3</th>\n",
       "      <td>0.0100</td>\n",
       "      <td>0.0171</td>\n",
       "      <td>0.0623</td>\n",
       "      <td>0.0205</td>\n",
       "      <td>0.0205</td>\n",
       "      <td>0.0368</td>\n",
       "      <td>0.1098</td>\n",
       "      <td>0.1276</td>\n",
       "      <td>0.0598</td>\n",
       "      <td>0.1264</td>\n",
       "      <td>0.0881</td>\n",
       "      <td>0.1992</td>\n",
       "      <td>0.0184</td>\n",
       "      <td>0.2261</td>\n",
       "      <td>0.1729</td>\n",
       "      <td>0.2131</td>\n",
       "      <td>0.0693</td>\n",
       "      <td>0.2281</td>\n",
       "      <td>0.4060</td>\n",
       "      <td>0.3973</td>\n",
       "      <td>0.2741</td>\n",
       "      <td>0.3690</td>\n",
       "      <td>0.5556</td>\n",
       "      <td>0.4846</td>\n",
       "      <td>0.3140</td>\n",
       "      <td>...</td>\n",
       "      <td>0.5408</td>\n",
       "      <td>0.8814</td>\n",
       "      <td>0.9857</td>\n",
       "      <td>0.9167</td>\n",
       "      <td>0.6121</td>\n",
       "      <td>0.5006</td>\n",
       "      <td>0.3210</td>\n",
       "      <td>0.3202</td>\n",
       "      <td>0.4295</td>\n",
       "      <td>0.3654</td>\n",
       "      <td>0.2655</td>\n",
       "      <td>0.1576</td>\n",
       "      <td>0.0681</td>\n",
       "      <td>0.0294</td>\n",
       "      <td>0.0241</td>\n",
       "      <td>0.0121</td>\n",
       "      <td>0.0036</td>\n",
       "      <td>0.0150</td>\n",
       "      <td>0.0085</td>\n",
       "      <td>0.0073</td>\n",
       "      <td>0.0050</td>\n",
       "      <td>0.0044</td>\n",
       "      <td>0.0040</td>\n",
       "      <td>0.0117</td>\n",
       "      <td>R</td>\n",
       "    </tr>\n",
       "    <tr>\n",
       "      <th>4</th>\n",
       "      <td>0.0762</td>\n",
       "      <td>0.0666</td>\n",
       "      <td>0.0481</td>\n",
       "      <td>0.0394</td>\n",
       "      <td>0.0590</td>\n",
       "      <td>0.0649</td>\n",
       "      <td>0.1209</td>\n",
       "      <td>0.2467</td>\n",
       "      <td>0.3564</td>\n",
       "      <td>0.4459</td>\n",
       "      <td>0.4152</td>\n",
       "      <td>0.3952</td>\n",
       "      <td>0.4256</td>\n",
       "      <td>0.4135</td>\n",
       "      <td>0.4528</td>\n",
       "      <td>0.5326</td>\n",
       "      <td>0.7306</td>\n",
       "      <td>0.6193</td>\n",
       "      <td>0.2032</td>\n",
       "      <td>0.4636</td>\n",
       "      <td>0.4148</td>\n",
       "      <td>0.4292</td>\n",
       "      <td>0.5730</td>\n",
       "      <td>0.5399</td>\n",
       "      <td>0.3161</td>\n",
       "      <td>...</td>\n",
       "      <td>0.4604</td>\n",
       "      <td>0.3217</td>\n",
       "      <td>0.2828</td>\n",
       "      <td>0.2430</td>\n",
       "      <td>0.1979</td>\n",
       "      <td>0.2444</td>\n",
       "      <td>0.1847</td>\n",
       "      <td>0.0841</td>\n",
       "      <td>0.0692</td>\n",
       "      <td>0.0528</td>\n",
       "      <td>0.0357</td>\n",
       "      <td>0.0085</td>\n",
       "      <td>0.0230</td>\n",
       "      <td>0.0046</td>\n",
       "      <td>0.0156</td>\n",
       "      <td>0.0031</td>\n",
       "      <td>0.0054</td>\n",
       "      <td>0.0105</td>\n",
       "      <td>0.0110</td>\n",
       "      <td>0.0015</td>\n",
       "      <td>0.0072</td>\n",
       "      <td>0.0048</td>\n",
       "      <td>0.0107</td>\n",
       "      <td>0.0094</td>\n",
       "      <td>R</td>\n",
       "    </tr>\n",
       "  </tbody>\n",
       "</table>\n",
       "<p>5 rows × 61 columns</p>\n",
       "</div>"
      ],
      "text/plain": [
       "       v1      v2      v3      v4      v5      v6      v7      v8      v9  \\\n",
       "0  0.0200  0.0371  0.0428  0.0207  0.0954  0.0986  0.1539  0.1601  0.3109   \n",
       "1  0.0453  0.0523  0.0843  0.0689  0.1183  0.2583  0.2156  0.3481  0.3337   \n",
       "2  0.0262  0.0582  0.1099  0.1083  0.0974  0.2280  0.2431  0.3771  0.5598   \n",
       "3  0.0100  0.0171  0.0623  0.0205  0.0205  0.0368  0.1098  0.1276  0.0598   \n",
       "4  0.0762  0.0666  0.0481  0.0394  0.0590  0.0649  0.1209  0.2467  0.3564   \n",
       "\n",
       "      v10     v11     v12     v13     v14     v15     v16     v17     v18  \\\n",
       "0  0.2111  0.1609  0.1582  0.2238  0.0645  0.0660  0.2273  0.3100  0.2999   \n",
       "1  0.2872  0.4918  0.6552  0.6919  0.7797  0.7464  0.9444  1.0000  0.8874   \n",
       "2  0.6194  0.6333  0.7060  0.5544  0.5320  0.6479  0.6931  0.6759  0.7551   \n",
       "3  0.1264  0.0881  0.1992  0.0184  0.2261  0.1729  0.2131  0.0693  0.2281   \n",
       "4  0.4459  0.4152  0.3952  0.4256  0.4135  0.4528  0.5326  0.7306  0.6193   \n",
       "\n",
       "      v19     v20     v21     v22     v23     v24     v25  ...     v37  \\\n",
       "0  0.5078  0.4797  0.5783  0.5071  0.4328  0.5550  0.6711  ...  0.6692   \n",
       "1  0.8024  0.7818  0.5212  0.4052  0.3957  0.3914  0.3250  ...  0.3835   \n",
       "2  0.8929  0.8619  0.7974  0.6737  0.4293  0.3648  0.5331  ...  0.6116   \n",
       "3  0.4060  0.3973  0.2741  0.3690  0.5556  0.4846  0.3140  ...  0.5408   \n",
       "4  0.2032  0.4636  0.4148  0.4292  0.5730  0.5399  0.3161  ...  0.4604   \n",
       "\n",
       "      v38     v39     v40     v41     v42     v43     v44     v45     v46  \\\n",
       "0  0.6097  0.4943  0.2744  0.0510  0.2834  0.2825  0.4256  0.2641  0.1386   \n",
       "1  0.1057  0.1840  0.1970  0.1674  0.0583  0.1401  0.1628  0.0621  0.0203   \n",
       "2  0.6756  0.5375  0.4719  0.4647  0.2587  0.2129  0.2222  0.2111  0.0176   \n",
       "3  0.8814  0.9857  0.9167  0.6121  0.5006  0.3210  0.3202  0.4295  0.3654   \n",
       "4  0.3217  0.2828  0.2430  0.1979  0.2444  0.1847  0.0841  0.0692  0.0528   \n",
       "\n",
       "      v47     v48     v49     v50     v51     v52     v53     v54     v55  \\\n",
       "0  0.1051  0.1343  0.0383  0.0324  0.0232  0.0027  0.0065  0.0159  0.0072   \n",
       "1  0.0530  0.0742  0.0409  0.0061  0.0125  0.0084  0.0089  0.0048  0.0094   \n",
       "2  0.1348  0.0744  0.0130  0.0106  0.0033  0.0232  0.0166  0.0095  0.0180   \n",
       "3  0.2655  0.1576  0.0681  0.0294  0.0241  0.0121  0.0036  0.0150  0.0085   \n",
       "4  0.0357  0.0085  0.0230  0.0046  0.0156  0.0031  0.0054  0.0105  0.0110   \n",
       "\n",
       "      v56     v57     v58     v59     v60  Class  \n",
       "0  0.0167  0.0180  0.0084  0.0090  0.0032      R  \n",
       "1  0.0191  0.0140  0.0049  0.0052  0.0044      R  \n",
       "2  0.0244  0.0316  0.0164  0.0095  0.0078      R  \n",
       "3  0.0073  0.0050  0.0044  0.0040  0.0117      R  \n",
       "4  0.0015  0.0072  0.0048  0.0107  0.0094      R  \n",
       "\n",
       "[5 rows x 61 columns]"
      ]
     },
     "execution_count": 5,
     "metadata": {},
     "output_type": "execute_result"
    }
   ],
   "source": [
    "df.head(5)"
   ]
  },
  {
   "cell_type": "markdown",
   "metadata": {
    "id": "aqfTeowZI3f7"
   },
   "source": [
    "## 4.1 Description of the data\n",
    "<a id=section42></a>"
   ]
  },
  {
   "cell_type": "code",
   "execution_count": 6,
   "metadata": {
    "colab": {
     "base_uri": "https://localhost:8080/"
    },
    "executionInfo": {
     "elapsed": 3168,
     "status": "ok",
     "timestamp": 1604063656274,
     "user": {
      "displayName": "Avinash Shan Monteiro",
      "photoUrl": "https://lh3.googleusercontent.com/a-/AOh14GhdXz_vydwJJcfCE9FwqTa-bepmD2utpymafyGVRA=s64",
      "userId": "06625822810889763391"
     },
     "user_tz": -330
    },
    "id": "4Rk9mS5II3f8",
    "outputId": "b6723fe2-fa86-44e1-d65f-b32260056941"
   },
   "outputs": [
    {
     "data": {
      "text/plain": [
       "61"
      ]
     },
     "execution_count": 6,
     "metadata": {},
     "output_type": "execute_result"
    }
   ],
   "source": [
    "len(df.columns)"
   ]
  },
  {
   "cell_type": "markdown",
   "metadata": {
    "id": "fbptbLIFI3gA"
   },
   "source": [
    "There are 61 columns in the dataset"
   ]
  },
  {
   "cell_type": "code",
   "execution_count": 7,
   "metadata": {
    "colab": {
     "base_uri": "https://localhost:8080/"
    },
    "executionInfo": {
     "elapsed": 3162,
     "status": "ok",
     "timestamp": 1604063656279,
     "user": {
      "displayName": "Avinash Shan Monteiro",
      "photoUrl": "https://lh3.googleusercontent.com/a-/AOh14GhdXz_vydwJJcfCE9FwqTa-bepmD2utpymafyGVRA=s64",
      "userId": "06625822810889763391"
     },
     "user_tz": -330
    },
    "id": "WAZoUQT8I3gA",
    "outputId": "903298fa-3c91-4c13-97b5-eeff3b8a9019"
   },
   "outputs": [
    {
     "name": "stdout",
     "output_type": "stream",
     "text": [
      "<class 'pandas.core.frame.DataFrame'>\n",
      "RangeIndex: 208 entries, 0 to 207\n",
      "Data columns (total 61 columns):\n",
      " #   Column  Non-Null Count  Dtype  \n",
      "---  ------  --------------  -----  \n",
      " 0   v1      208 non-null    float64\n",
      " 1   v2      208 non-null    float64\n",
      " 2   v3      208 non-null    float64\n",
      " 3   v4      208 non-null    float64\n",
      " 4   v5      208 non-null    float64\n",
      " 5   v6      208 non-null    float64\n",
      " 6   v7      208 non-null    float64\n",
      " 7   v8      208 non-null    float64\n",
      " 8   v9      208 non-null    float64\n",
      " 9   v10     208 non-null    float64\n",
      " 10  v11     208 non-null    float64\n",
      " 11  v12     208 non-null    float64\n",
      " 12  v13     208 non-null    float64\n",
      " 13  v14     208 non-null    float64\n",
      " 14  v15     208 non-null    float64\n",
      " 15  v16     208 non-null    float64\n",
      " 16  v17     208 non-null    float64\n",
      " 17  v18     208 non-null    float64\n",
      " 18  v19     208 non-null    float64\n",
      " 19  v20     208 non-null    float64\n",
      " 20  v21     208 non-null    float64\n",
      " 21  v22     208 non-null    float64\n",
      " 22  v23     208 non-null    float64\n",
      " 23  v24     208 non-null    float64\n",
      " 24  v25     208 non-null    float64\n",
      " 25  v26     208 non-null    float64\n",
      " 26  v27     208 non-null    float64\n",
      " 27  v28     208 non-null    float64\n",
      " 28  v29     208 non-null    float64\n",
      " 29  v30     208 non-null    float64\n",
      " 30  v31     208 non-null    float64\n",
      " 31  v32     208 non-null    float64\n",
      " 32  v33     208 non-null    float64\n",
      " 33  v34     208 non-null    float64\n",
      " 34  v35     208 non-null    float64\n",
      " 35  v36     208 non-null    float64\n",
      " 36  v37     208 non-null    float64\n",
      " 37  v38     208 non-null    float64\n",
      " 38  v39     208 non-null    float64\n",
      " 39  v40     208 non-null    float64\n",
      " 40  v41     208 non-null    float64\n",
      " 41  v42     208 non-null    float64\n",
      " 42  v43     208 non-null    float64\n",
      " 43  v44     208 non-null    float64\n",
      " 44  v45     208 non-null    float64\n",
      " 45  v46     208 non-null    float64\n",
      " 46  v47     208 non-null    float64\n",
      " 47  v48     208 non-null    float64\n",
      " 48  v49     208 non-null    float64\n",
      " 49  v50     208 non-null    float64\n",
      " 50  v51     208 non-null    float64\n",
      " 51  v52     208 non-null    float64\n",
      " 52  v53     208 non-null    float64\n",
      " 53  v54     208 non-null    float64\n",
      " 54  v55     208 non-null    float64\n",
      " 55  v56     208 non-null    float64\n",
      " 56  v57     208 non-null    float64\n",
      " 57  v58     208 non-null    float64\n",
      " 58  v59     208 non-null    float64\n",
      " 59  v60     208 non-null    float64\n",
      " 60  Class   208 non-null    object \n",
      "dtypes: float64(60), object(1)\n",
      "memory usage: 99.2+ KB\n"
     ]
    }
   ],
   "source": [
    "df.info()"
   ]
  },
  {
   "cell_type": "markdown",
   "metadata": {
    "id": "wjiSEZ9uI3gG"
   },
   "source": [
    "- As breifed in the **Dataset Information** section, the dataset contains a total of  **61 columns/features**. **60** features are continous in nature starting from **v1 to v60** and the last feature, **the target variable, Class** is categorical in nature.\n",
    "- the dataset seems to be clean. That means there are no missing values in the dataset."
   ]
  },
  {
   "cell_type": "code",
   "execution_count": 8,
   "metadata": {
    "colab": {
     "base_uri": "https://localhost:8080/",
     "height": 346
    },
    "executionInfo": {
     "elapsed": 3154,
     "status": "ok",
     "timestamp": 1604063656285,
     "user": {
      "displayName": "Avinash Shan Monteiro",
      "photoUrl": "https://lh3.googleusercontent.com/a-/AOh14GhdXz_vydwJJcfCE9FwqTa-bepmD2utpymafyGVRA=s64",
      "userId": "06625822810889763391"
     },
     "user_tz": -330
    },
    "id": "lDE2fVWVI3gH",
    "outputId": "5a149ebe-30dd-4e81-c43c-ee7fdd0c297d",
    "scrolled": true
   },
   "outputs": [
    {
     "data": {
      "text/html": [
       "<div>\n",
       "<style scoped>\n",
       "    .dataframe tbody tr th:only-of-type {\n",
       "        vertical-align: middle;\n",
       "    }\n",
       "\n",
       "    .dataframe tbody tr th {\n",
       "        vertical-align: top;\n",
       "    }\n",
       "\n",
       "    .dataframe thead th {\n",
       "        text-align: right;\n",
       "    }\n",
       "</style>\n",
       "<table border=\"1\" class=\"dataframe\">\n",
       "  <thead>\n",
       "    <tr style=\"text-align: right;\">\n",
       "      <th></th>\n",
       "      <th>v1</th>\n",
       "      <th>v2</th>\n",
       "      <th>v3</th>\n",
       "      <th>v4</th>\n",
       "      <th>v5</th>\n",
       "      <th>v6</th>\n",
       "      <th>v7</th>\n",
       "      <th>v8</th>\n",
       "      <th>v9</th>\n",
       "      <th>v10</th>\n",
       "      <th>v11</th>\n",
       "      <th>v12</th>\n",
       "      <th>v13</th>\n",
       "      <th>v14</th>\n",
       "      <th>v15</th>\n",
       "      <th>v16</th>\n",
       "      <th>v17</th>\n",
       "      <th>v18</th>\n",
       "      <th>v19</th>\n",
       "      <th>v20</th>\n",
       "      <th>v21</th>\n",
       "      <th>v22</th>\n",
       "      <th>v23</th>\n",
       "      <th>v24</th>\n",
       "      <th>v25</th>\n",
       "      <th>...</th>\n",
       "      <th>v36</th>\n",
       "      <th>v37</th>\n",
       "      <th>v38</th>\n",
       "      <th>v39</th>\n",
       "      <th>v40</th>\n",
       "      <th>v41</th>\n",
       "      <th>v42</th>\n",
       "      <th>v43</th>\n",
       "      <th>v44</th>\n",
       "      <th>v45</th>\n",
       "      <th>v46</th>\n",
       "      <th>v47</th>\n",
       "      <th>v48</th>\n",
       "      <th>v49</th>\n",
       "      <th>v50</th>\n",
       "      <th>v51</th>\n",
       "      <th>v52</th>\n",
       "      <th>v53</th>\n",
       "      <th>v54</th>\n",
       "      <th>v55</th>\n",
       "      <th>v56</th>\n",
       "      <th>v57</th>\n",
       "      <th>v58</th>\n",
       "      <th>v59</th>\n",
       "      <th>v60</th>\n",
       "    </tr>\n",
       "  </thead>\n",
       "  <tbody>\n",
       "    <tr>\n",
       "      <th>count</th>\n",
       "      <td>208.000000</td>\n",
       "      <td>208.000000</td>\n",
       "      <td>208.000000</td>\n",
       "      <td>208.000000</td>\n",
       "      <td>208.000000</td>\n",
       "      <td>208.000000</td>\n",
       "      <td>208.000000</td>\n",
       "      <td>208.000000</td>\n",
       "      <td>208.000000</td>\n",
       "      <td>208.000000</td>\n",
       "      <td>208.000000</td>\n",
       "      <td>208.000000</td>\n",
       "      <td>208.000000</td>\n",
       "      <td>208.000000</td>\n",
       "      <td>208.000000</td>\n",
       "      <td>208.000000</td>\n",
       "      <td>208.000000</td>\n",
       "      <td>208.000000</td>\n",
       "      <td>208.000000</td>\n",
       "      <td>208.000000</td>\n",
       "      <td>208.000000</td>\n",
       "      <td>208.000000</td>\n",
       "      <td>208.000000</td>\n",
       "      <td>208.000000</td>\n",
       "      <td>208.000000</td>\n",
       "      <td>...</td>\n",
       "      <td>208.000000</td>\n",
       "      <td>208.000000</td>\n",
       "      <td>208.000000</td>\n",
       "      <td>208.000000</td>\n",
       "      <td>208.000000</td>\n",
       "      <td>208.000000</td>\n",
       "      <td>208.000000</td>\n",
       "      <td>208.000000</td>\n",
       "      <td>208.000000</td>\n",
       "      <td>208.000000</td>\n",
       "      <td>208.000000</td>\n",
       "      <td>208.000000</td>\n",
       "      <td>208.000000</td>\n",
       "      <td>208.000000</td>\n",
       "      <td>208.000000</td>\n",
       "      <td>208.000000</td>\n",
       "      <td>208.000000</td>\n",
       "      <td>208.000000</td>\n",
       "      <td>208.000000</td>\n",
       "      <td>208.000000</td>\n",
       "      <td>208.000000</td>\n",
       "      <td>208.000000</td>\n",
       "      <td>208.000000</td>\n",
       "      <td>208.000000</td>\n",
       "      <td>208.000000</td>\n",
       "    </tr>\n",
       "    <tr>\n",
       "      <th>mean</th>\n",
       "      <td>0.029164</td>\n",
       "      <td>0.038437</td>\n",
       "      <td>0.043832</td>\n",
       "      <td>0.053892</td>\n",
       "      <td>0.075202</td>\n",
       "      <td>0.104570</td>\n",
       "      <td>0.121747</td>\n",
       "      <td>0.134799</td>\n",
       "      <td>0.178003</td>\n",
       "      <td>0.208259</td>\n",
       "      <td>0.236013</td>\n",
       "      <td>0.250221</td>\n",
       "      <td>0.273305</td>\n",
       "      <td>0.296568</td>\n",
       "      <td>0.320201</td>\n",
       "      <td>0.378487</td>\n",
       "      <td>0.415983</td>\n",
       "      <td>0.452318</td>\n",
       "      <td>0.504812</td>\n",
       "      <td>0.563047</td>\n",
       "      <td>0.609060</td>\n",
       "      <td>0.624275</td>\n",
       "      <td>0.646975</td>\n",
       "      <td>0.672654</td>\n",
       "      <td>0.675424</td>\n",
       "      <td>...</td>\n",
       "      <td>0.384848</td>\n",
       "      <td>0.363807</td>\n",
       "      <td>0.339657</td>\n",
       "      <td>0.325800</td>\n",
       "      <td>0.311207</td>\n",
       "      <td>0.289252</td>\n",
       "      <td>0.278293</td>\n",
       "      <td>0.246542</td>\n",
       "      <td>0.214075</td>\n",
       "      <td>0.197232</td>\n",
       "      <td>0.160631</td>\n",
       "      <td>0.122453</td>\n",
       "      <td>0.091424</td>\n",
       "      <td>0.051929</td>\n",
       "      <td>0.020424</td>\n",
       "      <td>0.016069</td>\n",
       "      <td>0.013420</td>\n",
       "      <td>0.010709</td>\n",
       "      <td>0.010941</td>\n",
       "      <td>0.009290</td>\n",
       "      <td>0.008222</td>\n",
       "      <td>0.007820</td>\n",
       "      <td>0.007949</td>\n",
       "      <td>0.007941</td>\n",
       "      <td>0.006507</td>\n",
       "    </tr>\n",
       "    <tr>\n",
       "      <th>std</th>\n",
       "      <td>0.022991</td>\n",
       "      <td>0.032960</td>\n",
       "      <td>0.038428</td>\n",
       "      <td>0.046528</td>\n",
       "      <td>0.055552</td>\n",
       "      <td>0.059105</td>\n",
       "      <td>0.061788</td>\n",
       "      <td>0.085152</td>\n",
       "      <td>0.118387</td>\n",
       "      <td>0.134416</td>\n",
       "      <td>0.132705</td>\n",
       "      <td>0.140072</td>\n",
       "      <td>0.140962</td>\n",
       "      <td>0.164474</td>\n",
       "      <td>0.205427</td>\n",
       "      <td>0.232650</td>\n",
       "      <td>0.263677</td>\n",
       "      <td>0.261529</td>\n",
       "      <td>0.257988</td>\n",
       "      <td>0.262653</td>\n",
       "      <td>0.257818</td>\n",
       "      <td>0.255883</td>\n",
       "      <td>0.250175</td>\n",
       "      <td>0.239116</td>\n",
       "      <td>0.244926</td>\n",
       "      <td>...</td>\n",
       "      <td>0.264121</td>\n",
       "      <td>0.239912</td>\n",
       "      <td>0.212973</td>\n",
       "      <td>0.199075</td>\n",
       "      <td>0.178662</td>\n",
       "      <td>0.171111</td>\n",
       "      <td>0.168728</td>\n",
       "      <td>0.138993</td>\n",
       "      <td>0.133291</td>\n",
       "      <td>0.151628</td>\n",
       "      <td>0.133938</td>\n",
       "      <td>0.086953</td>\n",
       "      <td>0.062417</td>\n",
       "      <td>0.035954</td>\n",
       "      <td>0.013665</td>\n",
       "      <td>0.012008</td>\n",
       "      <td>0.009634</td>\n",
       "      <td>0.007060</td>\n",
       "      <td>0.007301</td>\n",
       "      <td>0.007088</td>\n",
       "      <td>0.005736</td>\n",
       "      <td>0.005785</td>\n",
       "      <td>0.006470</td>\n",
       "      <td>0.006181</td>\n",
       "      <td>0.005031</td>\n",
       "    </tr>\n",
       "    <tr>\n",
       "      <th>min</th>\n",
       "      <td>0.001500</td>\n",
       "      <td>0.000600</td>\n",
       "      <td>0.001500</td>\n",
       "      <td>0.005800</td>\n",
       "      <td>0.006700</td>\n",
       "      <td>0.010200</td>\n",
       "      <td>0.003300</td>\n",
       "      <td>0.005500</td>\n",
       "      <td>0.007500</td>\n",
       "      <td>0.011300</td>\n",
       "      <td>0.028900</td>\n",
       "      <td>0.023600</td>\n",
       "      <td>0.018400</td>\n",
       "      <td>0.027300</td>\n",
       "      <td>0.003100</td>\n",
       "      <td>0.016200</td>\n",
       "      <td>0.034900</td>\n",
       "      <td>0.037500</td>\n",
       "      <td>0.049400</td>\n",
       "      <td>0.065600</td>\n",
       "      <td>0.051200</td>\n",
       "      <td>0.021900</td>\n",
       "      <td>0.056300</td>\n",
       "      <td>0.023900</td>\n",
       "      <td>0.024000</td>\n",
       "      <td>...</td>\n",
       "      <td>0.008000</td>\n",
       "      <td>0.035100</td>\n",
       "      <td>0.038300</td>\n",
       "      <td>0.037100</td>\n",
       "      <td>0.011700</td>\n",
       "      <td>0.036000</td>\n",
       "      <td>0.005600</td>\n",
       "      <td>0.000000</td>\n",
       "      <td>0.000000</td>\n",
       "      <td>0.000000</td>\n",
       "      <td>0.000000</td>\n",
       "      <td>0.000000</td>\n",
       "      <td>0.000000</td>\n",
       "      <td>0.000000</td>\n",
       "      <td>0.000000</td>\n",
       "      <td>0.000000</td>\n",
       "      <td>0.000800</td>\n",
       "      <td>0.000500</td>\n",
       "      <td>0.001000</td>\n",
       "      <td>0.000600</td>\n",
       "      <td>0.000400</td>\n",
       "      <td>0.000300</td>\n",
       "      <td>0.000300</td>\n",
       "      <td>0.000100</td>\n",
       "      <td>0.000600</td>\n",
       "    </tr>\n",
       "    <tr>\n",
       "      <th>25%</th>\n",
       "      <td>0.013350</td>\n",
       "      <td>0.016450</td>\n",
       "      <td>0.018950</td>\n",
       "      <td>0.024375</td>\n",
       "      <td>0.038050</td>\n",
       "      <td>0.067025</td>\n",
       "      <td>0.080900</td>\n",
       "      <td>0.080425</td>\n",
       "      <td>0.097025</td>\n",
       "      <td>0.111275</td>\n",
       "      <td>0.129250</td>\n",
       "      <td>0.133475</td>\n",
       "      <td>0.166125</td>\n",
       "      <td>0.175175</td>\n",
       "      <td>0.164625</td>\n",
       "      <td>0.196300</td>\n",
       "      <td>0.205850</td>\n",
       "      <td>0.242075</td>\n",
       "      <td>0.299075</td>\n",
       "      <td>0.350625</td>\n",
       "      <td>0.399725</td>\n",
       "      <td>0.406925</td>\n",
       "      <td>0.450225</td>\n",
       "      <td>0.540725</td>\n",
       "      <td>0.525800</td>\n",
       "      <td>...</td>\n",
       "      <td>0.154350</td>\n",
       "      <td>0.160100</td>\n",
       "      <td>0.174275</td>\n",
       "      <td>0.173975</td>\n",
       "      <td>0.186450</td>\n",
       "      <td>0.163100</td>\n",
       "      <td>0.158900</td>\n",
       "      <td>0.155200</td>\n",
       "      <td>0.126875</td>\n",
       "      <td>0.094475</td>\n",
       "      <td>0.068550</td>\n",
       "      <td>0.064250</td>\n",
       "      <td>0.045125</td>\n",
       "      <td>0.026350</td>\n",
       "      <td>0.011550</td>\n",
       "      <td>0.008425</td>\n",
       "      <td>0.007275</td>\n",
       "      <td>0.005075</td>\n",
       "      <td>0.005375</td>\n",
       "      <td>0.004150</td>\n",
       "      <td>0.004400</td>\n",
       "      <td>0.003700</td>\n",
       "      <td>0.003600</td>\n",
       "      <td>0.003675</td>\n",
       "      <td>0.003100</td>\n",
       "    </tr>\n",
       "    <tr>\n",
       "      <th>50%</th>\n",
       "      <td>0.022800</td>\n",
       "      <td>0.030800</td>\n",
       "      <td>0.034300</td>\n",
       "      <td>0.044050</td>\n",
       "      <td>0.062500</td>\n",
       "      <td>0.092150</td>\n",
       "      <td>0.106950</td>\n",
       "      <td>0.112100</td>\n",
       "      <td>0.152250</td>\n",
       "      <td>0.182400</td>\n",
       "      <td>0.224800</td>\n",
       "      <td>0.249050</td>\n",
       "      <td>0.263950</td>\n",
       "      <td>0.281100</td>\n",
       "      <td>0.281700</td>\n",
       "      <td>0.304700</td>\n",
       "      <td>0.308400</td>\n",
       "      <td>0.368300</td>\n",
       "      <td>0.434950</td>\n",
       "      <td>0.542500</td>\n",
       "      <td>0.617700</td>\n",
       "      <td>0.664900</td>\n",
       "      <td>0.699700</td>\n",
       "      <td>0.698500</td>\n",
       "      <td>0.721100</td>\n",
       "      <td>...</td>\n",
       "      <td>0.321150</td>\n",
       "      <td>0.306300</td>\n",
       "      <td>0.312700</td>\n",
       "      <td>0.283500</td>\n",
       "      <td>0.278050</td>\n",
       "      <td>0.259500</td>\n",
       "      <td>0.245100</td>\n",
       "      <td>0.222550</td>\n",
       "      <td>0.177700</td>\n",
       "      <td>0.148000</td>\n",
       "      <td>0.121350</td>\n",
       "      <td>0.101650</td>\n",
       "      <td>0.078100</td>\n",
       "      <td>0.044700</td>\n",
       "      <td>0.017900</td>\n",
       "      <td>0.013900</td>\n",
       "      <td>0.011400</td>\n",
       "      <td>0.009550</td>\n",
       "      <td>0.009300</td>\n",
       "      <td>0.007500</td>\n",
       "      <td>0.006850</td>\n",
       "      <td>0.005950</td>\n",
       "      <td>0.005800</td>\n",
       "      <td>0.006400</td>\n",
       "      <td>0.005300</td>\n",
       "    </tr>\n",
       "    <tr>\n",
       "      <th>75%</th>\n",
       "      <td>0.035550</td>\n",
       "      <td>0.047950</td>\n",
       "      <td>0.057950</td>\n",
       "      <td>0.064500</td>\n",
       "      <td>0.100275</td>\n",
       "      <td>0.134125</td>\n",
       "      <td>0.154000</td>\n",
       "      <td>0.169600</td>\n",
       "      <td>0.233425</td>\n",
       "      <td>0.268700</td>\n",
       "      <td>0.301650</td>\n",
       "      <td>0.331250</td>\n",
       "      <td>0.351250</td>\n",
       "      <td>0.386175</td>\n",
       "      <td>0.452925</td>\n",
       "      <td>0.535725</td>\n",
       "      <td>0.659425</td>\n",
       "      <td>0.679050</td>\n",
       "      <td>0.731400</td>\n",
       "      <td>0.809325</td>\n",
       "      <td>0.816975</td>\n",
       "      <td>0.831975</td>\n",
       "      <td>0.848575</td>\n",
       "      <td>0.872175</td>\n",
       "      <td>0.873725</td>\n",
       "      <td>...</td>\n",
       "      <td>0.556525</td>\n",
       "      <td>0.518900</td>\n",
       "      <td>0.440550</td>\n",
       "      <td>0.434900</td>\n",
       "      <td>0.424350</td>\n",
       "      <td>0.387525</td>\n",
       "      <td>0.384250</td>\n",
       "      <td>0.324525</td>\n",
       "      <td>0.271750</td>\n",
       "      <td>0.231550</td>\n",
       "      <td>0.200375</td>\n",
       "      <td>0.154425</td>\n",
       "      <td>0.120100</td>\n",
       "      <td>0.068525</td>\n",
       "      <td>0.025275</td>\n",
       "      <td>0.020825</td>\n",
       "      <td>0.016725</td>\n",
       "      <td>0.014900</td>\n",
       "      <td>0.014500</td>\n",
       "      <td>0.012100</td>\n",
       "      <td>0.010575</td>\n",
       "      <td>0.010425</td>\n",
       "      <td>0.010350</td>\n",
       "      <td>0.010325</td>\n",
       "      <td>0.008525</td>\n",
       "    </tr>\n",
       "    <tr>\n",
       "      <th>max</th>\n",
       "      <td>0.137100</td>\n",
       "      <td>0.233900</td>\n",
       "      <td>0.305900</td>\n",
       "      <td>0.426400</td>\n",
       "      <td>0.401000</td>\n",
       "      <td>0.382300</td>\n",
       "      <td>0.372900</td>\n",
       "      <td>0.459000</td>\n",
       "      <td>0.682800</td>\n",
       "      <td>0.710600</td>\n",
       "      <td>0.734200</td>\n",
       "      <td>0.706000</td>\n",
       "      <td>0.713100</td>\n",
       "      <td>0.997000</td>\n",
       "      <td>1.000000</td>\n",
       "      <td>0.998800</td>\n",
       "      <td>1.000000</td>\n",
       "      <td>1.000000</td>\n",
       "      <td>1.000000</td>\n",
       "      <td>1.000000</td>\n",
       "      <td>1.000000</td>\n",
       "      <td>1.000000</td>\n",
       "      <td>1.000000</td>\n",
       "      <td>1.000000</td>\n",
       "      <td>1.000000</td>\n",
       "      <td>...</td>\n",
       "      <td>1.000000</td>\n",
       "      <td>0.949700</td>\n",
       "      <td>1.000000</td>\n",
       "      <td>0.985700</td>\n",
       "      <td>0.929700</td>\n",
       "      <td>0.899500</td>\n",
       "      <td>0.824600</td>\n",
       "      <td>0.773300</td>\n",
       "      <td>0.776200</td>\n",
       "      <td>0.703400</td>\n",
       "      <td>0.729200</td>\n",
       "      <td>0.552200</td>\n",
       "      <td>0.333900</td>\n",
       "      <td>0.198100</td>\n",
       "      <td>0.082500</td>\n",
       "      <td>0.100400</td>\n",
       "      <td>0.070900</td>\n",
       "      <td>0.039000</td>\n",
       "      <td>0.035200</td>\n",
       "      <td>0.044700</td>\n",
       "      <td>0.039400</td>\n",
       "      <td>0.035500</td>\n",
       "      <td>0.044000</td>\n",
       "      <td>0.036400</td>\n",
       "      <td>0.043900</td>\n",
       "    </tr>\n",
       "  </tbody>\n",
       "</table>\n",
       "<p>8 rows × 60 columns</p>\n",
       "</div>"
      ],
      "text/plain": [
       "               v1          v2          v3          v4          v5          v6  \\\n",
       "count  208.000000  208.000000  208.000000  208.000000  208.000000  208.000000   \n",
       "mean     0.029164    0.038437    0.043832    0.053892    0.075202    0.104570   \n",
       "std      0.022991    0.032960    0.038428    0.046528    0.055552    0.059105   \n",
       "min      0.001500    0.000600    0.001500    0.005800    0.006700    0.010200   \n",
       "25%      0.013350    0.016450    0.018950    0.024375    0.038050    0.067025   \n",
       "50%      0.022800    0.030800    0.034300    0.044050    0.062500    0.092150   \n",
       "75%      0.035550    0.047950    0.057950    0.064500    0.100275    0.134125   \n",
       "max      0.137100    0.233900    0.305900    0.426400    0.401000    0.382300   \n",
       "\n",
       "               v7          v8          v9         v10         v11         v12  \\\n",
       "count  208.000000  208.000000  208.000000  208.000000  208.000000  208.000000   \n",
       "mean     0.121747    0.134799    0.178003    0.208259    0.236013    0.250221   \n",
       "std      0.061788    0.085152    0.118387    0.134416    0.132705    0.140072   \n",
       "min      0.003300    0.005500    0.007500    0.011300    0.028900    0.023600   \n",
       "25%      0.080900    0.080425    0.097025    0.111275    0.129250    0.133475   \n",
       "50%      0.106950    0.112100    0.152250    0.182400    0.224800    0.249050   \n",
       "75%      0.154000    0.169600    0.233425    0.268700    0.301650    0.331250   \n",
       "max      0.372900    0.459000    0.682800    0.710600    0.734200    0.706000   \n",
       "\n",
       "              v13         v14         v15         v16         v17         v18  \\\n",
       "count  208.000000  208.000000  208.000000  208.000000  208.000000  208.000000   \n",
       "mean     0.273305    0.296568    0.320201    0.378487    0.415983    0.452318   \n",
       "std      0.140962    0.164474    0.205427    0.232650    0.263677    0.261529   \n",
       "min      0.018400    0.027300    0.003100    0.016200    0.034900    0.037500   \n",
       "25%      0.166125    0.175175    0.164625    0.196300    0.205850    0.242075   \n",
       "50%      0.263950    0.281100    0.281700    0.304700    0.308400    0.368300   \n",
       "75%      0.351250    0.386175    0.452925    0.535725    0.659425    0.679050   \n",
       "max      0.713100    0.997000    1.000000    0.998800    1.000000    1.000000   \n",
       "\n",
       "              v19         v20         v21         v22         v23         v24  \\\n",
       "count  208.000000  208.000000  208.000000  208.000000  208.000000  208.000000   \n",
       "mean     0.504812    0.563047    0.609060    0.624275    0.646975    0.672654   \n",
       "std      0.257988    0.262653    0.257818    0.255883    0.250175    0.239116   \n",
       "min      0.049400    0.065600    0.051200    0.021900    0.056300    0.023900   \n",
       "25%      0.299075    0.350625    0.399725    0.406925    0.450225    0.540725   \n",
       "50%      0.434950    0.542500    0.617700    0.664900    0.699700    0.698500   \n",
       "75%      0.731400    0.809325    0.816975    0.831975    0.848575    0.872175   \n",
       "max      1.000000    1.000000    1.000000    1.000000    1.000000    1.000000   \n",
       "\n",
       "              v25  ...         v36         v37         v38         v39  \\\n",
       "count  208.000000  ...  208.000000  208.000000  208.000000  208.000000   \n",
       "mean     0.675424  ...    0.384848    0.363807    0.339657    0.325800   \n",
       "std      0.244926  ...    0.264121    0.239912    0.212973    0.199075   \n",
       "min      0.024000  ...    0.008000    0.035100    0.038300    0.037100   \n",
       "25%      0.525800  ...    0.154350    0.160100    0.174275    0.173975   \n",
       "50%      0.721100  ...    0.321150    0.306300    0.312700    0.283500   \n",
       "75%      0.873725  ...    0.556525    0.518900    0.440550    0.434900   \n",
       "max      1.000000  ...    1.000000    0.949700    1.000000    0.985700   \n",
       "\n",
       "              v40         v41         v42         v43         v44         v45  \\\n",
       "count  208.000000  208.000000  208.000000  208.000000  208.000000  208.000000   \n",
       "mean     0.311207    0.289252    0.278293    0.246542    0.214075    0.197232   \n",
       "std      0.178662    0.171111    0.168728    0.138993    0.133291    0.151628   \n",
       "min      0.011700    0.036000    0.005600    0.000000    0.000000    0.000000   \n",
       "25%      0.186450    0.163100    0.158900    0.155200    0.126875    0.094475   \n",
       "50%      0.278050    0.259500    0.245100    0.222550    0.177700    0.148000   \n",
       "75%      0.424350    0.387525    0.384250    0.324525    0.271750    0.231550   \n",
       "max      0.929700    0.899500    0.824600    0.773300    0.776200    0.703400   \n",
       "\n",
       "              v46         v47         v48         v49         v50         v51  \\\n",
       "count  208.000000  208.000000  208.000000  208.000000  208.000000  208.000000   \n",
       "mean     0.160631    0.122453    0.091424    0.051929    0.020424    0.016069   \n",
       "std      0.133938    0.086953    0.062417    0.035954    0.013665    0.012008   \n",
       "min      0.000000    0.000000    0.000000    0.000000    0.000000    0.000000   \n",
       "25%      0.068550    0.064250    0.045125    0.026350    0.011550    0.008425   \n",
       "50%      0.121350    0.101650    0.078100    0.044700    0.017900    0.013900   \n",
       "75%      0.200375    0.154425    0.120100    0.068525    0.025275    0.020825   \n",
       "max      0.729200    0.552200    0.333900    0.198100    0.082500    0.100400   \n",
       "\n",
       "              v52         v53         v54         v55         v56         v57  \\\n",
       "count  208.000000  208.000000  208.000000  208.000000  208.000000  208.000000   \n",
       "mean     0.013420    0.010709    0.010941    0.009290    0.008222    0.007820   \n",
       "std      0.009634    0.007060    0.007301    0.007088    0.005736    0.005785   \n",
       "min      0.000800    0.000500    0.001000    0.000600    0.000400    0.000300   \n",
       "25%      0.007275    0.005075    0.005375    0.004150    0.004400    0.003700   \n",
       "50%      0.011400    0.009550    0.009300    0.007500    0.006850    0.005950   \n",
       "75%      0.016725    0.014900    0.014500    0.012100    0.010575    0.010425   \n",
       "max      0.070900    0.039000    0.035200    0.044700    0.039400    0.035500   \n",
       "\n",
       "              v58         v59         v60  \n",
       "count  208.000000  208.000000  208.000000  \n",
       "mean     0.007949    0.007941    0.006507  \n",
       "std      0.006470    0.006181    0.005031  \n",
       "min      0.000300    0.000100    0.000600  \n",
       "25%      0.003600    0.003675    0.003100  \n",
       "50%      0.005800    0.006400    0.005300  \n",
       "75%      0.010350    0.010325    0.008525  \n",
       "max      0.044000    0.036400    0.043900  \n",
       "\n",
       "[8 rows x 60 columns]"
      ]
     },
     "execution_count": 8,
     "metadata": {},
     "output_type": "execute_result"
    }
   ],
   "source": [
    "df.describe()"
   ]
  },
  {
   "cell_type": "markdown",
   "metadata": {
    "id": "qEZxdLHII3gO"
   },
   "source": [
    "From the ```df.describe()``` function, it looks like the dataset doesn't have any outliers."
   ]
  },
  {
   "cell_type": "markdown",
   "metadata": {
    "id": "iHjRLaYUI3gP"
   },
   "source": [
    "# 5. Exploratory Data Analysis\n",
    "<a id=section5></a>"
   ]
  },
  {
   "cell_type": "markdown",
   "metadata": {
    "id": "P24qCpLPI3gQ"
   },
   "source": [
    "## 5.1 Re-engineering the Target Variable column:\n",
    "<a id=section51></a>"
   ]
  },
  {
   "cell_type": "markdown",
   "metadata": {
    "id": "fVNsaQAmI3gR"
   },
   "source": [
    "#### Rock, R is give the value 0 and Mine, M is given the value 1"
   ]
  },
  {
   "cell_type": "code",
   "execution_count": 9,
   "metadata": {
    "colab": {
     "base_uri": "https://localhost:8080/"
    },
    "executionInfo": {
     "elapsed": 3152,
     "status": "ok",
     "timestamp": 1604063656296,
     "user": {
      "displayName": "Avinash Shan Monteiro",
      "photoUrl": "https://lh3.googleusercontent.com/a-/AOh14GhdXz_vydwJJcfCE9FwqTa-bepmD2utpymafyGVRA=s64",
      "userId": "06625822810889763391"
     },
     "user_tz": -330
    },
    "id": "hYPmhcvnI3gS",
    "outputId": "f540602c-5083-40b4-944c-5ada9056d000"
   },
   "outputs": [
    {
     "name": "stdout",
     "output_type": "stream",
     "text": [
      "208\n"
     ]
    }
   ],
   "source": [
    "A=df['Class']\n",
    "A=list(A)\n",
    "print(len(A))"
   ]
  },
  {
   "cell_type": "code",
   "execution_count": 10,
   "metadata": {
    "colab": {
     "base_uri": "https://localhost:8080/"
    },
    "executionInfo": {
     "elapsed": 3144,
     "status": "ok",
     "timestamp": 1604063656298,
     "user": {
      "displayName": "Avinash Shan Monteiro",
      "photoUrl": "https://lh3.googleusercontent.com/a-/AOh14GhdXz_vydwJJcfCE9FwqTa-bepmD2utpymafyGVRA=s64",
      "userId": "06625822810889763391"
     },
     "user_tz": -330
    },
    "id": "ODmtsTREI3gX",
    "outputId": "748c0c5b-91d6-4969-f423-0a7db882021d"
   },
   "outputs": [
    {
     "name": "stdout",
     "output_type": "stream",
     "text": [
      "208\n",
      "208\n",
      "['R', 'R', 'R', 'R', 'R', 'R', 'R', 'R', 'R', 'R', 'R', 'R', 'R', 'R', 'R', 'R', 'R', 'R', 'R', 'R', 'R', 'R', 'R', 'R', 'R', 'R', 'R', 'R', 'R', 'R', 'R', 'R', 'R', 'R', 'R', 'R', 'R', 'R', 'R', 'R', 'R', 'R', 'R', 'R', 'R', 'R', 'R', 'R', 'R', 'R', 'R', 'R', 'R', 'R', 'R', 'R', 'R', 'R', 'R', 'R', 'R', 'R', 'R', 'R', 'R', 'R', 'R', 'R', 'R', 'R', 'R', 'R', 'R', 'R', 'R', 'R', 'R', 'R', 'R', 'R', 'R', 'R', 'R', 'R', 'R', 'R', 'R', 'R', 'R', 'R', 'R', 'R', 'R', 'R', 'R', 'R', 'R', 'M', 'M', 'M', 'M', 'M', 'M', 'M', 'M', 'M', 'M', 'M', 'M', 'M', 'M', 'M', 'M', 'M', 'M', 'M', 'M', 'M', 'M', 'M', 'M', 'M', 'M', 'M', 'M', 'M', 'M', 'M', 'M', 'M', 'M', 'M', 'M', 'M', 'M', 'M', 'M', 'M', 'M', 'M', 'M', 'M', 'M', 'M', 'M', 'M', 'M', 'M', 'M', 'M', 'M', 'M', 'M', 'M', 'M', 'M', 'M', 'M', 'M', 'M', 'M', 'M', 'M', 'M', 'M', 'M', 'M', 'M', 'M', 'M', 'M', 'M', 'M', 'M', 'M', 'M', 'M', 'M', 'M', 'M', 'M', 'M', 'M', 'M', 'M', 'M', 'M', 'M', 'M', 'M', 'M', 'M', 'M', 'M', 'M', 'M', 'M', 'M', 'M', 'M', 'M', 'M', 'M', 'M', 'M', 'M', 'M', 'M'] [0, 0, 0, 0, 0, 0, 0, 0, 0, 0, 0, 0, 0, 0, 0, 0, 0, 0, 0, 0, 0, 0, 0, 0, 0, 0, 0, 0, 0, 0, 0, 0, 0, 0, 0, 0, 0, 0, 0, 0, 0, 0, 0, 0, 0, 0, 0, 0, 0, 0, 0, 0, 0, 0, 0, 0, 0, 0, 0, 0, 0, 0, 0, 0, 0, 0, 0, 0, 0, 0, 0, 0, 0, 0, 0, 0, 0, 0, 0, 0, 0, 0, 0, 0, 0, 0, 0, 0, 0, 0, 0, 0, 0, 0, 0, 0, 0, 1, 1, 1, 1, 1, 1, 1, 1, 1, 1, 1, 1, 1, 1, 1, 1, 1, 1, 1, 1, 1, 1, 1, 1, 1, 1, 1, 1, 1, 1, 1, 1, 1, 1, 1, 1, 1, 1, 1, 1, 1, 1, 1, 1, 1, 1, 1, 1, 1, 1, 1, 1, 1, 1, 1, 1, 1, 1, 1, 1, 1, 1, 1, 1, 1, 1, 1, 1, 1, 1, 1, 1, 1, 1, 1, 1, 1, 1, 1, 1, 1, 1, 1, 1, 1, 1, 1, 1, 1, 1, 1, 1, 1, 1, 1, 1, 1, 1, 1, 1, 1, 1, 1, 1, 1, 1, 1, 1, 1, 1, 1]\n"
     ]
    }
   ],
   "source": [
    "i=0\n",
    "B=[]\n",
    "while i<208:\n",
    "    if A[i]==str('R'):\n",
    "        B.append(0)\n",
    "    else:\n",
    "        B.append(1)\n",
    "    i+=1\n",
    "print(len(A))\n",
    "print(len(B))\n",
    "print(A,B)"
   ]
  },
  {
   "cell_type": "code",
   "execution_count": 11,
   "metadata": {
    "colab": {
     "base_uri": "https://localhost:8080/",
     "height": 204
    },
    "executionInfo": {
     "elapsed": 3134,
     "status": "ok",
     "timestamp": 1604063656301,
     "user": {
      "displayName": "Avinash Shan Monteiro",
      "photoUrl": "https://lh3.googleusercontent.com/a-/AOh14GhdXz_vydwJJcfCE9FwqTa-bepmD2utpymafyGVRA=s64",
      "userId": "06625822810889763391"
     },
     "user_tz": -330
    },
    "id": "9loXjRF-I3gd",
    "outputId": "513756a1-a315-418c-fcb3-ea08b6a051be"
   },
   "outputs": [
    {
     "data": {
      "text/html": [
       "<div>\n",
       "<style scoped>\n",
       "    .dataframe tbody tr th:only-of-type {\n",
       "        vertical-align: middle;\n",
       "    }\n",
       "\n",
       "    .dataframe tbody tr th {\n",
       "        vertical-align: top;\n",
       "    }\n",
       "\n",
       "    .dataframe thead th {\n",
       "        text-align: right;\n",
       "    }\n",
       "</style>\n",
       "<table border=\"1\" class=\"dataframe\">\n",
       "  <thead>\n",
       "    <tr style=\"text-align: right;\">\n",
       "      <th></th>\n",
       "      <th>0</th>\n",
       "    </tr>\n",
       "  </thead>\n",
       "  <tbody>\n",
       "    <tr>\n",
       "      <th>0</th>\n",
       "      <td>0</td>\n",
       "    </tr>\n",
       "    <tr>\n",
       "      <th>1</th>\n",
       "      <td>0</td>\n",
       "    </tr>\n",
       "    <tr>\n",
       "      <th>2</th>\n",
       "      <td>0</td>\n",
       "    </tr>\n",
       "    <tr>\n",
       "      <th>3</th>\n",
       "      <td>0</td>\n",
       "    </tr>\n",
       "    <tr>\n",
       "      <th>4</th>\n",
       "      <td>0</td>\n",
       "    </tr>\n",
       "  </tbody>\n",
       "</table>\n",
       "</div>"
      ],
      "text/plain": [
       "   0\n",
       "0  0\n",
       "1  0\n",
       "2  0\n",
       "3  0\n",
       "4  0"
      ]
     },
     "execution_count": 11,
     "metadata": {},
     "output_type": "execute_result"
    }
   ],
   "source": [
    "df3 =pd.DataFrame(B)\n",
    "df3.head()"
   ]
  },
  {
   "cell_type": "code",
   "execution_count": 12,
   "metadata": {
    "executionInfo": {
     "elapsed": 3125,
     "status": "ok",
     "timestamp": 1604063656302,
     "user": {
      "displayName": "Avinash Shan Monteiro",
      "photoUrl": "https://lh3.googleusercontent.com/a-/AOh14GhdXz_vydwJJcfCE9FwqTa-bepmD2utpymafyGVRA=s64",
      "userId": "06625822810889763391"
     },
     "user_tz": -330
    },
    "id": "t4TQ4X_0I3gf"
   },
   "outputs": [],
   "source": [
    "df['Target']=df3"
   ]
  },
  {
   "cell_type": "code",
   "execution_count": 13,
   "metadata": {
    "colab": {
     "base_uri": "https://localhost:8080/",
     "height": 253
    },
    "executionInfo": {
     "elapsed": 3111,
     "status": "ok",
     "timestamp": 1604063656303,
     "user": {
      "displayName": "Avinash Shan Monteiro",
      "photoUrl": "https://lh3.googleusercontent.com/a-/AOh14GhdXz_vydwJJcfCE9FwqTa-bepmD2utpymafyGVRA=s64",
      "userId": "06625822810889763391"
     },
     "user_tz": -330
    },
    "id": "6wdIrVNfI3gj",
    "outputId": "a6c31918-d809-4ae1-bd3d-8e16b6b6b473"
   },
   "outputs": [
    {
     "data": {
      "text/html": [
       "<div>\n",
       "<style scoped>\n",
       "    .dataframe tbody tr th:only-of-type {\n",
       "        vertical-align: middle;\n",
       "    }\n",
       "\n",
       "    .dataframe tbody tr th {\n",
       "        vertical-align: top;\n",
       "    }\n",
       "\n",
       "    .dataframe thead th {\n",
       "        text-align: right;\n",
       "    }\n",
       "</style>\n",
       "<table border=\"1\" class=\"dataframe\">\n",
       "  <thead>\n",
       "    <tr style=\"text-align: right;\">\n",
       "      <th></th>\n",
       "      <th>v1</th>\n",
       "      <th>v2</th>\n",
       "      <th>v3</th>\n",
       "      <th>v4</th>\n",
       "      <th>v5</th>\n",
       "      <th>v6</th>\n",
       "      <th>v7</th>\n",
       "      <th>v8</th>\n",
       "      <th>v9</th>\n",
       "      <th>v10</th>\n",
       "      <th>v11</th>\n",
       "      <th>v12</th>\n",
       "      <th>v13</th>\n",
       "      <th>v14</th>\n",
       "      <th>v15</th>\n",
       "      <th>v16</th>\n",
       "      <th>v17</th>\n",
       "      <th>v18</th>\n",
       "      <th>v19</th>\n",
       "      <th>v20</th>\n",
       "      <th>v21</th>\n",
       "      <th>v22</th>\n",
       "      <th>v23</th>\n",
       "      <th>v24</th>\n",
       "      <th>v25</th>\n",
       "      <th>...</th>\n",
       "      <th>v38</th>\n",
       "      <th>v39</th>\n",
       "      <th>v40</th>\n",
       "      <th>v41</th>\n",
       "      <th>v42</th>\n",
       "      <th>v43</th>\n",
       "      <th>v44</th>\n",
       "      <th>v45</th>\n",
       "      <th>v46</th>\n",
       "      <th>v47</th>\n",
       "      <th>v48</th>\n",
       "      <th>v49</th>\n",
       "      <th>v50</th>\n",
       "      <th>v51</th>\n",
       "      <th>v52</th>\n",
       "      <th>v53</th>\n",
       "      <th>v54</th>\n",
       "      <th>v55</th>\n",
       "      <th>v56</th>\n",
       "      <th>v57</th>\n",
       "      <th>v58</th>\n",
       "      <th>v59</th>\n",
       "      <th>v60</th>\n",
       "      <th>Class</th>\n",
       "      <th>Target</th>\n",
       "    </tr>\n",
       "  </thead>\n",
       "  <tbody>\n",
       "    <tr>\n",
       "      <th>0</th>\n",
       "      <td>0.0200</td>\n",
       "      <td>0.0371</td>\n",
       "      <td>0.0428</td>\n",
       "      <td>0.0207</td>\n",
       "      <td>0.0954</td>\n",
       "      <td>0.0986</td>\n",
       "      <td>0.1539</td>\n",
       "      <td>0.1601</td>\n",
       "      <td>0.3109</td>\n",
       "      <td>0.2111</td>\n",
       "      <td>0.1609</td>\n",
       "      <td>0.1582</td>\n",
       "      <td>0.2238</td>\n",
       "      <td>0.0645</td>\n",
       "      <td>0.0660</td>\n",
       "      <td>0.2273</td>\n",
       "      <td>0.3100</td>\n",
       "      <td>0.2999</td>\n",
       "      <td>0.5078</td>\n",
       "      <td>0.4797</td>\n",
       "      <td>0.5783</td>\n",
       "      <td>0.5071</td>\n",
       "      <td>0.4328</td>\n",
       "      <td>0.5550</td>\n",
       "      <td>0.6711</td>\n",
       "      <td>...</td>\n",
       "      <td>0.6097</td>\n",
       "      <td>0.4943</td>\n",
       "      <td>0.2744</td>\n",
       "      <td>0.0510</td>\n",
       "      <td>0.2834</td>\n",
       "      <td>0.2825</td>\n",
       "      <td>0.4256</td>\n",
       "      <td>0.2641</td>\n",
       "      <td>0.1386</td>\n",
       "      <td>0.1051</td>\n",
       "      <td>0.1343</td>\n",
       "      <td>0.0383</td>\n",
       "      <td>0.0324</td>\n",
       "      <td>0.0232</td>\n",
       "      <td>0.0027</td>\n",
       "      <td>0.0065</td>\n",
       "      <td>0.0159</td>\n",
       "      <td>0.0072</td>\n",
       "      <td>0.0167</td>\n",
       "      <td>0.0180</td>\n",
       "      <td>0.0084</td>\n",
       "      <td>0.0090</td>\n",
       "      <td>0.0032</td>\n",
       "      <td>R</td>\n",
       "      <td>0</td>\n",
       "    </tr>\n",
       "    <tr>\n",
       "      <th>1</th>\n",
       "      <td>0.0453</td>\n",
       "      <td>0.0523</td>\n",
       "      <td>0.0843</td>\n",
       "      <td>0.0689</td>\n",
       "      <td>0.1183</td>\n",
       "      <td>0.2583</td>\n",
       "      <td>0.2156</td>\n",
       "      <td>0.3481</td>\n",
       "      <td>0.3337</td>\n",
       "      <td>0.2872</td>\n",
       "      <td>0.4918</td>\n",
       "      <td>0.6552</td>\n",
       "      <td>0.6919</td>\n",
       "      <td>0.7797</td>\n",
       "      <td>0.7464</td>\n",
       "      <td>0.9444</td>\n",
       "      <td>1.0000</td>\n",
       "      <td>0.8874</td>\n",
       "      <td>0.8024</td>\n",
       "      <td>0.7818</td>\n",
       "      <td>0.5212</td>\n",
       "      <td>0.4052</td>\n",
       "      <td>0.3957</td>\n",
       "      <td>0.3914</td>\n",
       "      <td>0.3250</td>\n",
       "      <td>...</td>\n",
       "      <td>0.1057</td>\n",
       "      <td>0.1840</td>\n",
       "      <td>0.1970</td>\n",
       "      <td>0.1674</td>\n",
       "      <td>0.0583</td>\n",
       "      <td>0.1401</td>\n",
       "      <td>0.1628</td>\n",
       "      <td>0.0621</td>\n",
       "      <td>0.0203</td>\n",
       "      <td>0.0530</td>\n",
       "      <td>0.0742</td>\n",
       "      <td>0.0409</td>\n",
       "      <td>0.0061</td>\n",
       "      <td>0.0125</td>\n",
       "      <td>0.0084</td>\n",
       "      <td>0.0089</td>\n",
       "      <td>0.0048</td>\n",
       "      <td>0.0094</td>\n",
       "      <td>0.0191</td>\n",
       "      <td>0.0140</td>\n",
       "      <td>0.0049</td>\n",
       "      <td>0.0052</td>\n",
       "      <td>0.0044</td>\n",
       "      <td>R</td>\n",
       "      <td>0</td>\n",
       "    </tr>\n",
       "    <tr>\n",
       "      <th>2</th>\n",
       "      <td>0.0262</td>\n",
       "      <td>0.0582</td>\n",
       "      <td>0.1099</td>\n",
       "      <td>0.1083</td>\n",
       "      <td>0.0974</td>\n",
       "      <td>0.2280</td>\n",
       "      <td>0.2431</td>\n",
       "      <td>0.3771</td>\n",
       "      <td>0.5598</td>\n",
       "      <td>0.6194</td>\n",
       "      <td>0.6333</td>\n",
       "      <td>0.7060</td>\n",
       "      <td>0.5544</td>\n",
       "      <td>0.5320</td>\n",
       "      <td>0.6479</td>\n",
       "      <td>0.6931</td>\n",
       "      <td>0.6759</td>\n",
       "      <td>0.7551</td>\n",
       "      <td>0.8929</td>\n",
       "      <td>0.8619</td>\n",
       "      <td>0.7974</td>\n",
       "      <td>0.6737</td>\n",
       "      <td>0.4293</td>\n",
       "      <td>0.3648</td>\n",
       "      <td>0.5331</td>\n",
       "      <td>...</td>\n",
       "      <td>0.6756</td>\n",
       "      <td>0.5375</td>\n",
       "      <td>0.4719</td>\n",
       "      <td>0.4647</td>\n",
       "      <td>0.2587</td>\n",
       "      <td>0.2129</td>\n",
       "      <td>0.2222</td>\n",
       "      <td>0.2111</td>\n",
       "      <td>0.0176</td>\n",
       "      <td>0.1348</td>\n",
       "      <td>0.0744</td>\n",
       "      <td>0.0130</td>\n",
       "      <td>0.0106</td>\n",
       "      <td>0.0033</td>\n",
       "      <td>0.0232</td>\n",
       "      <td>0.0166</td>\n",
       "      <td>0.0095</td>\n",
       "      <td>0.0180</td>\n",
       "      <td>0.0244</td>\n",
       "      <td>0.0316</td>\n",
       "      <td>0.0164</td>\n",
       "      <td>0.0095</td>\n",
       "      <td>0.0078</td>\n",
       "      <td>R</td>\n",
       "      <td>0</td>\n",
       "    </tr>\n",
       "    <tr>\n",
       "      <th>3</th>\n",
       "      <td>0.0100</td>\n",
       "      <td>0.0171</td>\n",
       "      <td>0.0623</td>\n",
       "      <td>0.0205</td>\n",
       "      <td>0.0205</td>\n",
       "      <td>0.0368</td>\n",
       "      <td>0.1098</td>\n",
       "      <td>0.1276</td>\n",
       "      <td>0.0598</td>\n",
       "      <td>0.1264</td>\n",
       "      <td>0.0881</td>\n",
       "      <td>0.1992</td>\n",
       "      <td>0.0184</td>\n",
       "      <td>0.2261</td>\n",
       "      <td>0.1729</td>\n",
       "      <td>0.2131</td>\n",
       "      <td>0.0693</td>\n",
       "      <td>0.2281</td>\n",
       "      <td>0.4060</td>\n",
       "      <td>0.3973</td>\n",
       "      <td>0.2741</td>\n",
       "      <td>0.3690</td>\n",
       "      <td>0.5556</td>\n",
       "      <td>0.4846</td>\n",
       "      <td>0.3140</td>\n",
       "      <td>...</td>\n",
       "      <td>0.8814</td>\n",
       "      <td>0.9857</td>\n",
       "      <td>0.9167</td>\n",
       "      <td>0.6121</td>\n",
       "      <td>0.5006</td>\n",
       "      <td>0.3210</td>\n",
       "      <td>0.3202</td>\n",
       "      <td>0.4295</td>\n",
       "      <td>0.3654</td>\n",
       "      <td>0.2655</td>\n",
       "      <td>0.1576</td>\n",
       "      <td>0.0681</td>\n",
       "      <td>0.0294</td>\n",
       "      <td>0.0241</td>\n",
       "      <td>0.0121</td>\n",
       "      <td>0.0036</td>\n",
       "      <td>0.0150</td>\n",
       "      <td>0.0085</td>\n",
       "      <td>0.0073</td>\n",
       "      <td>0.0050</td>\n",
       "      <td>0.0044</td>\n",
       "      <td>0.0040</td>\n",
       "      <td>0.0117</td>\n",
       "      <td>R</td>\n",
       "      <td>0</td>\n",
       "    </tr>\n",
       "    <tr>\n",
       "      <th>4</th>\n",
       "      <td>0.0762</td>\n",
       "      <td>0.0666</td>\n",
       "      <td>0.0481</td>\n",
       "      <td>0.0394</td>\n",
       "      <td>0.0590</td>\n",
       "      <td>0.0649</td>\n",
       "      <td>0.1209</td>\n",
       "      <td>0.2467</td>\n",
       "      <td>0.3564</td>\n",
       "      <td>0.4459</td>\n",
       "      <td>0.4152</td>\n",
       "      <td>0.3952</td>\n",
       "      <td>0.4256</td>\n",
       "      <td>0.4135</td>\n",
       "      <td>0.4528</td>\n",
       "      <td>0.5326</td>\n",
       "      <td>0.7306</td>\n",
       "      <td>0.6193</td>\n",
       "      <td>0.2032</td>\n",
       "      <td>0.4636</td>\n",
       "      <td>0.4148</td>\n",
       "      <td>0.4292</td>\n",
       "      <td>0.5730</td>\n",
       "      <td>0.5399</td>\n",
       "      <td>0.3161</td>\n",
       "      <td>...</td>\n",
       "      <td>0.3217</td>\n",
       "      <td>0.2828</td>\n",
       "      <td>0.2430</td>\n",
       "      <td>0.1979</td>\n",
       "      <td>0.2444</td>\n",
       "      <td>0.1847</td>\n",
       "      <td>0.0841</td>\n",
       "      <td>0.0692</td>\n",
       "      <td>0.0528</td>\n",
       "      <td>0.0357</td>\n",
       "      <td>0.0085</td>\n",
       "      <td>0.0230</td>\n",
       "      <td>0.0046</td>\n",
       "      <td>0.0156</td>\n",
       "      <td>0.0031</td>\n",
       "      <td>0.0054</td>\n",
       "      <td>0.0105</td>\n",
       "      <td>0.0110</td>\n",
       "      <td>0.0015</td>\n",
       "      <td>0.0072</td>\n",
       "      <td>0.0048</td>\n",
       "      <td>0.0107</td>\n",
       "      <td>0.0094</td>\n",
       "      <td>R</td>\n",
       "      <td>0</td>\n",
       "    </tr>\n",
       "  </tbody>\n",
       "</table>\n",
       "<p>5 rows × 62 columns</p>\n",
       "</div>"
      ],
      "text/plain": [
       "       v1      v2      v3      v4      v5      v6      v7      v8      v9  \\\n",
       "0  0.0200  0.0371  0.0428  0.0207  0.0954  0.0986  0.1539  0.1601  0.3109   \n",
       "1  0.0453  0.0523  0.0843  0.0689  0.1183  0.2583  0.2156  0.3481  0.3337   \n",
       "2  0.0262  0.0582  0.1099  0.1083  0.0974  0.2280  0.2431  0.3771  0.5598   \n",
       "3  0.0100  0.0171  0.0623  0.0205  0.0205  0.0368  0.1098  0.1276  0.0598   \n",
       "4  0.0762  0.0666  0.0481  0.0394  0.0590  0.0649  0.1209  0.2467  0.3564   \n",
       "\n",
       "      v10     v11     v12     v13     v14     v15     v16     v17     v18  \\\n",
       "0  0.2111  0.1609  0.1582  0.2238  0.0645  0.0660  0.2273  0.3100  0.2999   \n",
       "1  0.2872  0.4918  0.6552  0.6919  0.7797  0.7464  0.9444  1.0000  0.8874   \n",
       "2  0.6194  0.6333  0.7060  0.5544  0.5320  0.6479  0.6931  0.6759  0.7551   \n",
       "3  0.1264  0.0881  0.1992  0.0184  0.2261  0.1729  0.2131  0.0693  0.2281   \n",
       "4  0.4459  0.4152  0.3952  0.4256  0.4135  0.4528  0.5326  0.7306  0.6193   \n",
       "\n",
       "      v19     v20     v21     v22     v23     v24     v25  ...     v38  \\\n",
       "0  0.5078  0.4797  0.5783  0.5071  0.4328  0.5550  0.6711  ...  0.6097   \n",
       "1  0.8024  0.7818  0.5212  0.4052  0.3957  0.3914  0.3250  ...  0.1057   \n",
       "2  0.8929  0.8619  0.7974  0.6737  0.4293  0.3648  0.5331  ...  0.6756   \n",
       "3  0.4060  0.3973  0.2741  0.3690  0.5556  0.4846  0.3140  ...  0.8814   \n",
       "4  0.2032  0.4636  0.4148  0.4292  0.5730  0.5399  0.3161  ...  0.3217   \n",
       "\n",
       "      v39     v40     v41     v42     v43     v44     v45     v46     v47  \\\n",
       "0  0.4943  0.2744  0.0510  0.2834  0.2825  0.4256  0.2641  0.1386  0.1051   \n",
       "1  0.1840  0.1970  0.1674  0.0583  0.1401  0.1628  0.0621  0.0203  0.0530   \n",
       "2  0.5375  0.4719  0.4647  0.2587  0.2129  0.2222  0.2111  0.0176  0.1348   \n",
       "3  0.9857  0.9167  0.6121  0.5006  0.3210  0.3202  0.4295  0.3654  0.2655   \n",
       "4  0.2828  0.2430  0.1979  0.2444  0.1847  0.0841  0.0692  0.0528  0.0357   \n",
       "\n",
       "      v48     v49     v50     v51     v52     v53     v54     v55     v56  \\\n",
       "0  0.1343  0.0383  0.0324  0.0232  0.0027  0.0065  0.0159  0.0072  0.0167   \n",
       "1  0.0742  0.0409  0.0061  0.0125  0.0084  0.0089  0.0048  0.0094  0.0191   \n",
       "2  0.0744  0.0130  0.0106  0.0033  0.0232  0.0166  0.0095  0.0180  0.0244   \n",
       "3  0.1576  0.0681  0.0294  0.0241  0.0121  0.0036  0.0150  0.0085  0.0073   \n",
       "4  0.0085  0.0230  0.0046  0.0156  0.0031  0.0054  0.0105  0.0110  0.0015   \n",
       "\n",
       "      v57     v58     v59     v60  Class  Target  \n",
       "0  0.0180  0.0084  0.0090  0.0032      R       0  \n",
       "1  0.0140  0.0049  0.0052  0.0044      R       0  \n",
       "2  0.0316  0.0164  0.0095  0.0078      R       0  \n",
       "3  0.0050  0.0044  0.0040  0.0117      R       0  \n",
       "4  0.0072  0.0048  0.0107  0.0094      R       0  \n",
       "\n",
       "[5 rows x 62 columns]"
      ]
     },
     "execution_count": 13,
     "metadata": {},
     "output_type": "execute_result"
    }
   ],
   "source": [
    "df.head()"
   ]
  },
  {
   "cell_type": "markdown",
   "metadata": {
    "id": "-nilJeWTI3gn"
   },
   "source": [
    "## 5.2 Understanding the Distribution of independent variables\n",
    "<a id=section52></a>"
   ]
  },
  {
   "cell_type": "code",
   "execution_count": 14,
   "metadata": {
    "executionInfo": {
     "elapsed": 3097,
     "status": "ok",
     "timestamp": 1604063656304,
     "user": {
      "displayName": "Avinash Shan Monteiro",
      "photoUrl": "https://lh3.googleusercontent.com/a-/AOh14GhdXz_vydwJJcfCE9FwqTa-bepmD2utpymafyGVRA=s64",
      "userId": "06625822810889763391"
     },
     "user_tz": -330
    },
    "id": "iUG-5EC9I3gn"
   },
   "outputs": [],
   "source": [
    "columns=list(df.columns[:60])"
   ]
  },
  {
   "cell_type": "code",
   "execution_count": 15,
   "metadata": {
    "colab": {
     "base_uri": "https://localhost:8080/",
     "height": 1000
    },
    "executionInfo": {
     "elapsed": 115622,
     "status": "ok",
     "timestamp": 1604063768847,
     "user": {
      "displayName": "Avinash Shan Monteiro",
      "photoUrl": "https://lh3.googleusercontent.com/a-/AOh14GhdXz_vydwJJcfCE9FwqTa-bepmD2utpymafyGVRA=s64",
      "userId": "06625822810889763391"
     },
     "user_tz": -330
    },
    "id": "asYOiSsrI3gr",
    "outputId": "9a16d32f-3b51-4987-e0d1-76865c13e750"
   },
   "outputs": [
    {
     "data": {
      "image/png": "[encoded data removed]",
      "text/plain": [
       "<Figure size 1872x1872 with 60 Axes>"
      ]
     },
     "metadata": {},
     "output_type": "display_data"
    }
   ],
   "source": [
    "sns.set(style=\"darkgrid\", font_scale=1.6, color_codes=True)\n",
    "plt.figure(figsize=(26,26))\n",
    "i=1\n",
    "while i<=60:\n",
    "    plt.subplot(10,6,i, )\n",
    "    plt.hist(df[columns[i-1]])\n",
    "    plt.title(columns[i-1])\n",
    "    plt.tight_layout()\n",
    "    i+=1"
   ]
  },
  {
   "cell_type": "code",
   "execution_count": 16,
   "metadata": {
    "colab": {
     "base_uri": "https://localhost:8080/",
     "height": 1000
    },
    "executionInfo": {
     "elapsed": 132536,
     "status": "ok",
     "timestamp": 1604063785782,
     "user": {
      "displayName": "Avinash Shan Monteiro",
      "photoUrl": "https://lh3.googleusercontent.com/a-/AOh14GhdXz_vydwJJcfCE9FwqTa-bepmD2utpymafyGVRA=s64",
      "userId": "06625822810889763391"
     },
     "user_tz": -330
    },
    "id": "fuLhiUShI3gv",
    "outputId": "ced8a8f2-2652-4f0d-c9dd-98bf9872d14b"
   },
   "outputs": [
    {
     "data": {
      "image/png": "[encoded data removed]",
      "text/plain": [
       "<Figure size 1152x1152 with 60 Axes>"
      ]
     },
     "metadata": {},
     "output_type": "display_data"
    }
   ],
   "source": [
    "sns.set(style=\"darkgrid\", font_scale=1, color_codes=True)\n",
    "df[columns].plot(kind='density', subplots=True, layout=(10,6), sharex=False, legend=True, fontsize=1, figsize=(16,16))\n",
    "plt.tight_layout()\n",
    "plt.show()"
   ]
  },
  {
   "cell_type": "markdown",
   "metadata": {
    "id": "4YsNOn4kI3gx"
   },
   "source": [
    "From the above subplots we notice that all the variables are varying in between the range of 0 to a maximum value of 1. There are no outliers in the data. "
   ]
  },
  {
   "cell_type": "markdown",
   "metadata": {
    "id": "-QBJDjI4I3gx"
   },
   "source": [
    "## 5.3 Target Variable Analysis\n",
    "<a id=section53></a>"
   ]
  },
  {
   "cell_type": "markdown",
   "metadata": {
    "id": "FkbalITFI3gy"
   },
   "source": [
    "Let us check plot a count plot to study the balance of Target Variable"
   ]
  },
  {
   "cell_type": "code",
   "execution_count": 17,
   "metadata": {
    "colab": {
     "base_uri": "https://localhost:8080/",
     "height": 311
    },
    "executionInfo": {
     "elapsed": 132520,
     "status": "ok",
     "timestamp": 1604063785785,
     "user": {
      "displayName": "Avinash Shan Monteiro",
      "photoUrl": "https://lh3.googleusercontent.com/a-/AOh14GhdXz_vydwJJcfCE9FwqTa-bepmD2utpymafyGVRA=s64",
      "userId": "06625822810889763391"
     },
     "user_tz": -330
    },
    "id": "WkhnSwGNI3gy",
    "outputId": "4776c48d-697b-4078-9e06-dbd226d17a3c"
   },
   "outputs": [
    {
     "data": {
      "text/plain": [
       "<AxesSubplot:xlabel='Class', ylabel='count'>"
      ]
     },
     "execution_count": 17,
     "metadata": {},
     "output_type": "execute_result"
    },
    {
     "data": {
      "image/png": "[encoded data removed]",
      "text/plain": [
       "<Figure size 432x288 with 1 Axes>"
      ]
     },
     "metadata": {},
     "output_type": "display_data"
    }
   ],
   "source": [
    "sns.set(style=\"darkgrid\", font_scale=1.3, color_codes=True)\n",
    "sns.countplot(df['Class'])"
   ]
  },
  {
   "cell_type": "markdown",
   "metadata": {
    "id": "Nk-bKFNFI3g4"
   },
   "source": [
    "From the above plot it is clear to us that the dataset is neatly balanced"
   ]
  },
  {
   "cell_type": "markdown",
   "metadata": {
    "id": "7SZQLgrfI3g5"
   },
   "source": [
    "## 5.4 Pandas Profiling\n",
    "<a id=section54></a>"
   ]
  },
  {
   "cell_type": "markdown",
   "metadata": {
    "id": "oVFHrQmjI3g6"
   },
   "source": [
    "We will cary out a quick pandas profiling and understand if the dataset has any anomilies"
   ]
  },
  {
   "cell_type": "code",
   "execution_count": 18,
   "metadata": {
    "executionInfo": {
     "elapsed": 132509,
     "status": "ok",
     "timestamp": 1604063785790,
     "user": {
      "displayName": "Avinash Shan Monteiro",
      "photoUrl": "https://lh3.googleusercontent.com/a-/AOh14GhdXz_vydwJJcfCE9FwqTa-bepmD2utpymafyGVRA=s64",
      "userId": "06625822810889763391"
     },
     "user_tz": -330
    },
    "id": "qUrzbaIkI3g7"
   },
   "outputs": [],
   "source": [
    "profile=ProfileReport(df, minimal=True,explorative=True)"
   ]
  },
  {
   "cell_type": "code",
   "execution_count": 19,
   "metadata": {
    "executionInfo": {
     "elapsed": 132502,
     "status": "ok",
     "timestamp": 1604063785793,
     "user": {
      "displayName": "Avinash Shan Monteiro",
      "photoUrl": "https://lh3.googleusercontent.com/a-/AOh14GhdXz_vydwJJcfCE9FwqTa-bepmD2utpymafyGVRA=s64",
      "userId": "06625822810889763391"
     },
     "user_tz": -330
    },
    "id": "z39IANMvI3hA"
   },
   "outputs": [
    {
     "data": {
      "application/vnd.jupyter.widget-view+json": {
       "model_id": "b653939e04ca4d6bbc96da03b3b7f140",
       "version_major": 2,
       "version_minor": 0
      },
      "text/plain": [
       "HBox(children=(HTML(value='Summarize dataset'), FloatProgress(value=0.0, max=71.0), HTML(value='')))"
      ]
     },
     "metadata": {},
     "output_type": "display_data"
    },
    {
     "name": "stdout",
     "output_type": "stream",
     "text": [
      "\n"
     ]
    },
    {
     "data": {
      "application/vnd.jupyter.widget-view+json": {
       "model_id": "4951d09337334a0ebc5beb131a784800",
       "version_major": 2,
       "version_minor": 0
      },
      "text/plain": [
       "HBox(children=(HTML(value='Generate report structure'), FloatProgress(value=0.0, max=1.0), HTML(value='')))"
      ]
     },
     "metadata": {},
     "output_type": "display_data"
    },
    {
     "name": "stdout",
     "output_type": "stream",
     "text": [
      "\n"
     ]
    },
    {
     "data": {
      "application/vnd.jupyter.widget-view+json": {
       "model_id": "92ff6200d5d04fecb440e33fc67955ff",
       "version_major": 2,
       "version_minor": 0
      },
      "text/plain": [
       "HBox(children=(HTML(value='Render HTML'), FloatProgress(value=0.0, max=1.0), HTML(value='')))"
      ]
     },
     "metadata": {},
     "output_type": "display_data"
    },
    {
     "name": "stdout",
     "output_type": "stream",
     "text": [
      "\n"
     ]
    },
    {
     "data": {
      "application/vnd.jupyter.widget-view+json": {
       "model_id": "74531290312d4550a5bd7dc65912f045",
       "version_major": 2,
       "version_minor": 0
      },
      "text/plain": [
       "HBox(children=(HTML(value='Export report to file'), FloatProgress(value=0.0, max=1.0), HTML(value='')))"
      ]
     },
     "metadata": {},
     "output_type": "display_data"
    },
    {
     "name": "stdout",
     "output_type": "stream",
     "text": [
      "\n"
     ]
    }
   ],
   "source": [
    "profile.to_file('sonar_dataset_pandas_profiling.html')"
   ]
  },
  {
   "cell_type": "markdown",
   "metadata": {
    "id": "MQwvnlMGI3hC"
   },
   "source": [
    "### Summary from Pandas Profile Report"
   ]
  },
  {
   "cell_type": "markdown",
   "metadata": {
    "id": "5yH2gj9hI3hD"
   },
   "source": [
    "- There are no missing and duplicate values\n",
    "- Column ```V42``` has 100% unique values\n",
    "- Out of the two Classes , Rock and Meine, Mine data is slightly more than Rock data"
   ]
  },
  {
   "cell_type": "markdown",
   "metadata": {
    "id": "tm4v43QwI3hD"
   },
   "source": [
    "# 6. Dimensionality Reduction\n",
    "<a id=section6></a>"
   ]
  },
  {
   "cell_type": "markdown",
   "metadata": {
    "id": "5NEanyQrI3hE"
   },
   "source": [
    "Since the dataset comtains 60 independent variables, it is very difficult to build our ML prediction model with such huge columns.\n",
    "\n",
    "Therefore in order to carry out our analysis and understand the features, we need to carry our dimensionaly reduction and drop few features which are not very important for our model.\n",
    "\n",
    "We will carry out dimensionality reduction in two ways;\n",
    "- first by removing the columns which dont have any variance. If the column dont have any variation, then the column is not useful for our model.\n",
    "- Second by doin PCA(Principal Component Analysis on the balance independent variable columns"
   ]
  },
  {
   "cell_type": "markdown",
   "metadata": {
    "id": "5kAnR3YVI3hE"
   },
   "source": [
    "### Selection of the features for Dimensionality Reduction"
   ]
  },
  {
   "cell_type": "code",
   "execution_count": 20,
   "metadata": {
    "colab": {
     "base_uri": "https://localhost:8080/"
    },
    "executionInfo": {
     "elapsed": 132491,
     "status": "ok",
     "timestamp": 1604063785795,
     "user": {
      "displayName": "Avinash Shan Monteiro",
      "photoUrl": "https://lh3.googleusercontent.com/a-/AOh14GhdXz_vydwJJcfCE9FwqTa-bepmD2utpymafyGVRA=s64",
      "userId": "06625822810889763391"
     },
     "user_tz": -330
    },
    "id": "4Z_ci8KpI3hG",
    "outputId": "162f1f7f-3b2e-4bb2-dbe2-424289ded305"
   },
   "outputs": [
    {
     "name": "stdout",
     "output_type": "stream",
     "text": [
      "['v1', 'v2', 'v3', 'v4', 'v5', 'v6', 'v7', 'v8', 'v9', 'v10', 'v11', 'v12', 'v13', 'v14', 'v15', 'v16', 'v17', 'v18', 'v19', 'v20', 'v21', 'v22', 'v23', 'v24', 'v25', 'v26', 'v27', 'v28', 'v29', 'v30', 'v31', 'v32', 'v33', 'v34', 'v35', 'v36', 'v37', 'v38', 'v39', 'v40', 'v41', 'v42', 'v43', 'v44', 'v45', 'v46', 'v47', 'v48', 'v49', 'v50', 'v51', 'v52', 'v53', 'v54', 'v55', 'v56', 'v57', 'v58', 'v59', 'v60']\n"
     ]
    }
   ],
   "source": [
    "features=list(df.columns)\n",
    "features.remove('Class')\n",
    "features.remove('Target')\n",
    "print(features)"
   ]
  },
  {
   "cell_type": "code",
   "execution_count": 21,
   "metadata": {
    "colab": {
     "base_uri": "https://localhost:8080/",
     "height": 253
    },
    "executionInfo": {
     "elapsed": 132474,
     "status": "ok",
     "timestamp": 1604063785796,
     "user": {
      "displayName": "Avinash Shan Monteiro",
      "photoUrl": "https://lh3.googleusercontent.com/a-/AOh14GhdXz_vydwJJcfCE9FwqTa-bepmD2utpymafyGVRA=s64",
      "userId": "06625822810889763391"
     },
     "user_tz": -330
    },
    "id": "nO3Y-paVI3hJ",
    "outputId": "7e92c881-808d-4b85-b5cc-9095042361c1",
    "scrolled": true
   },
   "outputs": [
    {
     "data": {
      "text/html": [
       "<div>\n",
       "<style scoped>\n",
       "    .dataframe tbody tr th:only-of-type {\n",
       "        vertical-align: middle;\n",
       "    }\n",
       "\n",
       "    .dataframe tbody tr th {\n",
       "        vertical-align: top;\n",
       "    }\n",
       "\n",
       "    .dataframe thead th {\n",
       "        text-align: right;\n",
       "    }\n",
       "</style>\n",
       "<table border=\"1\" class=\"dataframe\">\n",
       "  <thead>\n",
       "    <tr style=\"text-align: right;\">\n",
       "      <th></th>\n",
       "      <th>v1</th>\n",
       "      <th>v2</th>\n",
       "      <th>v3</th>\n",
       "      <th>v4</th>\n",
       "      <th>v5</th>\n",
       "      <th>v6</th>\n",
       "      <th>v7</th>\n",
       "      <th>v8</th>\n",
       "      <th>v9</th>\n",
       "      <th>v10</th>\n",
       "      <th>v11</th>\n",
       "      <th>v12</th>\n",
       "      <th>v13</th>\n",
       "      <th>v14</th>\n",
       "      <th>v15</th>\n",
       "      <th>v16</th>\n",
       "      <th>v17</th>\n",
       "      <th>v18</th>\n",
       "      <th>v19</th>\n",
       "      <th>v20</th>\n",
       "      <th>v21</th>\n",
       "      <th>v22</th>\n",
       "      <th>v23</th>\n",
       "      <th>v24</th>\n",
       "      <th>v25</th>\n",
       "      <th>...</th>\n",
       "      <th>v36</th>\n",
       "      <th>v37</th>\n",
       "      <th>v38</th>\n",
       "      <th>v39</th>\n",
       "      <th>v40</th>\n",
       "      <th>v41</th>\n",
       "      <th>v42</th>\n",
       "      <th>v43</th>\n",
       "      <th>v44</th>\n",
       "      <th>v45</th>\n",
       "      <th>v46</th>\n",
       "      <th>v47</th>\n",
       "      <th>v48</th>\n",
       "      <th>v49</th>\n",
       "      <th>v50</th>\n",
       "      <th>v51</th>\n",
       "      <th>v52</th>\n",
       "      <th>v53</th>\n",
       "      <th>v54</th>\n",
       "      <th>v55</th>\n",
       "      <th>v56</th>\n",
       "      <th>v57</th>\n",
       "      <th>v58</th>\n",
       "      <th>v59</th>\n",
       "      <th>v60</th>\n",
       "    </tr>\n",
       "  </thead>\n",
       "  <tbody>\n",
       "    <tr>\n",
       "      <th>0</th>\n",
       "      <td>0.0200</td>\n",
       "      <td>0.0371</td>\n",
       "      <td>0.0428</td>\n",
       "      <td>0.0207</td>\n",
       "      <td>0.0954</td>\n",
       "      <td>0.0986</td>\n",
       "      <td>0.1539</td>\n",
       "      <td>0.1601</td>\n",
       "      <td>0.3109</td>\n",
       "      <td>0.2111</td>\n",
       "      <td>0.1609</td>\n",
       "      <td>0.1582</td>\n",
       "      <td>0.2238</td>\n",
       "      <td>0.0645</td>\n",
       "      <td>0.0660</td>\n",
       "      <td>0.2273</td>\n",
       "      <td>0.3100</td>\n",
       "      <td>0.2999</td>\n",
       "      <td>0.5078</td>\n",
       "      <td>0.4797</td>\n",
       "      <td>0.5783</td>\n",
       "      <td>0.5071</td>\n",
       "      <td>0.4328</td>\n",
       "      <td>0.5550</td>\n",
       "      <td>0.6711</td>\n",
       "      <td>...</td>\n",
       "      <td>0.8507</td>\n",
       "      <td>0.6692</td>\n",
       "      <td>0.6097</td>\n",
       "      <td>0.4943</td>\n",
       "      <td>0.2744</td>\n",
       "      <td>0.0510</td>\n",
       "      <td>0.2834</td>\n",
       "      <td>0.2825</td>\n",
       "      <td>0.4256</td>\n",
       "      <td>0.2641</td>\n",
       "      <td>0.1386</td>\n",
       "      <td>0.1051</td>\n",
       "      <td>0.1343</td>\n",
       "      <td>0.0383</td>\n",
       "      <td>0.0324</td>\n",
       "      <td>0.0232</td>\n",
       "      <td>0.0027</td>\n",
       "      <td>0.0065</td>\n",
       "      <td>0.0159</td>\n",
       "      <td>0.0072</td>\n",
       "      <td>0.0167</td>\n",
       "      <td>0.0180</td>\n",
       "      <td>0.0084</td>\n",
       "      <td>0.0090</td>\n",
       "      <td>0.0032</td>\n",
       "    </tr>\n",
       "    <tr>\n",
       "      <th>1</th>\n",
       "      <td>0.0453</td>\n",
       "      <td>0.0523</td>\n",
       "      <td>0.0843</td>\n",
       "      <td>0.0689</td>\n",
       "      <td>0.1183</td>\n",
       "      <td>0.2583</td>\n",
       "      <td>0.2156</td>\n",
       "      <td>0.3481</td>\n",
       "      <td>0.3337</td>\n",
       "      <td>0.2872</td>\n",
       "      <td>0.4918</td>\n",
       "      <td>0.6552</td>\n",
       "      <td>0.6919</td>\n",
       "      <td>0.7797</td>\n",
       "      <td>0.7464</td>\n",
       "      <td>0.9444</td>\n",
       "      <td>1.0000</td>\n",
       "      <td>0.8874</td>\n",
       "      <td>0.8024</td>\n",
       "      <td>0.7818</td>\n",
       "      <td>0.5212</td>\n",
       "      <td>0.4052</td>\n",
       "      <td>0.3957</td>\n",
       "      <td>0.3914</td>\n",
       "      <td>0.3250</td>\n",
       "      <td>...</td>\n",
       "      <td>0.4182</td>\n",
       "      <td>0.3835</td>\n",
       "      <td>0.1057</td>\n",
       "      <td>0.1840</td>\n",
       "      <td>0.1970</td>\n",
       "      <td>0.1674</td>\n",
       "      <td>0.0583</td>\n",
       "      <td>0.1401</td>\n",
       "      <td>0.1628</td>\n",
       "      <td>0.0621</td>\n",
       "      <td>0.0203</td>\n",
       "      <td>0.0530</td>\n",
       "      <td>0.0742</td>\n",
       "      <td>0.0409</td>\n",
       "      <td>0.0061</td>\n",
       "      <td>0.0125</td>\n",
       "      <td>0.0084</td>\n",
       "      <td>0.0089</td>\n",
       "      <td>0.0048</td>\n",
       "      <td>0.0094</td>\n",
       "      <td>0.0191</td>\n",
       "      <td>0.0140</td>\n",
       "      <td>0.0049</td>\n",
       "      <td>0.0052</td>\n",
       "      <td>0.0044</td>\n",
       "    </tr>\n",
       "    <tr>\n",
       "      <th>2</th>\n",
       "      <td>0.0262</td>\n",
       "      <td>0.0582</td>\n",
       "      <td>0.1099</td>\n",
       "      <td>0.1083</td>\n",
       "      <td>0.0974</td>\n",
       "      <td>0.2280</td>\n",
       "      <td>0.2431</td>\n",
       "      <td>0.3771</td>\n",
       "      <td>0.5598</td>\n",
       "      <td>0.6194</td>\n",
       "      <td>0.6333</td>\n",
       "      <td>0.7060</td>\n",
       "      <td>0.5544</td>\n",
       "      <td>0.5320</td>\n",
       "      <td>0.6479</td>\n",
       "      <td>0.6931</td>\n",
       "      <td>0.6759</td>\n",
       "      <td>0.7551</td>\n",
       "      <td>0.8929</td>\n",
       "      <td>0.8619</td>\n",
       "      <td>0.7974</td>\n",
       "      <td>0.6737</td>\n",
       "      <td>0.4293</td>\n",
       "      <td>0.3648</td>\n",
       "      <td>0.5331</td>\n",
       "      <td>...</td>\n",
       "      <td>0.3043</td>\n",
       "      <td>0.6116</td>\n",
       "      <td>0.6756</td>\n",
       "      <td>0.5375</td>\n",
       "      <td>0.4719</td>\n",
       "      <td>0.4647</td>\n",
       "      <td>0.2587</td>\n",
       "      <td>0.2129</td>\n",
       "      <td>0.2222</td>\n",
       "      <td>0.2111</td>\n",
       "      <td>0.0176</td>\n",
       "      <td>0.1348</td>\n",
       "      <td>0.0744</td>\n",
       "      <td>0.0130</td>\n",
       "      <td>0.0106</td>\n",
       "      <td>0.0033</td>\n",
       "      <td>0.0232</td>\n",
       "      <td>0.0166</td>\n",
       "      <td>0.0095</td>\n",
       "      <td>0.0180</td>\n",
       "      <td>0.0244</td>\n",
       "      <td>0.0316</td>\n",
       "      <td>0.0164</td>\n",
       "      <td>0.0095</td>\n",
       "      <td>0.0078</td>\n",
       "    </tr>\n",
       "    <tr>\n",
       "      <th>3</th>\n",
       "      <td>0.0100</td>\n",
       "      <td>0.0171</td>\n",
       "      <td>0.0623</td>\n",
       "      <td>0.0205</td>\n",
       "      <td>0.0205</td>\n",
       "      <td>0.0368</td>\n",
       "      <td>0.1098</td>\n",
       "      <td>0.1276</td>\n",
       "      <td>0.0598</td>\n",
       "      <td>0.1264</td>\n",
       "      <td>0.0881</td>\n",
       "      <td>0.1992</td>\n",
       "      <td>0.0184</td>\n",
       "      <td>0.2261</td>\n",
       "      <td>0.1729</td>\n",
       "      <td>0.2131</td>\n",
       "      <td>0.0693</td>\n",
       "      <td>0.2281</td>\n",
       "      <td>0.4060</td>\n",
       "      <td>0.3973</td>\n",
       "      <td>0.2741</td>\n",
       "      <td>0.3690</td>\n",
       "      <td>0.5556</td>\n",
       "      <td>0.4846</td>\n",
       "      <td>0.3140</td>\n",
       "      <td>...</td>\n",
       "      <td>0.3012</td>\n",
       "      <td>0.5408</td>\n",
       "      <td>0.8814</td>\n",
       "      <td>0.9857</td>\n",
       "      <td>0.9167</td>\n",
       "      <td>0.6121</td>\n",
       "      <td>0.5006</td>\n",
       "      <td>0.3210</td>\n",
       "      <td>0.3202</td>\n",
       "      <td>0.4295</td>\n",
       "      <td>0.3654</td>\n",
       "      <td>0.2655</td>\n",
       "      <td>0.1576</td>\n",
       "      <td>0.0681</td>\n",
       "      <td>0.0294</td>\n",
       "      <td>0.0241</td>\n",
       "      <td>0.0121</td>\n",
       "      <td>0.0036</td>\n",
       "      <td>0.0150</td>\n",
       "      <td>0.0085</td>\n",
       "      <td>0.0073</td>\n",
       "      <td>0.0050</td>\n",
       "      <td>0.0044</td>\n",
       "      <td>0.0040</td>\n",
       "      <td>0.0117</td>\n",
       "    </tr>\n",
       "    <tr>\n",
       "      <th>4</th>\n",
       "      <td>0.0762</td>\n",
       "      <td>0.0666</td>\n",
       "      <td>0.0481</td>\n",
       "      <td>0.0394</td>\n",
       "      <td>0.0590</td>\n",
       "      <td>0.0649</td>\n",
       "      <td>0.1209</td>\n",
       "      <td>0.2467</td>\n",
       "      <td>0.3564</td>\n",
       "      <td>0.4459</td>\n",
       "      <td>0.4152</td>\n",
       "      <td>0.3952</td>\n",
       "      <td>0.4256</td>\n",
       "      <td>0.4135</td>\n",
       "      <td>0.4528</td>\n",
       "      <td>0.5326</td>\n",
       "      <td>0.7306</td>\n",
       "      <td>0.6193</td>\n",
       "      <td>0.2032</td>\n",
       "      <td>0.4636</td>\n",
       "      <td>0.4148</td>\n",
       "      <td>0.4292</td>\n",
       "      <td>0.5730</td>\n",
       "      <td>0.5399</td>\n",
       "      <td>0.3161</td>\n",
       "      <td>...</td>\n",
       "      <td>0.4181</td>\n",
       "      <td>0.4604</td>\n",
       "      <td>0.3217</td>\n",
       "      <td>0.2828</td>\n",
       "      <td>0.2430</td>\n",
       "      <td>0.1979</td>\n",
       "      <td>0.2444</td>\n",
       "      <td>0.1847</td>\n",
       "      <td>0.0841</td>\n",
       "      <td>0.0692</td>\n",
       "      <td>0.0528</td>\n",
       "      <td>0.0357</td>\n",
       "      <td>0.0085</td>\n",
       "      <td>0.0230</td>\n",
       "      <td>0.0046</td>\n",
       "      <td>0.0156</td>\n",
       "      <td>0.0031</td>\n",
       "      <td>0.0054</td>\n",
       "      <td>0.0105</td>\n",
       "      <td>0.0110</td>\n",
       "      <td>0.0015</td>\n",
       "      <td>0.0072</td>\n",
       "      <td>0.0048</td>\n",
       "      <td>0.0107</td>\n",
       "      <td>0.0094</td>\n",
       "    </tr>\n",
       "  </tbody>\n",
       "</table>\n",
       "<p>5 rows × 60 columns</p>\n",
       "</div>"
      ],
      "text/plain": [
       "       v1      v2      v3      v4      v5      v6      v7      v8      v9  \\\n",
       "0  0.0200  0.0371  0.0428  0.0207  0.0954  0.0986  0.1539  0.1601  0.3109   \n",
       "1  0.0453  0.0523  0.0843  0.0689  0.1183  0.2583  0.2156  0.3481  0.3337   \n",
       "2  0.0262  0.0582  0.1099  0.1083  0.0974  0.2280  0.2431  0.3771  0.5598   \n",
       "3  0.0100  0.0171  0.0623  0.0205  0.0205  0.0368  0.1098  0.1276  0.0598   \n",
       "4  0.0762  0.0666  0.0481  0.0394  0.0590  0.0649  0.1209  0.2467  0.3564   \n",
       "\n",
       "      v10     v11     v12     v13     v14     v15     v16     v17     v18  \\\n",
       "0  0.2111  0.1609  0.1582  0.2238  0.0645  0.0660  0.2273  0.3100  0.2999   \n",
       "1  0.2872  0.4918  0.6552  0.6919  0.7797  0.7464  0.9444  1.0000  0.8874   \n",
       "2  0.6194  0.6333  0.7060  0.5544  0.5320  0.6479  0.6931  0.6759  0.7551   \n",
       "3  0.1264  0.0881  0.1992  0.0184  0.2261  0.1729  0.2131  0.0693  0.2281   \n",
       "4  0.4459  0.4152  0.3952  0.4256  0.4135  0.4528  0.5326  0.7306  0.6193   \n",
       "\n",
       "      v19     v20     v21     v22     v23     v24     v25  ...     v36  \\\n",
       "0  0.5078  0.4797  0.5783  0.5071  0.4328  0.5550  0.6711  ...  0.8507   \n",
       "1  0.8024  0.7818  0.5212  0.4052  0.3957  0.3914  0.3250  ...  0.4182   \n",
       "2  0.8929  0.8619  0.7974  0.6737  0.4293  0.3648  0.5331  ...  0.3043   \n",
       "3  0.4060  0.3973  0.2741  0.3690  0.5556  0.4846  0.3140  ...  0.3012   \n",
       "4  0.2032  0.4636  0.4148  0.4292  0.5730  0.5399  0.3161  ...  0.4181   \n",
       "\n",
       "      v37     v38     v39     v40     v41     v42     v43     v44     v45  \\\n",
       "0  0.6692  0.6097  0.4943  0.2744  0.0510  0.2834  0.2825  0.4256  0.2641   \n",
       "1  0.3835  0.1057  0.1840  0.1970  0.1674  0.0583  0.1401  0.1628  0.0621   \n",
       "2  0.6116  0.6756  0.5375  0.4719  0.4647  0.2587  0.2129  0.2222  0.2111   \n",
       "3  0.5408  0.8814  0.9857  0.9167  0.6121  0.5006  0.3210  0.3202  0.4295   \n",
       "4  0.4604  0.3217  0.2828  0.2430  0.1979  0.2444  0.1847  0.0841  0.0692   \n",
       "\n",
       "      v46     v47     v48     v49     v50     v51     v52     v53     v54  \\\n",
       "0  0.1386  0.1051  0.1343  0.0383  0.0324  0.0232  0.0027  0.0065  0.0159   \n",
       "1  0.0203  0.0530  0.0742  0.0409  0.0061  0.0125  0.0084  0.0089  0.0048   \n",
       "2  0.0176  0.1348  0.0744  0.0130  0.0106  0.0033  0.0232  0.0166  0.0095   \n",
       "3  0.3654  0.2655  0.1576  0.0681  0.0294  0.0241  0.0121  0.0036  0.0150   \n",
       "4  0.0528  0.0357  0.0085  0.0230  0.0046  0.0156  0.0031  0.0054  0.0105   \n",
       "\n",
       "      v55     v56     v57     v58     v59     v60  \n",
       "0  0.0072  0.0167  0.0180  0.0084  0.0090  0.0032  \n",
       "1  0.0094  0.0191  0.0140  0.0049  0.0052  0.0044  \n",
       "2  0.0180  0.0244  0.0316  0.0164  0.0095  0.0078  \n",
       "3  0.0085  0.0073  0.0050  0.0044  0.0040  0.0117  \n",
       "4  0.0110  0.0015  0.0072  0.0048  0.0107  0.0094  \n",
       "\n",
       "[5 rows x 60 columns]"
      ]
     },
     "execution_count": 21,
     "metadata": {},
     "output_type": "execute_result"
    }
   ],
   "source": [
    "df[features].head()"
   ]
  },
  {
   "cell_type": "code",
   "execution_count": 22,
   "metadata": {
    "executionInfo": {
     "elapsed": 132459,
     "status": "ok",
     "timestamp": 1604063785797,
     "user": {
      "displayName": "Avinash Shan Monteiro",
      "photoUrl": "https://lh3.googleusercontent.com/a-/AOh14GhdXz_vydwJJcfCE9FwqTa-bepmD2utpymafyGVRA=s64",
      "userId": "06625822810889763391"
     },
     "user_tz": -330
    },
    "id": "wzShpl-CI3hM"
   },
   "outputs": [],
   "source": [
    "df1=df[features].copy()"
   ]
  },
  {
   "cell_type": "markdown",
   "metadata": {
    "id": "cpvviH60I3hO"
   },
   "source": [
    "## 6.1 Variance Method\n",
    "<a id=section61></a>"
   ]
  },
  {
   "cell_type": "code",
   "execution_count": 23,
   "metadata": {
    "colab": {
     "base_uri": "https://localhost:8080/"
    },
    "executionInfo": {
     "elapsed": 132449,
     "status": "ok",
     "timestamp": 1604063785799,
     "user": {
      "displayName": "Avinash Shan Monteiro",
      "photoUrl": "https://lh3.googleusercontent.com/a-/AOh14GhdXz_vydwJJcfCE9FwqTa-bepmD2utpymafyGVRA=s64",
      "userId": "06625822810889763391"
     },
     "user_tz": -330
    },
    "id": "KzEtpjPLI3hO",
    "outputId": "554aa4d8-cdd1-447e-8579-b95bf497c3e9"
   },
   "outputs": [
    {
     "name": "stdout",
     "output_type": "stream",
     "text": [
      "Number of constant columns to be dropped:  0\n",
      "[]\n"
     ]
    }
   ],
   "source": [
    "drop_cols=[]\n",
    "for cols in df1.columns:\n",
    "    if df1[cols].std()==0:\n",
    "        drop_cols.append(cols)\n",
    "print(\"Number of constant columns to be dropped: \", len(drop_cols))\n",
    "print(drop_cols)\n",
    "df1.drop(drop_cols,axis=1, inplace = True)"
   ]
  },
  {
   "cell_type": "markdown",
   "metadata": {
    "id": "s5UlPhAZI3hR"
   },
   "source": [
    "We couldn't extract any column with 0 variance as none of the columns has standard deviation 0"
   ]
  },
  {
   "cell_type": "markdown",
   "metadata": {
    "id": "V7k7iTYpI3hS"
   },
   "source": [
    "## 6.2 Scaling the dataset\n",
    "<a id=section62></a>"
   ]
  },
  {
   "cell_type": "markdown",
   "metadata": {
    "id": "6tUg8ApYI3hU"
   },
   "source": [
    "Before we move forward with **Model development** we need to scale the data to have all the columns inline with each other. Eventhough the dataset values looks okay for model development, still we will scale it for better understanding "
   ]
  },
  {
   "cell_type": "markdown",
   "metadata": {
    "id": "unBigIW2I3hV"
   },
   "source": [
    "### Scaling"
   ]
  },
  {
   "cell_type": "code",
   "execution_count": 24,
   "metadata": {
    "colab": {
     "base_uri": "https://localhost:8080/"
    },
    "executionInfo": {
     "elapsed": 132434,
     "status": "ok",
     "timestamp": 1604063785800,
     "user": {
      "displayName": "Avinash Shan Monteiro",
      "photoUrl": "https://lh3.googleusercontent.com/a-/AOh14GhdXz_vydwJJcfCE9FwqTa-bepmD2utpymafyGVRA=s64",
      "userId": "06625822810889763391"
     },
     "user_tz": -330
    },
    "id": "sELV8sPtI3hW",
    "outputId": "3bd639a6-da56-447a-d476-4e9f3c14c908"
   },
   "outputs": [
    {
     "data": {
      "text/plain": [
       "StandardScaler()"
      ]
     },
     "execution_count": 24,
     "metadata": {},
     "output_type": "execute_result"
    }
   ],
   "source": [
    "from sklearn.preprocessing import StandardScaler\n",
    "scaler=StandardScaler()\n",
    "scaler.fit(df1)"
   ]
  },
  {
   "cell_type": "code",
   "execution_count": 25,
   "metadata": {
    "executionInfo": {
     "elapsed": 132422,
     "status": "ok",
     "timestamp": 1604063785802,
     "user": {
      "displayName": "Avinash Shan Monteiro",
      "photoUrl": "https://lh3.googleusercontent.com/a-/AOh14GhdXz_vydwJJcfCE9FwqTa-bepmD2utpymafyGVRA=s64",
      "userId": "06625822810889763391"
     },
     "user_tz": -330
    },
    "id": "uup_G35wI3hZ"
   },
   "outputs": [],
   "source": [
    "df1_s=scaler.transform(df1)"
   ]
  },
  {
   "cell_type": "code",
   "execution_count": 26,
   "metadata": {
    "colab": {
     "base_uri": "https://localhost:8080/"
    },
    "executionInfo": {
     "elapsed": 132414,
     "status": "ok",
     "timestamp": 1604063785803,
     "user": {
      "displayName": "Avinash Shan Monteiro",
      "photoUrl": "https://lh3.googleusercontent.com/a-/AOh14GhdXz_vydwJJcfCE9FwqTa-bepmD2utpymafyGVRA=s64",
      "userId": "06625822810889763391"
     },
     "user_tz": -330
    },
    "id": "BXdeA3U6I3hc",
    "outputId": "b3bba454-b38f-4c3b-d5d6-02aa13005f6c"
   },
   "outputs": [
    {
     "data": {
      "text/plain": [
       "array([[-0.39955135, -0.04064823, -0.02692565, ...,  0.06987027,\n",
       "         0.17167808, -0.65894689],\n",
       "       [ 0.70353822,  0.42163039,  1.05561832, ..., -0.47240644,\n",
       "        -0.44455424, -0.41985233],\n",
       "       [-0.12922901,  0.60106749,  1.72340448, ...,  1.30935987,\n",
       "         0.25276128,  0.25758223],\n",
       "       ...,\n",
       "       [ 1.00438083,  0.16007801, -0.67384349, ...,  0.90652575,\n",
       "        -0.03913824, -0.67887143],\n",
       "       [ 0.04953255, -0.09539176,  0.13480381, ..., -0.00759783,\n",
       "        -0.70402047, -0.34015415],\n",
       "       [-0.13794908, -0.06497869, -0.78861924, ..., -0.6738235 ,\n",
       "        -0.29860448,  0.99479044]])"
      ]
     },
     "execution_count": 26,
     "metadata": {},
     "output_type": "execute_result"
    }
   ],
   "source": [
    "df1_s"
   ]
  },
  {
   "cell_type": "code",
   "execution_count": 27,
   "metadata": {
    "colab": {
     "base_uri": "https://localhost:8080/",
     "height": 253
    },
    "executionInfo": {
     "elapsed": 132400,
     "status": "ok",
     "timestamp": 1604063785805,
     "user": {
      "displayName": "Avinash Shan Monteiro",
      "photoUrl": "https://lh3.googleusercontent.com/a-/AOh14GhdXz_vydwJJcfCE9FwqTa-bepmD2utpymafyGVRA=s64",
      "userId": "06625822810889763391"
     },
     "user_tz": -330
    },
    "id": "J6laqBpjI3he",
    "outputId": "d4903556-27f4-480b-8249-1b560c5c055c"
   },
   "outputs": [
    {
     "data": {
      "text/html": [
       "<div>\n",
       "<style scoped>\n",
       "    .dataframe tbody tr th:only-of-type {\n",
       "        vertical-align: middle;\n",
       "    }\n",
       "\n",
       "    .dataframe tbody tr th {\n",
       "        vertical-align: top;\n",
       "    }\n",
       "\n",
       "    .dataframe thead th {\n",
       "        text-align: right;\n",
       "    }\n",
       "</style>\n",
       "<table border=\"1\" class=\"dataframe\">\n",
       "  <thead>\n",
       "    <tr style=\"text-align: right;\">\n",
       "      <th></th>\n",
       "      <th>0</th>\n",
       "      <th>1</th>\n",
       "      <th>2</th>\n",
       "      <th>3</th>\n",
       "      <th>4</th>\n",
       "      <th>5</th>\n",
       "      <th>6</th>\n",
       "      <th>7</th>\n",
       "      <th>8</th>\n",
       "      <th>9</th>\n",
       "      <th>10</th>\n",
       "      <th>11</th>\n",
       "      <th>12</th>\n",
       "      <th>13</th>\n",
       "      <th>14</th>\n",
       "      <th>15</th>\n",
       "      <th>16</th>\n",
       "      <th>17</th>\n",
       "      <th>18</th>\n",
       "      <th>19</th>\n",
       "      <th>20</th>\n",
       "      <th>21</th>\n",
       "      <th>22</th>\n",
       "      <th>23</th>\n",
       "      <th>24</th>\n",
       "      <th>...</th>\n",
       "      <th>35</th>\n",
       "      <th>36</th>\n",
       "      <th>37</th>\n",
       "      <th>38</th>\n",
       "      <th>39</th>\n",
       "      <th>40</th>\n",
       "      <th>41</th>\n",
       "      <th>42</th>\n",
       "      <th>43</th>\n",
       "      <th>44</th>\n",
       "      <th>45</th>\n",
       "      <th>46</th>\n",
       "      <th>47</th>\n",
       "      <th>48</th>\n",
       "      <th>49</th>\n",
       "      <th>50</th>\n",
       "      <th>51</th>\n",
       "      <th>52</th>\n",
       "      <th>53</th>\n",
       "      <th>54</th>\n",
       "      <th>55</th>\n",
       "      <th>56</th>\n",
       "      <th>57</th>\n",
       "      <th>58</th>\n",
       "      <th>59</th>\n",
       "    </tr>\n",
       "  </thead>\n",
       "  <tbody>\n",
       "    <tr>\n",
       "      <th>0</th>\n",
       "      <td>-0.399551</td>\n",
       "      <td>-0.040648</td>\n",
       "      <td>-0.026926</td>\n",
       "      <td>-0.715105</td>\n",
       "      <td>0.364456</td>\n",
       "      <td>-0.101253</td>\n",
       "      <td>0.521638</td>\n",
       "      <td>0.297843</td>\n",
       "      <td>1.125272</td>\n",
       "      <td>0.021186</td>\n",
       "      <td>-0.567382</td>\n",
       "      <td>-0.658541</td>\n",
       "      <td>-0.352043</td>\n",
       "      <td>-1.414373</td>\n",
       "      <td>-1.240416</td>\n",
       "      <td>-0.651413</td>\n",
       "      <td>-0.402913</td>\n",
       "      <td>-0.584202</td>\n",
       "      <td>0.011612</td>\n",
       "      <td>-0.318092</td>\n",
       "      <td>-0.119597</td>\n",
       "      <td>-0.459029</td>\n",
       "      <td>-0.858165</td>\n",
       "      <td>-0.493225</td>\n",
       "      <td>-0.017695</td>\n",
       "      <td>...</td>\n",
       "      <td>1.768039</td>\n",
       "      <td>1.276008</td>\n",
       "      <td>1.271024</td>\n",
       "      <td>0.848461</td>\n",
       "      <td>-0.206511</td>\n",
       "      <td>-1.395741</td>\n",
       "      <td>0.030339</td>\n",
       "      <td>0.259328</td>\n",
       "      <td>1.590771</td>\n",
       "      <td>0.442062</td>\n",
       "      <td>-0.164885</td>\n",
       "      <td>-0.200048</td>\n",
       "      <td>0.688588</td>\n",
       "      <td>-0.379978</td>\n",
       "      <td>0.878510</td>\n",
       "      <td>0.595283</td>\n",
       "      <td>-1.115432</td>\n",
       "      <td>-0.597604</td>\n",
       "      <td>0.680897</td>\n",
       "      <td>-0.295646</td>\n",
       "      <td>1.481635</td>\n",
       "      <td>1.763784</td>\n",
       "      <td>0.069870</td>\n",
       "      <td>0.171678</td>\n",
       "      <td>-0.658947</td>\n",
       "    </tr>\n",
       "    <tr>\n",
       "      <th>1</th>\n",
       "      <td>0.703538</td>\n",
       "      <td>0.421630</td>\n",
       "      <td>1.055618</td>\n",
       "      <td>0.323330</td>\n",
       "      <td>0.777676</td>\n",
       "      <td>2.607217</td>\n",
       "      <td>1.522625</td>\n",
       "      <td>2.510982</td>\n",
       "      <td>1.318325</td>\n",
       "      <td>0.588706</td>\n",
       "      <td>1.932142</td>\n",
       "      <td>2.898195</td>\n",
       "      <td>2.976719</td>\n",
       "      <td>2.944515</td>\n",
       "      <td>2.079703</td>\n",
       "      <td>2.438336</td>\n",
       "      <td>2.220238</td>\n",
       "      <td>1.667619</td>\n",
       "      <td>1.156279</td>\n",
       "      <td>0.834871</td>\n",
       "      <td>-0.341605</td>\n",
       "      <td>-0.858218</td>\n",
       "      <td>-1.006818</td>\n",
       "      <td>-1.179062</td>\n",
       "      <td>-1.434182</td>\n",
       "      <td>...</td>\n",
       "      <td>0.126582</td>\n",
       "      <td>0.082283</td>\n",
       "      <td>-1.101179</td>\n",
       "      <td>-0.714012</td>\n",
       "      <td>-0.640777</td>\n",
       "      <td>-0.713840</td>\n",
       "      <td>-1.306977</td>\n",
       "      <td>-0.767653</td>\n",
       "      <td>-0.385613</td>\n",
       "      <td>-0.893356</td>\n",
       "      <td>-1.050261</td>\n",
       "      <td>-0.800670</td>\n",
       "      <td>-0.276618</td>\n",
       "      <td>-0.307489</td>\n",
       "      <td>-1.050756</td>\n",
       "      <td>-0.297902</td>\n",
       "      <td>-0.522349</td>\n",
       "      <td>-0.256857</td>\n",
       "      <td>-0.843151</td>\n",
       "      <td>0.015503</td>\n",
       "      <td>1.901046</td>\n",
       "      <td>1.070732</td>\n",
       "      <td>-0.472406</td>\n",
       "      <td>-0.444554</td>\n",
       "      <td>-0.419852</td>\n",
       "    </tr>\n",
       "    <tr>\n",
       "      <th>2</th>\n",
       "      <td>-0.129229</td>\n",
       "      <td>0.601067</td>\n",
       "      <td>1.723404</td>\n",
       "      <td>1.172176</td>\n",
       "      <td>0.400545</td>\n",
       "      <td>2.093337</td>\n",
       "      <td>1.968770</td>\n",
       "      <td>2.852370</td>\n",
       "      <td>3.232767</td>\n",
       "      <td>3.066105</td>\n",
       "      <td>3.000992</td>\n",
       "      <td>3.261740</td>\n",
       "      <td>1.998926</td>\n",
       "      <td>1.434872</td>\n",
       "      <td>1.599057</td>\n",
       "      <td>1.355566</td>\n",
       "      <td>0.988117</td>\n",
       "      <td>1.160528</td>\n",
       "      <td>1.507916</td>\n",
       "      <td>1.140572</td>\n",
       "      <td>0.732277</td>\n",
       "      <td>0.193621</td>\n",
       "      <td>-0.872189</td>\n",
       "      <td>-1.290573</td>\n",
       "      <td>-0.582489</td>\n",
       "      <td>...</td>\n",
       "      <td>-0.305701</td>\n",
       "      <td>1.035341</td>\n",
       "      <td>1.581199</td>\n",
       "      <td>1.065989</td>\n",
       "      <td>0.901598</td>\n",
       "      <td>1.027820</td>\n",
       "      <td>-0.116403</td>\n",
       "      <td>-0.242623</td>\n",
       "      <td>0.061104</td>\n",
       "      <td>0.091680</td>\n",
       "      <td>-1.070468</td>\n",
       "      <td>0.142341</td>\n",
       "      <td>-0.273406</td>\n",
       "      <td>-1.085353</td>\n",
       "      <td>-0.720654</td>\n",
       "      <td>-1.065875</td>\n",
       "      <td>1.017585</td>\n",
       "      <td>0.836373</td>\n",
       "      <td>-0.197833</td>\n",
       "      <td>1.231812</td>\n",
       "      <td>2.827246</td>\n",
       "      <td>4.120162</td>\n",
       "      <td>1.309360</td>\n",
       "      <td>0.252761</td>\n",
       "      <td>0.257582</td>\n",
       "    </tr>\n",
       "    <tr>\n",
       "      <th>3</th>\n",
       "      <td>-0.835555</td>\n",
       "      <td>-0.648910</td>\n",
       "      <td>0.481740</td>\n",
       "      <td>-0.719414</td>\n",
       "      <td>-0.987079</td>\n",
       "      <td>-1.149364</td>\n",
       "      <td>-0.193816</td>\n",
       "      <td>-0.084747</td>\n",
       "      <td>-1.000852</td>\n",
       "      <td>-0.610469</td>\n",
       "      <td>-1.117292</td>\n",
       "      <td>-0.365128</td>\n",
       "      <td>-1.812688</td>\n",
       "      <td>-0.429479</td>\n",
       "      <td>-0.718781</td>\n",
       "      <td>-0.712596</td>\n",
       "      <td>-1.317974</td>\n",
       "      <td>-0.859403</td>\n",
       "      <td>-0.383932</td>\n",
       "      <td>-0.632571</td>\n",
       "      <td>-1.302345</td>\n",
       "      <td>-1.000030</td>\n",
       "      <td>-0.366125</td>\n",
       "      <td>-0.788353</td>\n",
       "      <td>-1.479201</td>\n",
       "      <td>...</td>\n",
       "      <td>-0.317466</td>\n",
       "      <td>0.739521</td>\n",
       "      <td>2.549849</td>\n",
       "      <td>3.322838</td>\n",
       "      <td>3.397228</td>\n",
       "      <td>1.891327</td>\n",
       "      <td>1.320721</td>\n",
       "      <td>0.536988</td>\n",
       "      <td>0.798111</td>\n",
       "      <td>1.535517</td>\n",
       "      <td>1.532522</td>\n",
       "      <td>1.649083</td>\n",
       "      <td>1.062786</td>\n",
       "      <td>0.450859</td>\n",
       "      <td>0.658442</td>\n",
       "      <td>0.670411</td>\n",
       "      <td>-0.137365</td>\n",
       "      <td>-1.009341</td>\n",
       "      <td>0.557326</td>\n",
       "      <td>-0.111785</td>\n",
       "      <td>-0.161060</td>\n",
       "      <td>-0.488635</td>\n",
       "      <td>-0.549875</td>\n",
       "      <td>-0.639154</td>\n",
       "      <td>1.034640</td>\n",
       "    </tr>\n",
       "    <tr>\n",
       "      <th>4</th>\n",
       "      <td>2.050790</td>\n",
       "      <td>0.856537</td>\n",
       "      <td>0.111327</td>\n",
       "      <td>-0.312227</td>\n",
       "      <td>-0.292365</td>\n",
       "      <td>-0.672796</td>\n",
       "      <td>-0.013735</td>\n",
       "      <td>1.317299</td>\n",
       "      <td>1.510531</td>\n",
       "      <td>1.772220</td>\n",
       "      <td>1.353527</td>\n",
       "      <td>1.037528</td>\n",
       "      <td>1.083001</td>\n",
       "      <td>0.712657</td>\n",
       "      <td>0.647036</td>\n",
       "      <td>0.664024</td>\n",
       "      <td>1.196069</td>\n",
       "      <td>0.640022</td>\n",
       "      <td>-1.171910</td>\n",
       "      <td>-0.379537</td>\n",
       "      <td>-0.755295</td>\n",
       "      <td>-0.764199</td>\n",
       "      <td>-0.296406</td>\n",
       "      <td>-0.556527</td>\n",
       "      <td>-1.470607</td>\n",
       "      <td>...</td>\n",
       "      <td>0.126202</td>\n",
       "      <td>0.403590</td>\n",
       "      <td>-0.084520</td>\n",
       "      <td>-0.216518</td>\n",
       "      <td>-0.382686</td>\n",
       "      <td>-0.535163</td>\n",
       "      <td>-0.201359</td>\n",
       "      <td>-0.446000</td>\n",
       "      <td>-0.977475</td>\n",
       "      <td>-0.846418</td>\n",
       "      <td>-0.807026</td>\n",
       "      <td>-1.000109</td>\n",
       "      <td>-1.331760</td>\n",
       "      <td>-0.806549</td>\n",
       "      <td>-1.160790</td>\n",
       "      <td>-0.039129</td>\n",
       "      <td>-1.073812</td>\n",
       "      <td>-0.753780</td>\n",
       "      <td>-0.060532</td>\n",
       "      <td>0.241793</td>\n",
       "      <td>-1.174638</td>\n",
       "      <td>-0.107456</td>\n",
       "      <td>-0.487900</td>\n",
       "      <td>0.447361</td>\n",
       "      <td>0.576375</td>\n",
       "    </tr>\n",
       "  </tbody>\n",
       "</table>\n",
       "<p>5 rows × 60 columns</p>\n",
       "</div>"
      ],
      "text/plain": [
       "         0         1         2         3         4         5         6   \\\n",
       "0 -0.399551 -0.040648 -0.026926 -0.715105  0.364456 -0.101253  0.521638   \n",
       "1  0.703538  0.421630  1.055618  0.323330  0.777676  2.607217  1.522625   \n",
       "2 -0.129229  0.601067  1.723404  1.172176  0.400545  2.093337  1.968770   \n",
       "3 -0.835555 -0.648910  0.481740 -0.719414 -0.987079 -1.149364 -0.193816   \n",
       "4  2.050790  0.856537  0.111327 -0.312227 -0.292365 -0.672796 -0.013735   \n",
       "\n",
       "         7         8         9         10        11        12        13  \\\n",
       "0  0.297843  1.125272  0.021186 -0.567382 -0.658541 -0.352043 -1.414373   \n",
       "1  2.510982  1.318325  0.588706  1.932142  2.898195  2.976719  2.944515   \n",
       "2  2.852370  3.232767  3.066105  3.000992  3.261740  1.998926  1.434872   \n",
       "3 -0.084747 -1.000852 -0.610469 -1.117292 -0.365128 -1.812688 -0.429479   \n",
       "4  1.317299  1.510531  1.772220  1.353527  1.037528  1.083001  0.712657   \n",
       "\n",
       "         14        15        16        17        18        19        20  \\\n",
       "0 -1.240416 -0.651413 -0.402913 -0.584202  0.011612 -0.318092 -0.119597   \n",
       "1  2.079703  2.438336  2.220238  1.667619  1.156279  0.834871 -0.341605   \n",
       "2  1.599057  1.355566  0.988117  1.160528  1.507916  1.140572  0.732277   \n",
       "3 -0.718781 -0.712596 -1.317974 -0.859403 -0.383932 -0.632571 -1.302345   \n",
       "4  0.647036  0.664024  1.196069  0.640022 -1.171910 -0.379537 -0.755295   \n",
       "\n",
       "         21        22        23        24  ...        35        36        37  \\\n",
       "0 -0.459029 -0.858165 -0.493225 -0.017695  ...  1.768039  1.276008  1.271024   \n",
       "1 -0.858218 -1.006818 -1.179062 -1.434182  ...  0.126582  0.082283 -1.101179   \n",
       "2  0.193621 -0.872189 -1.290573 -0.582489  ... -0.305701  1.035341  1.581199   \n",
       "3 -1.000030 -0.366125 -0.788353 -1.479201  ... -0.317466  0.739521  2.549849   \n",
       "4 -0.764199 -0.296406 -0.556527 -1.470607  ...  0.126202  0.403590 -0.084520   \n",
       "\n",
       "         38        39        40        41        42        43        44  \\\n",
       "0  0.848461 -0.206511 -1.395741  0.030339  0.259328  1.590771  0.442062   \n",
       "1 -0.714012 -0.640777 -0.713840 -1.306977 -0.767653 -0.385613 -0.893356   \n",
       "2  1.065989  0.901598  1.027820 -0.116403 -0.242623  0.061104  0.091680   \n",
       "3  3.322838  3.397228  1.891327  1.320721  0.536988  0.798111  1.535517   \n",
       "4 -0.216518 -0.382686 -0.535163 -0.201359 -0.446000 -0.977475 -0.846418   \n",
       "\n",
       "         45        46        47        48        49        50        51  \\\n",
       "0 -0.164885 -0.200048  0.688588 -0.379978  0.878510  0.595283 -1.115432   \n",
       "1 -1.050261 -0.800670 -0.276618 -0.307489 -1.050756 -0.297902 -0.522349   \n",
       "2 -1.070468  0.142341 -0.273406 -1.085353 -0.720654 -1.065875  1.017585   \n",
       "3  1.532522  1.649083  1.062786  0.450859  0.658442  0.670411 -0.137365   \n",
       "4 -0.807026 -1.000109 -1.331760 -0.806549 -1.160790 -0.039129 -1.073812   \n",
       "\n",
       "         52        53        54        55        56        57        58  \\\n",
       "0 -0.597604  0.680897 -0.295646  1.481635  1.763784  0.069870  0.171678   \n",
       "1 -0.256857 -0.843151  0.015503  1.901046  1.070732 -0.472406 -0.444554   \n",
       "2  0.836373 -0.197833  1.231812  2.827246  4.120162  1.309360  0.252761   \n",
       "3 -1.009341  0.557326 -0.111785 -0.161060 -0.488635 -0.549875 -0.639154   \n",
       "4 -0.753780 -0.060532  0.241793 -1.174638 -0.107456 -0.487900  0.447361   \n",
       "\n",
       "         59  \n",
       "0 -0.658947  \n",
       "1 -0.419852  \n",
       "2  0.257582  \n",
       "3  1.034640  \n",
       "4  0.576375  \n",
       "\n",
       "[5 rows x 60 columns]"
      ]
     },
     "execution_count": 27,
     "metadata": {},
     "output_type": "execute_result"
    }
   ],
   "source": [
    "df1_s=pd.DataFrame(df1_s)\n",
    "df1_s.head()"
   ]
  },
  {
   "cell_type": "markdown",
   "metadata": {
    "id": "1iVhGY7sI3hg"
   },
   "source": [
    "## 6.3 Principal Component Analysis\n",
    "<a id=section63></a>"
   ]
  },
  {
   "cell_type": "markdown",
   "metadata": {
    "id": "Rk62OJRuI3hh"
   },
   "source": [
    "**Principal component analysis (PCA)** is the process of computing the principal components and using them to perform a change of basis on the data, sometimes using only the first few principal components and ignoring the rest.\n",
    "\n",
    "In order to get the principal components, let us first plot % variance v/s number of features in order to estimate how many features are giving least variation ad plant to drop them."
   ]
  },
  {
   "cell_type": "code",
   "execution_count": 28,
   "metadata": {
    "executionInfo": {
     "elapsed": 132392,
     "status": "ok",
     "timestamp": 1604063785807,
     "user": {
      "displayName": "Avinash Shan Monteiro",
      "photoUrl": "https://lh3.googleusercontent.com/a-/AOh14GhdXz_vydwJJcfCE9FwqTa-bepmD2utpymafyGVRA=s64",
      "userId": "06625822810889763391"
     },
     "user_tz": -330
    },
    "id": "wiNJktfPI3hi"
   },
   "outputs": [],
   "source": [
    "from sklearn.decomposition import PCA #import library\n",
    "pca = PCA(n_components=60).fit(df1_s) #define the object"
   ]
  },
  {
   "cell_type": "code",
   "execution_count": 29,
   "metadata": {
    "colab": {
     "base_uri": "https://localhost:8080/",
     "height": 321
    },
    "executionInfo": {
     "elapsed": 132383,
     "status": "ok",
     "timestamp": 1604063785809,
     "user": {
      "displayName": "Avinash Shan Monteiro",
      "photoUrl": "https://lh3.googleusercontent.com/a-/AOh14GhdXz_vydwJJcfCE9FwqTa-bepmD2utpymafyGVRA=s64",
      "userId": "06625822810889763391"
     },
     "user_tz": -330
    },
    "id": "Lrd2KcJJI3hl",
    "outputId": "9c6a5490-d6e1-41b1-e13a-350612f8e9e4"
   },
   "outputs": [
    {
     "data": {
      "text/plain": [
       "[<matplotlib.lines.Line2D at 0xe00283ed90>]"
      ]
     },
     "execution_count": 29,
     "metadata": {},
     "output_type": "execute_result"
    },
    {
     "data": {
      "image/png": "[encoded data removed]",
      "text/plain": [
       "<Figure size 432x288 with 1 Axes>"
      ]
     },
     "metadata": {},
     "output_type": "display_data"
    }
   ],
   "source": [
    "sns.set(style=\"darkgrid\", font_scale=1, color_codes=True)\n",
    "var=np.cumsum(np.round(pca.explained_variance_ratio_, decimals=3)*100)\n",
    "plt.ylabel('% Variance Explained')\n",
    "plt.xlabel('Number of Features')\n",
    "plt.title('PCA Analysis')\n",
    "plt.ylim(30,100.5)\n",
    "plt.style.context('seaborn-whitegrid')\n",
    "plt.plot(var)"
   ]
  },
  {
   "cell_type": "markdown",
   "metadata": {
    "id": "s6xhjHZBI3hs"
   },
   "source": [
    "From the above plot, we can see that out of the 60 independent features, 30 features contributes to 95% of the variance in the data and the balance 5% of variation is contributed by the balance 30 features. In other words, we can see that the first 30 Principal Components attribute for about 95% variation in the data.So let us drop these balance 30 features and move forward with our analysis.\n",
    "\n",
    "\n",
    "**Doing this PAC operation on independent variables has reduced 30 features from the dataset thus reducing the computational time.**"
   ]
  },
  {
   "cell_type": "code",
   "execution_count": 30,
   "metadata": {
    "executionInfo": {
     "elapsed": 132376,
     "status": "ok",
     "timestamp": 1604063785812,
     "user": {
      "displayName": "Avinash Shan Monteiro",
      "photoUrl": "https://lh3.googleusercontent.com/a-/AOh14GhdXz_vydwJJcfCE9FwqTa-bepmD2utpymafyGVRA=s64",
      "userId": "06625822810889763391"
     },
     "user_tz": -330
    },
    "id": "tJETshHtI3ht"
   },
   "outputs": [],
   "source": [
    "from sklearn.decomposition import PCA\n",
    "pca = PCA(n_components=30).fit(df1_s) #selecting only 30 important features"
   ]
  },
  {
   "cell_type": "code",
   "execution_count": 31,
   "metadata": {
    "colab": {
     "base_uri": "https://localhost:8080/",
     "height": 321
    },
    "executionInfo": {
     "elapsed": 132366,
     "status": "ok",
     "timestamp": 1604063785813,
     "user": {
      "displayName": "Avinash Shan Monteiro",
      "photoUrl": "https://lh3.googleusercontent.com/a-/AOh14GhdXz_vydwJJcfCE9FwqTa-bepmD2utpymafyGVRA=s64",
      "userId": "06625822810889763391"
     },
     "user_tz": -330
    },
    "id": "2isKzPdBI3hz",
    "outputId": "9536f24a-cd45-475a-c595-6e74059ab2ce"
   },
   "outputs": [
    {
     "data": {
      "text/plain": [
       "[<matplotlib.lines.Line2D at 0xe0028a22b0>]"
      ]
     },
     "execution_count": 31,
     "metadata": {},
     "output_type": "execute_result"
    },
    {
     "data": {
      "image/png": "[encoded data removed]",
      "text/plain": [
       "<Figure size 432x288 with 1 Axes>"
      ]
     },
     "metadata": {},
     "output_type": "display_data"
    }
   ],
   "source": [
    "sns.set(style=\"darkgrid\", font_scale=1, color_codes=True)\n",
    "var=np.cumsum(np.round(pca.explained_variance_ratio_, decimals=3)*100)\n",
    "plt.ylabel('% Variance Explained')\n",
    "plt.xlabel('Number of Features')\n",
    "plt.title('PCA Analysis')\n",
    "plt.ylim(30,100.5)\n",
    "plt.style.context('seaborn-whitegrid')\n",
    "plt.plot(var)"
   ]
  },
  {
   "cell_type": "code",
   "execution_count": 32,
   "metadata": {
    "colab": {
     "base_uri": "https://localhost:8080/"
    },
    "executionInfo": {
     "elapsed": 132354,
     "status": "ok",
     "timestamp": 1604063785815,
     "user": {
      "displayName": "Avinash Shan Monteiro",
      "photoUrl": "https://lh3.googleusercontent.com/a-/AOh14GhdXz_vydwJJcfCE9FwqTa-bepmD2utpymafyGVRA=s64",
      "userId": "06625822810889763391"
     },
     "user_tz": -330
    },
    "id": "g16NbbquI3h4",
    "outputId": "b86c58d2-2f37-4aec-cb2c-0256a83ced88"
   },
   "outputs": [
    {
     "name": "stdout",
     "output_type": "stream",
     "text": [
      "30 components explain 95% of the variation in the data\n"
     ]
    }
   ],
   "source": [
    "print('%d components explain 95%% of the variation in the data' % pca.n_components_)"
   ]
  },
  {
   "cell_type": "markdown",
   "metadata": {
    "id": "6Bz2jY6bI3h-"
   },
   "source": [
    "### Making the DataFrame of the selected 30 features"
   ]
  },
  {
   "cell_type": "code",
   "execution_count": 33,
   "metadata": {
    "colab": {
     "base_uri": "https://localhost:8080/",
     "height": 224
    },
    "executionInfo": {
     "elapsed": 132339,
     "status": "ok",
     "timestamp": 1604063785816,
     "user": {
      "displayName": "Avinash Shan Monteiro",
      "photoUrl": "https://lh3.googleusercontent.com/a-/AOh14GhdXz_vydwJJcfCE9FwqTa-bepmD2utpymafyGVRA=s64",
      "userId": "06625822810889763391"
     },
     "user_tz": -330
    },
    "id": "lrNEqsmdI3h_",
    "outputId": "309616ae-6220-4f15-c93f-a96ef1de5578",
    "scrolled": true
   },
   "outputs": [
    {
     "data": {
      "text/html": [
       "<div>\n",
       "<style scoped>\n",
       "    .dataframe tbody tr th:only-of-type {\n",
       "        vertical-align: middle;\n",
       "    }\n",
       "\n",
       "    .dataframe tbody tr th {\n",
       "        vertical-align: top;\n",
       "    }\n",
       "\n",
       "    .dataframe thead th {\n",
       "        text-align: right;\n",
       "    }\n",
       "</style>\n",
       "<table border=\"1\" class=\"dataframe\">\n",
       "  <thead>\n",
       "    <tr style=\"text-align: right;\">\n",
       "      <th></th>\n",
       "      <th>0</th>\n",
       "      <th>1</th>\n",
       "      <th>2</th>\n",
       "      <th>3</th>\n",
       "      <th>4</th>\n",
       "      <th>5</th>\n",
       "      <th>6</th>\n",
       "      <th>7</th>\n",
       "      <th>8</th>\n",
       "      <th>9</th>\n",
       "      <th>10</th>\n",
       "      <th>11</th>\n",
       "      <th>12</th>\n",
       "      <th>13</th>\n",
       "      <th>14</th>\n",
       "      <th>15</th>\n",
       "      <th>16</th>\n",
       "      <th>17</th>\n",
       "      <th>18</th>\n",
       "      <th>19</th>\n",
       "      <th>20</th>\n",
       "      <th>21</th>\n",
       "      <th>22</th>\n",
       "      <th>23</th>\n",
       "      <th>24</th>\n",
       "      <th>25</th>\n",
       "      <th>26</th>\n",
       "      <th>27</th>\n",
       "      <th>28</th>\n",
       "      <th>29</th>\n",
       "    </tr>\n",
       "  </thead>\n",
       "  <tbody>\n",
       "    <tr>\n",
       "      <th>0</th>\n",
       "      <td>0.604376</td>\n",
       "      <td>-0.141393</td>\n",
       "      <td>0.531054</td>\n",
       "      <td>0.791812</td>\n",
       "      <td>-1.545774</td>\n",
       "      <td>1.368703</td>\n",
       "      <td>-0.863437</td>\n",
       "      <td>-0.388407</td>\n",
       "      <td>-0.044329</td>\n",
       "      <td>0.262680</td>\n",
       "      <td>-0.994720</td>\n",
       "      <td>0.336583</td>\n",
       "      <td>0.077931</td>\n",
       "      <td>-0.030666</td>\n",
       "      <td>-0.456396</td>\n",
       "      <td>0.172122</td>\n",
       "      <td>0.104097</td>\n",
       "      <td>0.318855</td>\n",
       "      <td>-0.174226</td>\n",
       "      <td>0.367362</td>\n",
       "      <td>0.220613</td>\n",
       "      <td>-0.254823</td>\n",
       "      <td>-0.322413</td>\n",
       "      <td>-0.280098</td>\n",
       "      <td>-0.183170</td>\n",
       "      <td>-0.272401</td>\n",
       "      <td>-0.001103</td>\n",
       "      <td>-0.049510</td>\n",
       "      <td>-0.038647</td>\n",
       "      <td>-0.108226</td>\n",
       "    </tr>\n",
       "    <tr>\n",
       "      <th>1</th>\n",
       "      <td>0.125478</td>\n",
       "      <td>1.534695</td>\n",
       "      <td>0.580445</td>\n",
       "      <td>0.960974</td>\n",
       "      <td>-1.174978</td>\n",
       "      <td>0.185667</td>\n",
       "      <td>-1.465830</td>\n",
       "      <td>-0.082520</td>\n",
       "      <td>-0.033734</td>\n",
       "      <td>0.157969</td>\n",
       "      <td>-0.933278</td>\n",
       "      <td>0.076945</td>\n",
       "      <td>-0.004945</td>\n",
       "      <td>-0.112804</td>\n",
       "      <td>-0.327737</td>\n",
       "      <td>0.460089</td>\n",
       "      <td>-0.072690</td>\n",
       "      <td>0.090297</td>\n",
       "      <td>-0.121612</td>\n",
       "      <td>0.171662</td>\n",
       "      <td>0.156674</td>\n",
       "      <td>-0.149023</td>\n",
       "      <td>-0.195847</td>\n",
       "      <td>-0.142248</td>\n",
       "      <td>-0.131117</td>\n",
       "      <td>-0.196488</td>\n",
       "      <td>0.076537</td>\n",
       "      <td>-0.106483</td>\n",
       "      <td>0.014044</td>\n",
       "      <td>-0.072052</td>\n",
       "    </tr>\n",
       "    <tr>\n",
       "      <th>2</th>\n",
       "      <td>0.645527</td>\n",
       "      <td>1.024859</td>\n",
       "      <td>0.874958</td>\n",
       "      <td>1.443300</td>\n",
       "      <td>-1.471680</td>\n",
       "      <td>0.673121</td>\n",
       "      <td>-1.472783</td>\n",
       "      <td>-0.349277</td>\n",
       "      <td>-0.139083</td>\n",
       "      <td>0.472565</td>\n",
       "      <td>-1.133631</td>\n",
       "      <td>0.366538</td>\n",
       "      <td>-0.399172</td>\n",
       "      <td>-0.015037</td>\n",
       "      <td>-0.481330</td>\n",
       "      <td>0.892712</td>\n",
       "      <td>-0.324920</td>\n",
       "      <td>-0.000701</td>\n",
       "      <td>-0.080404</td>\n",
       "      <td>0.001502</td>\n",
       "      <td>0.271390</td>\n",
       "      <td>-0.315944</td>\n",
       "      <td>-0.311593</td>\n",
       "      <td>0.032287</td>\n",
       "      <td>0.021460</td>\n",
       "      <td>-0.284245</td>\n",
       "      <td>0.206112</td>\n",
       "      <td>-0.045117</td>\n",
       "      <td>0.071149</td>\n",
       "      <td>0.015709</td>\n",
       "    </tr>\n",
       "    <tr>\n",
       "      <th>3</th>\n",
       "      <td>1.139261</td>\n",
       "      <td>-0.272673</td>\n",
       "      <td>0.436824</td>\n",
       "      <td>0.509703</td>\n",
       "      <td>-1.681391</td>\n",
       "      <td>0.777905</td>\n",
       "      <td>-0.867519</td>\n",
       "      <td>0.063203</td>\n",
       "      <td>-0.130756</td>\n",
       "      <td>0.090579</td>\n",
       "      <td>-0.537746</td>\n",
       "      <td>0.216672</td>\n",
       "      <td>-0.446746</td>\n",
       "      <td>-0.178506</td>\n",
       "      <td>-0.452074</td>\n",
       "      <td>0.348211</td>\n",
       "      <td>-0.367846</td>\n",
       "      <td>-0.517481</td>\n",
       "      <td>0.131558</td>\n",
       "      <td>-0.183860</td>\n",
       "      <td>0.194381</td>\n",
       "      <td>0.050707</td>\n",
       "      <td>-0.467808</td>\n",
       "      <td>-0.013428</td>\n",
       "      <td>-0.226313</td>\n",
       "      <td>-0.289405</td>\n",
       "      <td>0.116773</td>\n",
       "      <td>-0.134201</td>\n",
       "      <td>0.167206</td>\n",
       "      <td>0.083739</td>\n",
       "    </tr>\n",
       "    <tr>\n",
       "      <th>4</th>\n",
       "      <td>0.253626</td>\n",
       "      <td>0.483900</td>\n",
       "      <td>0.881898</td>\n",
       "      <td>0.965239</td>\n",
       "      <td>-0.899255</td>\n",
       "      <td>0.673088</td>\n",
       "      <td>-1.240591</td>\n",
       "      <td>-0.258630</td>\n",
       "      <td>-0.025030</td>\n",
       "      <td>0.194163</td>\n",
       "      <td>-1.065238</td>\n",
       "      <td>0.131450</td>\n",
       "      <td>-0.114913</td>\n",
       "      <td>-0.074007</td>\n",
       "      <td>-0.515866</td>\n",
       "      <td>0.740729</td>\n",
       "      <td>-0.212542</td>\n",
       "      <td>-0.016901</td>\n",
       "      <td>-0.178390</td>\n",
       "      <td>0.001093</td>\n",
       "      <td>0.300175</td>\n",
       "      <td>-0.147390</td>\n",
       "      <td>-0.273871</td>\n",
       "      <td>0.079250</td>\n",
       "      <td>-0.079087</td>\n",
       "      <td>-0.069195</td>\n",
       "      <td>-0.010102</td>\n",
       "      <td>-0.081536</td>\n",
       "      <td>-0.282579</td>\n",
       "      <td>-0.234371</td>\n",
       "    </tr>\n",
       "  </tbody>\n",
       "</table>\n",
       "</div>"
      ],
      "text/plain": [
       "         0         1         2         3         4         5         6   \\\n",
       "0  0.604376 -0.141393  0.531054  0.791812 -1.545774  1.368703 -0.863437   \n",
       "1  0.125478  1.534695  0.580445  0.960974 -1.174978  0.185667 -1.465830   \n",
       "2  0.645527  1.024859  0.874958  1.443300 -1.471680  0.673121 -1.472783   \n",
       "3  1.139261 -0.272673  0.436824  0.509703 -1.681391  0.777905 -0.867519   \n",
       "4  0.253626  0.483900  0.881898  0.965239 -0.899255  0.673088 -1.240591   \n",
       "\n",
       "         7         8         9         10        11        12        13  \\\n",
       "0 -0.388407 -0.044329  0.262680 -0.994720  0.336583  0.077931 -0.030666   \n",
       "1 -0.082520 -0.033734  0.157969 -0.933278  0.076945 -0.004945 -0.112804   \n",
       "2 -0.349277 -0.139083  0.472565 -1.133631  0.366538 -0.399172 -0.015037   \n",
       "3  0.063203 -0.130756  0.090579 -0.537746  0.216672 -0.446746 -0.178506   \n",
       "4 -0.258630 -0.025030  0.194163 -1.065238  0.131450 -0.114913 -0.074007   \n",
       "\n",
       "         14        15        16        17        18        19        20  \\\n",
       "0 -0.456396  0.172122  0.104097  0.318855 -0.174226  0.367362  0.220613   \n",
       "1 -0.327737  0.460089 -0.072690  0.090297 -0.121612  0.171662  0.156674   \n",
       "2 -0.481330  0.892712 -0.324920 -0.000701 -0.080404  0.001502  0.271390   \n",
       "3 -0.452074  0.348211 -0.367846 -0.517481  0.131558 -0.183860  0.194381   \n",
       "4 -0.515866  0.740729 -0.212542 -0.016901 -0.178390  0.001093  0.300175   \n",
       "\n",
       "         21        22        23        24        25        26        27  \\\n",
       "0 -0.254823 -0.322413 -0.280098 -0.183170 -0.272401 -0.001103 -0.049510   \n",
       "1 -0.149023 -0.195847 -0.142248 -0.131117 -0.196488  0.076537 -0.106483   \n",
       "2 -0.315944 -0.311593  0.032287  0.021460 -0.284245  0.206112 -0.045117   \n",
       "3  0.050707 -0.467808 -0.013428 -0.226313 -0.289405  0.116773 -0.134201   \n",
       "4 -0.147390 -0.273871  0.079250 -0.079087 -0.069195 -0.010102 -0.081536   \n",
       "\n",
       "         28        29  \n",
       "0 -0.038647 -0.108226  \n",
       "1  0.014044 -0.072052  \n",
       "2  0.071149  0.015709  \n",
       "3  0.167206  0.083739  \n",
       "4 -0.282579 -0.234371  "
      ]
     },
     "execution_count": 33,
     "metadata": {},
     "output_type": "execute_result"
    }
   ],
   "source": [
    "df2=pca.transform(df1)\n",
    "df2=pd.DataFrame(df2)\n",
    "df2.head()"
   ]
  },
  {
   "cell_type": "markdown",
   "metadata": {
    "id": "N7p8xas5I3iG"
   },
   "source": [
    "# 7. Train Test Split\n",
    "<a id=section7></a>"
   ]
  },
  {
   "cell_type": "markdown",
   "metadata": {
    "id": "sh2AA2ZlI3iG"
   },
   "source": [
    "Before we move forward with **Scaling the Dataset and Model Development** let us divide the dataset for Train and Test data.\n",
    "- We will use Train data to develop the model\n",
    "- We will use Test data as tomorrow's unknown data to test our model behaviour"
   ]
  },
  {
   "cell_type": "code",
   "execution_count": 34,
   "metadata": {
    "colab": {
     "base_uri": "https://localhost:8080/",
     "height": 224
    },
    "executionInfo": {
     "elapsed": 132324,
     "status": "ok",
     "timestamp": 1604063785817,
     "user": {
      "displayName": "Avinash Shan Monteiro",
      "photoUrl": "https://lh3.googleusercontent.com/a-/AOh14GhdXz_vydwJJcfCE9FwqTa-bepmD2utpymafyGVRA=s64",
      "userId": "06625822810889763391"
     },
     "user_tz": -330
    },
    "id": "dxd4EQ7wI3iI",
    "outputId": "9a563129-b050-4293-deba-3ace7f328b7d"
   },
   "outputs": [
    {
     "data": {
      "text/html": [
       "<div>\n",
       "<style scoped>\n",
       "    .dataframe tbody tr th:only-of-type {\n",
       "        vertical-align: middle;\n",
       "    }\n",
       "\n",
       "    .dataframe tbody tr th {\n",
       "        vertical-align: top;\n",
       "    }\n",
       "\n",
       "    .dataframe thead th {\n",
       "        text-align: right;\n",
       "    }\n",
       "</style>\n",
       "<table border=\"1\" class=\"dataframe\">\n",
       "  <thead>\n",
       "    <tr style=\"text-align: right;\">\n",
       "      <th></th>\n",
       "      <th>0</th>\n",
       "      <th>1</th>\n",
       "      <th>2</th>\n",
       "      <th>3</th>\n",
       "      <th>4</th>\n",
       "      <th>5</th>\n",
       "      <th>6</th>\n",
       "      <th>7</th>\n",
       "      <th>8</th>\n",
       "      <th>9</th>\n",
       "      <th>10</th>\n",
       "      <th>11</th>\n",
       "      <th>12</th>\n",
       "      <th>13</th>\n",
       "      <th>14</th>\n",
       "      <th>15</th>\n",
       "      <th>16</th>\n",
       "      <th>17</th>\n",
       "      <th>18</th>\n",
       "      <th>19</th>\n",
       "      <th>20</th>\n",
       "      <th>21</th>\n",
       "      <th>22</th>\n",
       "      <th>23</th>\n",
       "      <th>24</th>\n",
       "      <th>25</th>\n",
       "      <th>26</th>\n",
       "      <th>27</th>\n",
       "      <th>28</th>\n",
       "      <th>29</th>\n",
       "    </tr>\n",
       "  </thead>\n",
       "  <tbody>\n",
       "    <tr>\n",
       "      <th>0</th>\n",
       "      <td>0.604376</td>\n",
       "      <td>-0.141393</td>\n",
       "      <td>0.531054</td>\n",
       "      <td>0.791812</td>\n",
       "      <td>-1.545774</td>\n",
       "      <td>1.368703</td>\n",
       "      <td>-0.863437</td>\n",
       "      <td>-0.388407</td>\n",
       "      <td>-0.044329</td>\n",
       "      <td>0.262680</td>\n",
       "      <td>-0.994720</td>\n",
       "      <td>0.336583</td>\n",
       "      <td>0.077931</td>\n",
       "      <td>-0.030666</td>\n",
       "      <td>-0.456396</td>\n",
       "      <td>0.172122</td>\n",
       "      <td>0.104097</td>\n",
       "      <td>0.318855</td>\n",
       "      <td>-0.174226</td>\n",
       "      <td>0.367362</td>\n",
       "      <td>0.220613</td>\n",
       "      <td>-0.254823</td>\n",
       "      <td>-0.322413</td>\n",
       "      <td>-0.280098</td>\n",
       "      <td>-0.183170</td>\n",
       "      <td>-0.272401</td>\n",
       "      <td>-0.001103</td>\n",
       "      <td>-0.049510</td>\n",
       "      <td>-0.038647</td>\n",
       "      <td>-0.108226</td>\n",
       "    </tr>\n",
       "    <tr>\n",
       "      <th>1</th>\n",
       "      <td>0.125478</td>\n",
       "      <td>1.534695</td>\n",
       "      <td>0.580445</td>\n",
       "      <td>0.960974</td>\n",
       "      <td>-1.174978</td>\n",
       "      <td>0.185667</td>\n",
       "      <td>-1.465830</td>\n",
       "      <td>-0.082520</td>\n",
       "      <td>-0.033734</td>\n",
       "      <td>0.157969</td>\n",
       "      <td>-0.933278</td>\n",
       "      <td>0.076945</td>\n",
       "      <td>-0.004945</td>\n",
       "      <td>-0.112804</td>\n",
       "      <td>-0.327737</td>\n",
       "      <td>0.460089</td>\n",
       "      <td>-0.072690</td>\n",
       "      <td>0.090297</td>\n",
       "      <td>-0.121612</td>\n",
       "      <td>0.171662</td>\n",
       "      <td>0.156674</td>\n",
       "      <td>-0.149023</td>\n",
       "      <td>-0.195847</td>\n",
       "      <td>-0.142248</td>\n",
       "      <td>-0.131117</td>\n",
       "      <td>-0.196488</td>\n",
       "      <td>0.076537</td>\n",
       "      <td>-0.106483</td>\n",
       "      <td>0.014044</td>\n",
       "      <td>-0.072052</td>\n",
       "    </tr>\n",
       "    <tr>\n",
       "      <th>2</th>\n",
       "      <td>0.645527</td>\n",
       "      <td>1.024859</td>\n",
       "      <td>0.874958</td>\n",
       "      <td>1.443300</td>\n",
       "      <td>-1.471680</td>\n",
       "      <td>0.673121</td>\n",
       "      <td>-1.472783</td>\n",
       "      <td>-0.349277</td>\n",
       "      <td>-0.139083</td>\n",
       "      <td>0.472565</td>\n",
       "      <td>-1.133631</td>\n",
       "      <td>0.366538</td>\n",
       "      <td>-0.399172</td>\n",
       "      <td>-0.015037</td>\n",
       "      <td>-0.481330</td>\n",
       "      <td>0.892712</td>\n",
       "      <td>-0.324920</td>\n",
       "      <td>-0.000701</td>\n",
       "      <td>-0.080404</td>\n",
       "      <td>0.001502</td>\n",
       "      <td>0.271390</td>\n",
       "      <td>-0.315944</td>\n",
       "      <td>-0.311593</td>\n",
       "      <td>0.032287</td>\n",
       "      <td>0.021460</td>\n",
       "      <td>-0.284245</td>\n",
       "      <td>0.206112</td>\n",
       "      <td>-0.045117</td>\n",
       "      <td>0.071149</td>\n",
       "      <td>0.015709</td>\n",
       "    </tr>\n",
       "    <tr>\n",
       "      <th>3</th>\n",
       "      <td>1.139261</td>\n",
       "      <td>-0.272673</td>\n",
       "      <td>0.436824</td>\n",
       "      <td>0.509703</td>\n",
       "      <td>-1.681391</td>\n",
       "      <td>0.777905</td>\n",
       "      <td>-0.867519</td>\n",
       "      <td>0.063203</td>\n",
       "      <td>-0.130756</td>\n",
       "      <td>0.090579</td>\n",
       "      <td>-0.537746</td>\n",
       "      <td>0.216672</td>\n",
       "      <td>-0.446746</td>\n",
       "      <td>-0.178506</td>\n",
       "      <td>-0.452074</td>\n",
       "      <td>0.348211</td>\n",
       "      <td>-0.367846</td>\n",
       "      <td>-0.517481</td>\n",
       "      <td>0.131558</td>\n",
       "      <td>-0.183860</td>\n",
       "      <td>0.194381</td>\n",
       "      <td>0.050707</td>\n",
       "      <td>-0.467808</td>\n",
       "      <td>-0.013428</td>\n",
       "      <td>-0.226313</td>\n",
       "      <td>-0.289405</td>\n",
       "      <td>0.116773</td>\n",
       "      <td>-0.134201</td>\n",
       "      <td>0.167206</td>\n",
       "      <td>0.083739</td>\n",
       "    </tr>\n",
       "    <tr>\n",
       "      <th>4</th>\n",
       "      <td>0.253626</td>\n",
       "      <td>0.483900</td>\n",
       "      <td>0.881898</td>\n",
       "      <td>0.965239</td>\n",
       "      <td>-0.899255</td>\n",
       "      <td>0.673088</td>\n",
       "      <td>-1.240591</td>\n",
       "      <td>-0.258630</td>\n",
       "      <td>-0.025030</td>\n",
       "      <td>0.194163</td>\n",
       "      <td>-1.065238</td>\n",
       "      <td>0.131450</td>\n",
       "      <td>-0.114913</td>\n",
       "      <td>-0.074007</td>\n",
       "      <td>-0.515866</td>\n",
       "      <td>0.740729</td>\n",
       "      <td>-0.212542</td>\n",
       "      <td>-0.016901</td>\n",
       "      <td>-0.178390</td>\n",
       "      <td>0.001093</td>\n",
       "      <td>0.300175</td>\n",
       "      <td>-0.147390</td>\n",
       "      <td>-0.273871</td>\n",
       "      <td>0.079250</td>\n",
       "      <td>-0.079087</td>\n",
       "      <td>-0.069195</td>\n",
       "      <td>-0.010102</td>\n",
       "      <td>-0.081536</td>\n",
       "      <td>-0.282579</td>\n",
       "      <td>-0.234371</td>\n",
       "    </tr>\n",
       "  </tbody>\n",
       "</table>\n",
       "</div>"
      ],
      "text/plain": [
       "         0         1         2         3         4         5         6   \\\n",
       "0  0.604376 -0.141393  0.531054  0.791812 -1.545774  1.368703 -0.863437   \n",
       "1  0.125478  1.534695  0.580445  0.960974 -1.174978  0.185667 -1.465830   \n",
       "2  0.645527  1.024859  0.874958  1.443300 -1.471680  0.673121 -1.472783   \n",
       "3  1.139261 -0.272673  0.436824  0.509703 -1.681391  0.777905 -0.867519   \n",
       "4  0.253626  0.483900  0.881898  0.965239 -0.899255  0.673088 -1.240591   \n",
       "\n",
       "         7         8         9         10        11        12        13  \\\n",
       "0 -0.388407 -0.044329  0.262680 -0.994720  0.336583  0.077931 -0.030666   \n",
       "1 -0.082520 -0.033734  0.157969 -0.933278  0.076945 -0.004945 -0.112804   \n",
       "2 -0.349277 -0.139083  0.472565 -1.133631  0.366538 -0.399172 -0.015037   \n",
       "3  0.063203 -0.130756  0.090579 -0.537746  0.216672 -0.446746 -0.178506   \n",
       "4 -0.258630 -0.025030  0.194163 -1.065238  0.131450 -0.114913 -0.074007   \n",
       "\n",
       "         14        15        16        17        18        19        20  \\\n",
       "0 -0.456396  0.172122  0.104097  0.318855 -0.174226  0.367362  0.220613   \n",
       "1 -0.327737  0.460089 -0.072690  0.090297 -0.121612  0.171662  0.156674   \n",
       "2 -0.481330  0.892712 -0.324920 -0.000701 -0.080404  0.001502  0.271390   \n",
       "3 -0.452074  0.348211 -0.367846 -0.517481  0.131558 -0.183860  0.194381   \n",
       "4 -0.515866  0.740729 -0.212542 -0.016901 -0.178390  0.001093  0.300175   \n",
       "\n",
       "         21        22        23        24        25        26        27  \\\n",
       "0 -0.254823 -0.322413 -0.280098 -0.183170 -0.272401 -0.001103 -0.049510   \n",
       "1 -0.149023 -0.195847 -0.142248 -0.131117 -0.196488  0.076537 -0.106483   \n",
       "2 -0.315944 -0.311593  0.032287  0.021460 -0.284245  0.206112 -0.045117   \n",
       "3  0.050707 -0.467808 -0.013428 -0.226313 -0.289405  0.116773 -0.134201   \n",
       "4 -0.147390 -0.273871  0.079250 -0.079087 -0.069195 -0.010102 -0.081536   \n",
       "\n",
       "         28        29  \n",
       "0 -0.038647 -0.108226  \n",
       "1  0.014044 -0.072052  \n",
       "2  0.071149  0.015709  \n",
       "3  0.167206  0.083739  \n",
       "4 -0.282579 -0.234371  "
      ]
     },
     "execution_count": 34,
     "metadata": {},
     "output_type": "execute_result"
    }
   ],
   "source": [
    "X=df2.copy()\n",
    "X.head()"
   ]
  },
  {
   "cell_type": "code",
   "execution_count": 35,
   "metadata": {
    "colab": {
     "base_uri": "https://localhost:8080/"
    },
    "executionInfo": {
     "elapsed": 132310,
     "status": "ok",
     "timestamp": 1604063785818,
     "user": {
      "displayName": "Avinash Shan Monteiro",
      "photoUrl": "https://lh3.googleusercontent.com/a-/AOh14GhdXz_vydwJJcfCE9FwqTa-bepmD2utpymafyGVRA=s64",
      "userId": "06625822810889763391"
     },
     "user_tz": -330
    },
    "id": "UV3yVhAcI3iO",
    "outputId": "96d8cfd8-354e-4820-956e-96f3ccc9ec56"
   },
   "outputs": [
    {
     "data": {
      "text/plain": [
       "(208, 30)"
      ]
     },
     "execution_count": 35,
     "metadata": {},
     "output_type": "execute_result"
    }
   ],
   "source": [
    "X.shape"
   ]
  },
  {
   "cell_type": "code",
   "execution_count": 36,
   "metadata": {
    "colab": {
     "base_uri": "https://localhost:8080/",
     "height": 204
    },
    "executionInfo": {
     "elapsed": 132301,
     "status": "ok",
     "timestamp": 1604063785824,
     "user": {
      "displayName": "Avinash Shan Monteiro",
      "photoUrl": "https://lh3.googleusercontent.com/a-/AOh14GhdXz_vydwJJcfCE9FwqTa-bepmD2utpymafyGVRA=s64",
      "userId": "06625822810889763391"
     },
     "user_tz": -330
    },
    "id": "8VUHRt8JI3iX",
    "outputId": "05d0e4e2-09fb-4d10-f755-da00a09856af",
    "scrolled": true
   },
   "outputs": [
    {
     "data": {
      "text/html": [
       "<div>\n",
       "<style scoped>\n",
       "    .dataframe tbody tr th:only-of-type {\n",
       "        vertical-align: middle;\n",
       "    }\n",
       "\n",
       "    .dataframe tbody tr th {\n",
       "        vertical-align: top;\n",
       "    }\n",
       "\n",
       "    .dataframe thead th {\n",
       "        text-align: right;\n",
       "    }\n",
       "</style>\n",
       "<table border=\"1\" class=\"dataframe\">\n",
       "  <thead>\n",
       "    <tr style=\"text-align: right;\">\n",
       "      <th></th>\n",
       "      <th>Target</th>\n",
       "    </tr>\n",
       "  </thead>\n",
       "  <tbody>\n",
       "    <tr>\n",
       "      <th>0</th>\n",
       "      <td>0</td>\n",
       "    </tr>\n",
       "    <tr>\n",
       "      <th>1</th>\n",
       "      <td>0</td>\n",
       "    </tr>\n",
       "  </tbody>\n",
       "</table>\n",
       "</div>"
      ],
      "text/plain": [
       "   Target\n",
       "0       0\n",
       "1       0"
      ]
     },
     "execution_count": 36,
     "metadata": {},
     "output_type": "execute_result"
    }
   ],
   "source": [
    "y=pd.DataFrame(df['Target'])\n",
    "y.head(2)"
   ]
  },
  {
   "cell_type": "code",
   "execution_count": 37,
   "metadata": {
    "colab": {
     "base_uri": "https://localhost:8080/"
    },
    "executionInfo": {
     "elapsed": 132294,
     "status": "ok",
     "timestamp": 1604063785831,
     "user": {
      "displayName": "Avinash Shan Monteiro",
      "photoUrl": "https://lh3.googleusercontent.com/a-/AOh14GhdXz_vydwJJcfCE9FwqTa-bepmD2utpymafyGVRA=s64",
      "userId": "06625822810889763391"
     },
     "user_tz": -330
    },
    "id": "orMHy4LsI3id",
    "outputId": "b84da056-6451-4fbf-a26f-9928147bc48a"
   },
   "outputs": [
    {
     "data": {
      "text/plain": [
       "(208, 1)"
      ]
     },
     "execution_count": 37,
     "metadata": {},
     "output_type": "execute_result"
    }
   ],
   "source": [
    "y.shape"
   ]
  },
  {
   "cell_type": "code",
   "execution_count": 38,
   "metadata": {
    "executionInfo": {
     "elapsed": 132290,
     "status": "ok",
     "timestamp": 1604063785835,
     "user": {
      "displayName": "Avinash Shan Monteiro",
      "photoUrl": "https://lh3.googleusercontent.com/a-/AOh14GhdXz_vydwJJcfCE9FwqTa-bepmD2utpymafyGVRA=s64",
      "userId": "06625822810889763391"
     },
     "user_tz": -330
    },
    "id": "jwqOXGThI3ih"
   },
   "outputs": [],
   "source": [
    "from sklearn.model_selection import train_test_split \n",
    "X_train, X_test, y_train, y_test = train_test_split(X, y, test_size=0.25,random_state=42)"
   ]
  },
  {
   "cell_type": "code",
   "execution_count": 39,
   "metadata": {
    "colab": {
     "base_uri": "https://localhost:8080/"
    },
    "executionInfo": {
     "elapsed": 132991,
     "status": "ok",
     "timestamp": 1604063786545,
     "user": {
      "displayName": "Avinash Shan Monteiro",
      "photoUrl": "https://lh3.googleusercontent.com/a-/AOh14GhdXz_vydwJJcfCE9FwqTa-bepmD2utpymafyGVRA=s64",
      "userId": "06625822810889763391"
     },
     "user_tz": -330
    },
    "id": "6twExro5I3im",
    "outputId": "eaef881e-36d0-4d01-d82e-e758f45a0a28"
   },
   "outputs": [
    {
     "data": {
      "text/plain": [
       "(156, 30)"
      ]
     },
     "execution_count": 39,
     "metadata": {},
     "output_type": "execute_result"
    }
   ],
   "source": [
    "X_train.shape"
   ]
  },
  {
   "cell_type": "markdown",
   "metadata": {},
   "source": [
    "The train dataset of independent features has 156 rows"
   ]
  },
  {
   "cell_type": "code",
   "execution_count": 40,
   "metadata": {
    "colab": {
     "base_uri": "https://localhost:8080/"
    },
    "executionInfo": {
     "elapsed": 132991,
     "status": "ok",
     "timestamp": 1604063786557,
     "user": {
      "displayName": "Avinash Shan Monteiro",
      "photoUrl": "https://lh3.googleusercontent.com/a-/AOh14GhdXz_vydwJJcfCE9FwqTa-bepmD2utpymafyGVRA=s64",
      "userId": "06625822810889763391"
     },
     "user_tz": -330
    },
    "id": "iARbkj3vI3iq",
    "outputId": "f35c18ce-774e-4431-8149-e3f06f535005"
   },
   "outputs": [
    {
     "data": {
      "text/plain": [
       "(156, 1)"
      ]
     },
     "execution_count": 40,
     "metadata": {},
     "output_type": "execute_result"
    }
   ],
   "source": [
    "y_train.shape"
   ]
  },
  {
   "cell_type": "code",
   "execution_count": 41,
   "metadata": {
    "colab": {
     "base_uri": "https://localhost:8080/"
    },
    "executionInfo": {
     "elapsed": 132981,
     "status": "ok",
     "timestamp": 1604063786558,
     "user": {
      "displayName": "Avinash Shan Monteiro",
      "photoUrl": "https://lh3.googleusercontent.com/a-/AOh14GhdXz_vydwJJcfCE9FwqTa-bepmD2utpymafyGVRA=s64",
      "userId": "06625822810889763391"
     },
     "user_tz": -330
    },
    "id": "ynpXjLfOI3it",
    "outputId": "59118276-74e7-418d-a722-b22f0a924d97"
   },
   "outputs": [
    {
     "data": {
      "text/plain": [
       "(52, 30)"
      ]
     },
     "execution_count": 41,
     "metadata": {},
     "output_type": "execute_result"
    }
   ],
   "source": [
    "X_test.shape"
   ]
  },
  {
   "cell_type": "markdown",
   "metadata": {},
   "source": [
    "The test dataset of independent features has 52 rows"
   ]
  },
  {
   "cell_type": "code",
   "execution_count": 42,
   "metadata": {
    "colab": {
     "base_uri": "https://localhost:8080/"
    },
    "executionInfo": {
     "elapsed": 132977,
     "status": "ok",
     "timestamp": 1604063786566,
     "user": {
      "displayName": "Avinash Shan Monteiro",
      "photoUrl": "https://lh3.googleusercontent.com/a-/AOh14GhdXz_vydwJJcfCE9FwqTa-bepmD2utpymafyGVRA=s64",
      "userId": "06625822810889763391"
     },
     "user_tz": -330
    },
    "id": "fCaUddW8I3ix",
    "outputId": "8ea11a3e-4bf3-4c1f-c135-9c0881a8dba9"
   },
   "outputs": [
    {
     "data": {
      "text/plain": [
       "(52, 1)"
      ]
     },
     "execution_count": 42,
     "metadata": {},
     "output_type": "execute_result"
    }
   ],
   "source": [
    "y_test.shape"
   ]
  },
  {
   "cell_type": "markdown",
   "metadata": {
    "id": "IVn3QqhrI3i2"
   },
   "source": [
    "# 8 Machine Learning Models\n",
    "<a id=section8></a>"
   ]
  },
  {
   "cell_type": "markdown",
   "metadata": {
    "id": "RAIHoMP4I3i2"
   },
   "source": [
    "Now we are ready with our data to develop few models for Machine Learning. Let us develop various Machine Learning Models starting with a Logistic Regression Model and understand the results from them.\n",
    "\n",
    "To start with, we ill first develop simple Machine Learning Model adn check for the accuracy to deduce if the model is overfitted or underfitted. After that we will use the technique of **hyper parameter tuning** and tune the existing model inot a better model. Once it is done, we will evaluate this model and find out the accuracy, Recall Score and also plot the confusion matrix."
   ]
  },
  {
   "cell_type": "markdown",
   "metadata": {
    "id": "rWs2bwheI3i3"
   },
   "source": [
    "## 8.1 Logistic Regression\n",
    "<a id=section81></a>"
   ]
  },
  {
   "cell_type": "code",
   "execution_count": 43,
   "metadata": {
    "colab": {
     "base_uri": "https://localhost:8080/"
    },
    "executionInfo": {
     "elapsed": 132967,
     "status": "ok",
     "timestamp": 1604063786567,
     "user": {
      "displayName": "Avinash Shan Monteiro",
      "photoUrl": "https://lh3.googleusercontent.com/a-/AOh14GhdXz_vydwJJcfCE9FwqTa-bepmD2utpymafyGVRA=s64",
      "userId": "06625822810889763391"
     },
     "user_tz": -330
    },
    "id": "PVXtfTNhI3i4",
    "outputId": "98753d73-c2e5-4028-ab51-ec232761ef60"
   },
   "outputs": [
    {
     "data": {
      "text/plain": [
       "LogisticRegression()"
      ]
     },
     "execution_count": 43,
     "metadata": {},
     "output_type": "execute_result"
    }
   ],
   "source": [
    "from sklearn.linear_model import LogisticRegression #model importing\n",
    "logreg=LogisticRegression() #defins object\n",
    "logreg.fit(X_train, y_train) #training the function"
   ]
  },
  {
   "cell_type": "markdown",
   "metadata": {
    "id": "BZZWU95Xqi7Y"
   },
   "source": [
    "Printing the co-efficients"
   ]
  },
  {
   "cell_type": "code",
   "execution_count": 44,
   "metadata": {
    "colab": {
     "base_uri": "https://localhost:8080/"
    },
    "executionInfo": {
     "elapsed": 1228,
     "status": "ok",
     "timestamp": 1604064090756,
     "user": {
      "displayName": "Avinash Shan Monteiro",
      "photoUrl": "https://lh3.googleusercontent.com/a-/AOh14GhdXz_vydwJJcfCE9FwqTa-bepmD2utpymafyGVRA=s64",
      "userId": "06625822810889763391"
     },
     "user_tz": -330
    },
    "id": "jcqDaqelI3i7",
    "outputId": "9a838cb5-b5be-49cb-c1dd-2d911de39ff8"
   },
   "outputs": [
    {
     "name": "stdout",
     "output_type": "stream",
     "text": [
      "The co-efficients of Logistic regression models are:\n",
      " [[ 1.29885551e+00  8.70476365e-01  2.55601538e+00  5.38709699e-01\n",
      "  -7.14965103e-01  5.29295210e-02  8.01232079e-01  3.29996685e-01\n",
      "  -1.40761895e+00  9.49091321e-01  1.13987871e-01 -2.37747376e-01\n",
      "  -3.03227356e-01  8.33776335e-01  5.24184288e-01 -1.48152637e-01\n",
      "   1.73787215e-01  5.19311373e-01  3.53229331e-01 -4.51128831e-02\n",
      "   1.72798257e-01 -4.20286691e-01  3.66658843e-01  1.81063639e-01\n",
      "  -4.93436869e-02  1.40152729e-04 -3.38536705e-01 -4.02489759e-01\n",
      "  -1.79114322e-01 -1.05602369e-01]]\n"
     ]
    }
   ],
   "source": [
    "print('The co-efficients of Logistic regression models are:\\n',logreg.coef_)"
   ]
  },
  {
   "cell_type": "markdown",
   "metadata": {},
   "source": [
    "Printing Intercept"
   ]
  },
  {
   "cell_type": "code",
   "execution_count": 45,
   "metadata": {
    "colab": {
     "base_uri": "https://localhost:8080/"
    },
    "executionInfo": {
     "elapsed": 3320,
     "status": "ok",
     "timestamp": 1604064146228,
     "user": {
      "displayName": "Avinash Shan Monteiro",
      "photoUrl": "https://lh3.googleusercontent.com/a-/AOh14GhdXz_vydwJJcfCE9FwqTa-bepmD2utpymafyGVRA=s64",
      "userId": "06625822810889763391"
     },
     "user_tz": -330
    },
    "id": "Qi43pMHEI3i_",
    "outputId": "a251a36f-bd15-434a-e542-6584f5d7417b"
   },
   "outputs": [
    {
     "name": "stdout",
     "output_type": "stream",
     "text": [
      "The intercept of Logistic Regression model is :  -3.002173405995333\n"
     ]
    }
   ],
   "source": [
    "print('The intercept of Logistic Regression model is : ',logreg.intercept_[0])"
   ]
  },
  {
   "cell_type": "markdown",
   "metadata": {
    "id": "NZFGCMc-rMSE"
   },
   "source": [
    "Predicting the train and test outputs from the model"
   ]
  },
  {
   "cell_type": "code",
   "execution_count": 46,
   "metadata": {
    "executionInfo": {
     "elapsed": 132940,
     "status": "ok",
     "timestamp": 1604063786573,
     "user": {
      "displayName": "Avinash Shan Monteiro",
      "photoUrl": "https://lh3.googleusercontent.com/a-/AOh14GhdXz_vydwJJcfCE9FwqTa-bepmD2utpymafyGVRA=s64",
      "userId": "06625822810889763391"
     },
     "user_tz": -330
    },
    "id": "lbaeC36jI3jD"
   },
   "outputs": [],
   "source": [
    "y_pred_train_lr=logreg.predict(X_train)\n",
    "y_pred_test_lr=logreg.predict(X_test)"
   ]
  },
  {
   "cell_type": "markdown",
   "metadata": {},
   "source": [
    "### Devoloping Model Evaluation technique"
   ]
  },
  {
   "cell_type": "markdown",
   "metadata": {
    "id": "-6IDd0WyrU7s"
   },
   "source": [
    "#### 1. Model Accuracy"
   ]
  },
  {
   "cell_type": "markdown",
   "metadata": {},
   "source": [
    "<img align=\"center\" src='https://miro.medium.com/max/563/1*CcRTQCFaGLzPid_994JsTQ.png' />"
   ]
  },
  {
   "cell_type": "code",
   "execution_count": 47,
   "metadata": {
    "colab": {
     "base_uri": "https://localhost:8080/"
    },
    "executionInfo": {
     "elapsed": 132925,
     "status": "ok",
     "timestamp": 1604063786580,
     "user": {
      "displayName": "Avinash Shan Monteiro",
      "photoUrl": "https://lh3.googleusercontent.com/a-/AOh14GhdXz_vydwJJcfCE9FwqTa-bepmD2utpymafyGVRA=s64",
      "userId": "06625822810889763391"
     },
     "user_tz": -330
    },
    "id": "0RgvvI9BI3jO",
    "outputId": "4e6da112-082c-4a6a-f2a3-4acf44fb0d46"
   },
   "outputs": [
    {
     "name": "stdout",
     "output_type": "stream",
     "text": [
      "Accuracy score for train dataset is : 0.8333333333333334\n",
      "Accuracy score for test dataset is : 0.8269230769230769\n"
     ]
    }
   ],
   "source": [
    "from sklearn.metrics import accuracy_score\n",
    "print('Accuracy score for train dataset is :',accuracy_score(y_train,y_pred_train_lr))\n",
    "print('Accuracy score for test dataset is :',accuracy_score(y_test,y_pred_test_lr))"
   ]
  },
  {
   "cell_type": "markdown",
   "metadata": {},
   "source": [
    "**Understanding the confusion matrix for the present dataset and checking what to optimize**\n",
    "\n",
    "<img align=\"center\" src=\"https://static.packt-cdn.com/products/9781838555078/graphics/C13314_06_05.jpg\" width='400' />\n",
    "\n"
   ]
  },
  {
   "cell_type": "markdown",
   "metadata": {},
   "source": [
    "From the above graph on confusion matrix we can define the following for the present dataset;\n",
    "- **False Positive** Actally it is a Rock but predicted as Mine: This will lead to loss of time as the Ship/Submarine needs to change the course of journey. We can tollerete FPs in this case.\n",
    "- **False Negative** Actual it is Mine but detected as Rock : This will lead to ship/Submarine passing over a mine and casuses catestropic disaster. This is very dangerous and need to be minimised.We cannot tollerate any occurance of FNs."
   ]
  },
  {
   "cell_type": "markdown",
   "metadata": {},
   "source": [
    "<img align=\"center\" src='https://miro.medium.com/max/1403/1*szkTUgN5XmguA4c39YAKPQ.png' width='350'/>"
   ]
  },
  {
   "cell_type": "markdown",
   "metadata": {},
   "source": [
    "**Precision and Recall**\n",
    "\n",
    "**Precision** — Also called Positive predictive value. The ratio of correct positive predictions to the total predicted positives.\n",
    "\n",
    "<img align=\"center\" src='https://miro.medium.com/max/375/1*7pXTS_beJfTlkntFHiBh7g.png' width='250'/>\n",
    "\n",
    "**Recall** — Also called Sensitivity, Probability of Detection, True Positive Rate. The ratio of correct positive predictions to the total actual positive values.\n",
    "\n",
    "<img align='center' src='https://miro.medium.com/max/375/1*VWD0-yDiy5gBZy7ZTIZgXg.png' width='250' />\n",
    "\n",
    "\n",
    "\n"
   ]
  },
  {
   "cell_type": "markdown",
   "metadata": {},
   "source": [
    "Therfore from the above argument, we can say that we need to optimize **Recall** instead of **Accuracy**. We need to improve the recall of every model in order to develop a working class model.\n",
    "\n"
   ]
  },
  {
   "cell_type": "markdown",
   "metadata": {},
   "source": [
    "#### Recall Score"
   ]
  },
  {
   "cell_type": "code",
   "execution_count": 48,
   "metadata": {},
   "outputs": [
    {
     "name": "stdout",
     "output_type": "stream",
     "text": [
      "Recall Score for the simple Logistic Regression model for train dataset is 0.8641975308641975\n",
      "Recall Score for the simple Logistic Regression model for test dataset is 0.8\n"
     ]
    }
   ],
   "source": [
    "from sklearn.metrics import recall_score\n",
    "print('Recall Score for the simple Logistic Regression model for train dataset is',recall_score(y_train, y_pred_train_lr))\n",
    "print('Recall Score for the simple Logistic Regression model for test dataset is',recall_score(y_test, y_pred_test_lr))"
   ]
  },
  {
   "cell_type": "markdown",
   "metadata": {},
   "source": [
    "let us now carry out the hyperparameter tuning and develop an optimized model. While optimizing the model, we need to use recall instead of Accuracy score as Recall score is the tight key for better model.\n",
    "\n",
    "Let us calcuate **Recall Score** for these optimized model and identiy the best model."
   ]
  },
  {
   "cell_type": "markdown",
   "metadata": {},
   "source": [
    "### Hyper Parameter Tuning"
   ]
  },
  {
   "cell_type": "markdown",
   "metadata": {},
   "source": [
    "We will try to get the best accuracy from the Logistic Regression model by iterating over different probaility values the model during prediction stage."
   ]
  },
  {
   "cell_type": "code",
   "execution_count": 49,
   "metadata": {},
   "outputs": [
    {
     "name": "stdout",
     "output_type": "stream",
     "text": [
      "Recall score for train data with probability 0.39 is : 0.9506172839506173\n",
      "Recall score for train data with probability 0.44 is : 0.9135802469135802\n",
      "Recall score for train data with probability 0.49 is : 0.8641975308641975\n",
      "Recall score for train data with probability 0.54 is : 0.7654320987654321\n",
      "Recall score for train data with probability 0.5900000000000001 is : 0.6049382716049383\n",
      "Recall score for train data with probability 0.6400000000000001 is : 0.48148148148148145\n",
      "Recall score for train data with probability 0.6900000000000002 is : 0.38271604938271603\n",
      "Recall score for train data with probability 0.7400000000000002 is : 0.2962962962962963\n",
      "Recall score for train data with probability 0.7900000000000003 is : 0.2345679012345679\n",
      "Recall score for train data with probability 0.8400000000000003 is : 0.18518518518518517\n",
      "Recall score for train data with probability 0.8900000000000003 is : 0.1111111111111111\n"
     ]
    }
   ],
   "source": [
    "i=0.39\n",
    "while i<=0.90:\n",
    "    pred_lr=np.where(logreg.predict_proba(X_train)[:,1]>i,1,0)\n",
    "    print('Recall score for train data with probability',i,'is :',recall_score(y_train,pred_lr))\n",
    "    i=i+0.05"
   ]
  },
  {
   "cell_type": "markdown",
   "metadata": {},
   "source": [
    "From the above output, we can notice that for probability of >40% we have maximum Recall of 0.938 on train data."
   ]
  },
  {
   "cell_type": "code",
   "execution_count": 50,
   "metadata": {},
   "outputs": [
    {
     "name": "stdout",
     "output_type": "stream",
     "text": [
      "Recall score for train data with probability 0.4 is : 0.9382716049382716\n",
      "Recall score for test data with probability 0.4 is : 0.9666666666666667\n"
     ]
    }
   ],
   "source": [
    "pred_lr_test=np.where(logreg.predict_proba(X_test)[:,1]>0.40,1,0)\n",
    "pred_lr_train=np.where(logreg.predict_proba(X_train)[:,1]>0.40,1,0)\n",
    "print('Recall score for train data with probability',0.40,'is :',recall_score(y_train,pred_lr_train))\n",
    "print('Recall score for test data with probability',0.40,'is :',recall_score(y_test,pred_lr_test))"
   ]
  },
  {
   "cell_type": "markdown",
   "metadata": {},
   "source": [
    "### Model Evaluation"
   ]
  },
  {
   "cell_type": "markdown",
   "metadata": {},
   "source": [
    "#### Accuracy Score"
   ]
  },
  {
   "cell_type": "code",
   "execution_count": 51,
   "metadata": {},
   "outputs": [
    {
     "name": "stdout",
     "output_type": "stream",
     "text": [
      "0.8269230769230769\n"
     ]
    }
   ],
   "source": [
    "pred_lr=np.where(logreg.predict_proba(X_test)[:,1]>0.40,1,0)\n",
    "from sklearn.metrics import accuracy_score\n",
    "print(accuracy_score(y_test, pred_lr))"
   ]
  },
  {
   "cell_type": "markdown",
   "metadata": {},
   "source": [
    "#### Confusion Matrix"
   ]
  },
  {
   "cell_type": "markdown",
   "metadata": {},
   "source": [
    "For Train dataset:"
   ]
  },
  {
   "cell_type": "code",
   "execution_count": 52,
   "metadata": {},
   "outputs": [
    {
     "name": "stdout",
     "output_type": "stream",
     "text": [
      "             predicted Rock  predicted Mine\n",
      "Actual Rock              44              31\n",
      "Actual Mine               5              76\n"
     ]
    }
   ],
   "source": [
    "from sklearn.metrics import confusion_matrix\n",
    "confusion_matrix=pd.DataFrame(confusion_matrix(y_train, pred_lr_train))\n",
    "confusion_matrix.index=['Actual Rock','Actual Mine']\n",
    "confusion_matrix.columns=['predicted Rock','predicted Mine']\n",
    "print(confusion_matrix)"
   ]
  },
  {
   "cell_type": "markdown",
   "metadata": {},
   "source": [
    "For the test dataset:"
   ]
  },
  {
   "cell_type": "code",
   "execution_count": 53,
   "metadata": {},
   "outputs": [
    {
     "name": "stdout",
     "output_type": "stream",
     "text": [
      "             predicted Rock  predicted Mine\n",
      "Actual Rock              14               8\n",
      "Actual Mine               1              29\n"
     ]
    }
   ],
   "source": [
    "from sklearn.metrics import confusion_matrix\n",
    "\n",
    "confusion_matrix = pd.DataFrame(confusion_matrix(y_test, pred_lr))\n",
    "\n",
    "confusion_matrix.index=['Actual Rock','Actual Mine']\n",
    "confusion_matrix.columns=['predicted Rock','predicted Mine']\n",
    "print(confusion_matrix)"
   ]
  },
  {
   "cell_type": "markdown",
   "metadata": {},
   "source": [
    "Eventhough the recall score was poor for train dataset, this model gave excellent recall score for test model"
   ]
  },
  {
   "cell_type": "markdown",
   "metadata": {},
   "source": [
    "## 8.2 Decision Tree\n",
    "<a id=section82></a>"
   ]
  },
  {
   "cell_type": "code",
   "execution_count": 54,
   "metadata": {},
   "outputs": [
    {
     "data": {
      "text/plain": [
       "DecisionTreeClassifier()"
      ]
     },
     "execution_count": 54,
     "metadata": {},
     "output_type": "execute_result"
    }
   ],
   "source": [
    "from sklearn.tree import DecisionTreeClassifier\n",
    "model_dt = DecisionTreeClassifier( criterion='gini')\n",
    "model_dt.fit(X_train, y_train)"
   ]
  },
  {
   "cell_type": "code",
   "execution_count": 55,
   "metadata": {},
   "outputs": [],
   "source": [
    "y_pred_train_dt=model_dt.predict(X_train)\n",
    "y_pred_test_dt=model_dt.predict(X_test)"
   ]
  },
  {
   "cell_type": "markdown",
   "metadata": {},
   "source": [
    "#### Recall Score"
   ]
  },
  {
   "cell_type": "code",
   "execution_count": 56,
   "metadata": {},
   "outputs": [
    {
     "name": "stdout",
     "output_type": "stream",
     "text": [
      "Recall score for train data is: 1.0\n",
      "Recall score for test data is: 0.6\n"
     ]
    }
   ],
   "source": [
    "from sklearn.metrics import accuracy_score\n",
    "print('Recall score for train data is:', recall_score(y_train, y_pred_train_dt))\n",
    "print('Recall score for test data is:', recall_score(y_test, y_pred_test_dt))"
   ]
  },
  {
   "cell_type": "markdown",
   "metadata": {},
   "source": [
    "Clearly we can say that this model is **Overfitted**. We need to hypertune the inpiuts and develop and better Decision tree model."
   ]
  },
  {
   "cell_type": "markdown",
   "metadata": {},
   "source": [
    "### Hyperparameter Tuning"
   ]
  },
  {
   "cell_type": "code",
   "execution_count": 57,
   "metadata": {},
   "outputs": [
    {
     "data": {
      "text/plain": [
       "GridSearchCV(cv=10, estimator=DecisionTreeClassifier(random_state=0),\n",
       "             param_grid=[{'criterion': ['gini', 'entropy'],\n",
       "                          'max_depth': range(2, 60),\n",
       "                          'max_features': ['sqrt', 'log2', None]}],\n",
       "             refit='AUC')"
      ]
     },
     "execution_count": 57,
     "metadata": {},
     "output_type": "execute_result"
    }
   ],
   "source": [
    "from sklearn.tree import DecisionTreeClassifier\n",
    "from sklearn.model_selection import GridSearchCV\n",
    "\n",
    "decision_tree_classifier = DecisionTreeClassifier(random_state = 0)\n",
    "\n",
    "\n",
    "tree_para = [{'criterion':['gini','entropy'],'max_depth': range(2,60),\n",
    "                             'max_features': ['sqrt', 'log2', None] }]\n",
    "                            \n",
    "                            \n",
    "\n",
    "grid_search = GridSearchCV(decision_tree_classifier,tree_para, cv=10, refit='AUC')\n",
    "grid_search.fit(X_train, y_train)"
   ]
  },
  {
   "cell_type": "code",
   "execution_count": 58,
   "metadata": {},
   "outputs": [],
   "source": [
    "y_pred_train_dt2 = grid_search.predict(X_train)\n",
    "y_pred_test_dt2 = grid_search.predict(X_test)"
   ]
  },
  {
   "cell_type": "markdown",
   "metadata": {},
   "source": [
    "### Model Evaluation"
   ]
  },
  {
   "cell_type": "markdown",
   "metadata": {},
   "source": [
    "#### 1. Recall Score"
   ]
  },
  {
   "cell_type": "code",
   "execution_count": 59,
   "metadata": {},
   "outputs": [
    {
     "name": "stdout",
     "output_type": "stream",
     "text": [
      "Recall score for train data is: 0.8148148148148148\n",
      "Recall score for test data is: 0.7333333333333333\n"
     ]
    }
   ],
   "source": [
    "from sklearn.metrics import recall_score\n",
    "print('Recall score for train data is:', recall_score(y_train, y_pred_train_dt2))\n",
    "print('Recall score for test data is:', recall_score(y_test, y_pred_test_dt2))"
   ]
  },
  {
   "cell_type": "markdown",
   "metadata": {},
   "source": [
    "#### 2. Accuracy Score"
   ]
  },
  {
   "cell_type": "code",
   "execution_count": 60,
   "metadata": {},
   "outputs": [
    {
     "name": "stdout",
     "output_type": "stream",
     "text": [
      "Accuracy score for train data after GridSearchCV is: 0.7564102564102564\n",
      "Accuracy score for test data after GridSearchCV is: 0.7307692307692307\n"
     ]
    }
   ],
   "source": [
    "from sklearn.metrics import accuracy_score\n",
    "print('Accuracy score for train data after GridSearchCV is:', accuracy_score(y_train, y_pred_train_dt2))\n",
    "print('Accuracy score for test data after GridSearchCV is:', accuracy_score(y_test, y_pred_test_dt2))"
   ]
  },
  {
   "cell_type": "markdown",
   "metadata": {},
   "source": [
    "#### 3. Confusion Matrix"
   ]
  },
  {
   "cell_type": "code",
   "execution_count": 61,
   "metadata": {},
   "outputs": [
    {
     "name": "stdout",
     "output_type": "stream",
     "text": [
      "             predicted Rock  predicted Mine\n",
      "Actual Rock              52              23\n",
      "Actual Mine              15              66\n"
     ]
    }
   ],
   "source": [
    "from sklearn.metrics import confusion_matrix\n",
    "\n",
    "confusion_matrix = pd.DataFrame(confusion_matrix(y_train , y_pred_train_dt2))\n",
    "\n",
    "confusion_matrix.index=['Actual Rock','Actual Mine']\n",
    "confusion_matrix.columns=['predicted Rock','predicted Mine']\n",
    "print(confusion_matrix)"
   ]
  },
  {
   "cell_type": "code",
   "execution_count": 62,
   "metadata": {},
   "outputs": [
    {
     "name": "stdout",
     "output_type": "stream",
     "text": [
      "             predicted Rock  predicted Mine\n",
      "Actual Rock              16               6\n",
      "Actual Mine               8              22\n"
     ]
    }
   ],
   "source": [
    "from sklearn.metrics import confusion_matrix\n",
    "\n",
    "confusion_matrix = pd.DataFrame(confusion_matrix(y_test, y_pred_test_dt2))\n",
    "\n",
    "confusion_matrix.index=['Actual Rock','Actual Mine']\n",
    "confusion_matrix.columns=['predicted Rock','predicted Mine']\n",
    "print(confusion_matrix)"
   ]
  },
  {
   "cell_type": "markdown",
   "metadata": {},
   "source": [
    "#### Plotting the Tree"
   ]
  },
  {
   "cell_type": "code",
   "execution_count": 63,
   "metadata": {},
   "outputs": [
    {
     "ename": "ModuleNotFoundError",
     "evalue": "No module named 'pydotplus'",
     "output_type": "error",
     "traceback": [
      "\u001b[1;31m---------------------------------------------------------------------------\u001b[0m",
      "\u001b[1;31mModuleNotFoundError\u001b[0m                       Traceback (most recent call last)",
      "\u001b[1;32m<ipython-input-63-f831f2779134>\u001b[0m in \u001b[0;36m<module>\u001b[1;34m\u001b[0m\n\u001b[0;32m      1\u001b[0m \u001b[1;31m#Importing libraries for visvalizing the Tree\u001b[0m\u001b[1;33m\u001b[0m\u001b[1;33m\u001b[0m\u001b[1;33m\u001b[0m\u001b[0m\n\u001b[1;32m----> 2\u001b[1;33m \u001b[1;32mfrom\u001b[0m \u001b[0mpydotplus\u001b[0m \u001b[1;32mimport\u001b[0m \u001b[0mgraph_from_dot_data\u001b[0m\u001b[1;33m\u001b[0m\u001b[1;33m\u001b[0m\u001b[0m\n\u001b[0m\u001b[0;32m      3\u001b[0m \u001b[1;32mfrom\u001b[0m \u001b[0msklearn\u001b[0m\u001b[1;33m.\u001b[0m\u001b[0mtree\u001b[0m \u001b[1;32mimport\u001b[0m \u001b[0mexport_graphviz\u001b[0m\u001b[1;33m\u001b[0m\u001b[1;33m\u001b[0m\u001b[0m\n",
      "\u001b[1;31mModuleNotFoundError\u001b[0m: No module named 'pydotplus'"
     ]
    }
   ],
   "source": [
    "#Importing libraries for visvalizing the Tree\n",
    "from pydotplus import graph_from_dot_data\n",
    "from sklearn.tree import export_graphviz"
   ]
  },
  {
   "cell_type": "code",
   "execution_count": null,
   "metadata": {},
   "outputs": [],
   "source": [
    "#importing OS\n",
    "import os\n",
    "os.environ['PATH'] = os.environ['PATH'] + ';' + os.environ['CONDA_PREFIX'] + r\"\\Library\\bin\\graphviz\""
   ]
  },
  {
   "cell_type": "code",
   "execution_count": null,
   "metadata": {},
   "outputs": [],
   "source": [
    "#Generating DOT File\n",
    "dot_data = export_graphviz(model_dt, filled=True, rounded=True, feature_names=X.columns, out_file=None)\n",
    "graph = graph_from_dot_data(dot_data)"
   ]
  },
  {
   "cell_type": "code",
   "execution_count": null,
   "metadata": {},
   "outputs": [],
   "source": [
    "#Converting DOT to PNG File\n",
    "graph.write_png('tree.png')"
   ]
  },
  {
   "cell_type": "code",
   "execution_count": null,
   "metadata": {},
   "outputs": [],
   "source": [
    "from PIL import Image  \n",
    "# creating a object  \n",
    "im = Image.open('tree.png')  \n",
    "  \n",
    "im"
   ]
  },
  {
   "cell_type": "markdown",
   "metadata": {},
   "source": [
    "## 8.3 Random Forest Model\n",
    "<a id=section83></a>"
   ]
  },
  {
   "cell_type": "code",
   "execution_count": null,
   "metadata": {},
   "outputs": [],
   "source": [
    "from sklearn.ensemble import RandomForestClassifier\n",
    "\n",
    "model_rf = RandomForestClassifier(random_state = 0)\n",
    "\n",
    "model_rf.fit(X_train, y_train)"
   ]
  },
  {
   "cell_type": "code",
   "execution_count": null,
   "metadata": {},
   "outputs": [],
   "source": [
    "y_pred_train_rf = model_rf.predict(X_train)\n",
    "y_pred_test_rf = model_rf.predict(X_test)"
   ]
  },
  {
   "cell_type": "markdown",
   "metadata": {},
   "source": [
    "### Recall Score"
   ]
  },
  {
   "cell_type": "code",
   "execution_count": null,
   "metadata": {},
   "outputs": [],
   "source": [
    "from sklearn.metrics import accuracy_score\n",
    "print('Recall score for train data is:', recall_score(y_train, y_pred_train_rf))\n",
    "print('Recall score for test data is:', recall_score(y_test, y_pred_test_rf))"
   ]
  },
  {
   "cell_type": "markdown",
   "metadata": {},
   "source": [
    "Clearly we can see that our basic Random Forest model is **Overfitted**. Therefore let us use hypertuning technique and develop a better model"
   ]
  },
  {
   "cell_type": "markdown",
   "metadata": {},
   "source": [
    "### Hyperparameter Tuning"
   ]
  },
  {
   "cell_type": "code",
   "execution_count": null,
   "metadata": {},
   "outputs": [],
   "source": [
    "from sklearn.model_selection import RandomizedSearchCV\n",
    "from scipy.stats import randint as sp_randint\n",
    "# parameters for GridSearchCV\n",
    "# specify parameters and distributions to sample from\n",
    "param_dist = {\"max_depth\": range(2,5),\n",
    "              \"min_samples_split\": sp_randint(2, 11),\n",
    "              \"min_samples_leaf\": sp_randint(1, 11),\n",
    "              \"bootstrap\": [True, False],\n",
    "              \"n_estimators\": [2,5,10,15,20,25,30,35,40,45,50,75,100,150,200,250,300,350, 400,450,500,600,700, 1000, 1500],\n",
    "              \"criterion\" : [\"gini\", \"entropy\"],\n",
    "              'max_features': ['sqrt', 'log2', None]\n",
    "             }\n",
    "# run randomized search\n",
    "n_iter_search = 100\n",
    "random_search = RandomizedSearchCV(model_rf, param_distributions = param_dist,\n",
    "                                   n_iter = n_iter_search,\n",
    "                                   n_jobs = -1)"
   ]
  },
  {
   "cell_type": "code",
   "execution_count": null,
   "metadata": {},
   "outputs": [],
   "source": [
    "random_search.fit(X_train, y_train)"
   ]
  },
  {
   "cell_type": "code",
   "execution_count": null,
   "metadata": {},
   "outputs": [],
   "source": [
    "y_pred_train_rf2 = random_search.predict(X_train)\n",
    "y_pred_test_rf2 = random_search.predict(X_test)"
   ]
  },
  {
   "cell_type": "code",
   "execution_count": null,
   "metadata": {},
   "outputs": [],
   "source": [
    "print(random_search.best_estimator_)"
   ]
  },
  {
   "cell_type": "markdown",
   "metadata": {},
   "source": [
    "### Model Evaluation"
   ]
  },
  {
   "cell_type": "markdown",
   "metadata": {},
   "source": [
    "#### 1. Recall Score"
   ]
  },
  {
   "cell_type": "code",
   "execution_count": null,
   "metadata": {},
   "outputs": [],
   "source": [
    "from sklearn.metrics import recall_score\n",
    "print('Recall score for train data is:', recall_score(y_train, y_pred_train_rf2))\n",
    "print('Recall score for test data is:', recall_score(y_test, y_pred_test_rf2))"
   ]
  },
  {
   "cell_type": "markdown",
   "metadata": {},
   "source": [
    "#### 2. Accuracy Score"
   ]
  },
  {
   "cell_type": "code",
   "execution_count": null,
   "metadata": {},
   "outputs": [],
   "source": [
    "from sklearn.metrics import accuracy_score\n",
    "print('Accuracy score for train data after RandomizedSearchCV is:', accuracy_score(y_train, y_pred_train_rf2))\n",
    "print('Accuracy score for test data after RandomizedSearchCV is:', accuracy_score(y_test, y_pred_test_rf2))"
   ]
  },
  {
   "cell_type": "markdown",
   "metadata": {},
   "source": [
    "#### 3. Confusion Matrix"
   ]
  },
  {
   "cell_type": "code",
   "execution_count": null,
   "metadata": {},
   "outputs": [],
   "source": [
    "from sklearn.metrics import confusion_matrix\n",
    "\n",
    "confusion_matrix = pd.DataFrame(confusion_matrix(y_train, y_pred_train_rf2))\n",
    "\n",
    "confusion_matrix.index=['Actual Rock','Actual Mine']\n",
    "confusion_matrix.columns=['predicted Rock','predicted Mine']\n",
    "print(confusion_matrix)"
   ]
  },
  {
   "cell_type": "code",
   "execution_count": null,
   "metadata": {},
   "outputs": [],
   "source": [
    "from sklearn.metrics import confusion_matrix\n",
    "\n",
    "confusion_matrix = pd.DataFrame(confusion_matrix(y_test, y_pred_test_rf))\n",
    "\n",
    "confusion_matrix.index=['Actual Rock','Actual Mine']\n",
    "confusion_matrix.columns=['predicted Rock','predicted Mine']\n",
    "print(confusion_matrix)"
   ]
  },
  {
   "cell_type": "markdown",
   "metadata": {
    "id": "6ZybwhW-I3jf"
   },
   "source": [
    "## 8.4 Naive Bayes Classifier\n",
    "<a id=section84></a>"
   ]
  },
  {
   "cell_type": "code",
   "execution_count": null,
   "metadata": {
    "executionInfo": {
     "elapsed": 132892,
     "status": "ok",
     "timestamp": 1604063786590,
     "user": {
      "displayName": "Avinash Shan Monteiro",
      "photoUrl": "https://lh3.googleusercontent.com/a-/AOh14GhdXz_vydwJJcfCE9FwqTa-bepmD2utpymafyGVRA=s64",
      "userId": "06625822810889763391"
     },
     "user_tz": -330
    },
    "id": "1cvFo2A6I3jg"
   },
   "outputs": [],
   "source": [
    "from sklearn.naive_bayes import GaussianNB\n",
    "from sklearn.metrics import confusion_matrix,auc,roc_auc_score\n",
    "from sklearn.metrics import recall_score, precision_score, accuracy_score, f1_score"
   ]
  },
  {
   "cell_type": "markdown",
   "metadata": {
    "id": "EXknXnWLI3ji"
   },
   "source": [
    "Checking for Assumption for Navie Bayes"
   ]
  },
  {
   "cell_type": "code",
   "execution_count": null,
   "metadata": {
    "colab": {
     "base_uri": "https://localhost:8080/",
     "height": 999
    },
    "executionInfo": {
     "elapsed": 132880,
     "status": "ok",
     "timestamp": 1604063786591,
     "user": {
      "displayName": "Avinash Shan Monteiro",
      "photoUrl": "https://lh3.googleusercontent.com/a-/AOh14GhdXz_vydwJJcfCE9FwqTa-bepmD2utpymafyGVRA=s64",
      "userId": "06625822810889763391"
     },
     "user_tz": -330
    },
    "id": "uIUzcciFI3ji",
    "outputId": "37db539a-15d5-4525-d502-b481a9b789b6",
    "scrolled": false
   },
   "outputs": [],
   "source": [
    "cor=X.corr()\n",
    "cor[(cor>0.8) & (cor <-0.8)]"
   ]
  },
  {
   "cell_type": "markdown",
   "metadata": {
    "id": "b5Djsnd0I3jl"
   },
   "source": [
    "Training the model"
   ]
  },
  {
   "cell_type": "code",
   "execution_count": null,
   "metadata": {},
   "outputs": [],
   "source": [
    "model_nb = GaussianNB()\n",
    "model_nb.fit(X_train,y_train)\n",
    "# predict using test data\n",
    "y_pred_train_nb = model_nb.predict(X_train)\n",
    "y_pred_test_nb = model_nb.predict(X_test)\n",
    "# Compute predicted probabilities: y_pred_prob\n",
    "y_pred_prob_nb = model_nb.predict_proba(X_test)"
   ]
  },
  {
   "cell_type": "markdown",
   "metadata": {
    "id": "G-bfaKECI3js"
   },
   "source": [
    "#### Recall Score"
   ]
  },
  {
   "cell_type": "code",
   "execution_count": null,
   "metadata": {},
   "outputs": [],
   "source": [
    "print(\"Recall score for train dataset: \", recall_score(y_train,y_pred_train_nb))\n",
    "print(\"Recall score for test dataset: \", recall_score(y_test,y_pred_test_nb))"
   ]
  },
  {
   "cell_type": "markdown",
   "metadata": {},
   "source": [
    "### Hyper Parameter tuning of Naive Bayes Model"
   ]
  },
  {
   "cell_type": "code",
   "execution_count": null,
   "metadata": {},
   "outputs": [],
   "source": [
    "i=0.35\n",
    "while i<=0.95:\n",
    "    y_pred_nb_train=np.where(model_nb.predict_proba(X_train)[:,1]>i,1,0)\n",
    "    print('Recall score for train data with probability',i,'is :',recall_score(y_train,y_pred_nb_train))\n",
    "    i=i+0.05"
   ]
  },
  {
   "cell_type": "code",
   "execution_count": null,
   "metadata": {},
   "outputs": [],
   "source": [
    "y_pred_nb_test=np.where(logreg.predict_proba(X_test)[:,1]>0.35,1,0)\n",
    "y_pred_nb_train=np.where(logreg.predict_proba(X_train)[:,1]>0.35,1,0)\n",
    "print('Recall score for test data with probability',0.20,'is :',recall_score(y_test,y_pred_nb_test))\n",
    "print('Recall score for train data with probability',0.20,'is :',recall_score(y_train,y_pred_nb_train))"
   ]
  },
  {
   "cell_type": "markdown",
   "metadata": {},
   "source": [
    "From the above tuned outputs from hyperparameter tuning, we notice that when we consider the value of probability as 0.70, we get the maximum accuracy."
   ]
  },
  {
   "cell_type": "markdown",
   "metadata": {},
   "source": [
    "#### Accuracy Score"
   ]
  },
  {
   "cell_type": "code",
   "execution_count": null,
   "metadata": {},
   "outputs": [],
   "source": [
    "from sklearn.metrics import accuracy_score\n",
    "print('Accuracy score for train data after Hyperparameter tunes NB model is:', accuracy_score(y_train,y_pred_nb_train))\n",
    "print('Accuracy score for test data after Hyperparameter tunes NB model is:', accuracy_score(y_test,y_pred_nb_test))"
   ]
  },
  {
   "cell_type": "markdown",
   "metadata": {},
   "source": [
    "#### Confusion Matrix"
   ]
  },
  {
   "cell_type": "code",
   "execution_count": null,
   "metadata": {},
   "outputs": [],
   "source": [
    "from sklearn.metrics import confusion_matrix\n",
    "\n",
    "confusion_matrix = pd.DataFrame(confusion_matrix(y_train, y_pred_nb_train))\n",
    "\n",
    "confusion_matrix.index=['Actual Rock','Actual Mine']\n",
    "confusion_matrix.columns=['predicted Rock','predicted Mine']\n",
    "print(confusion_matrix)"
   ]
  },
  {
   "cell_type": "code",
   "execution_count": null,
   "metadata": {
    "executionInfo": {
     "elapsed": 132871,
     "status": "ok",
     "timestamp": 1604063786608,
     "user": {
      "displayName": "Avinash Shan Monteiro",
      "photoUrl": "https://lh3.googleusercontent.com/a-/AOh14GhdXz_vydwJJcfCE9FwqTa-bepmD2utpymafyGVRA=s64",
      "userId": "06625822810889763391"
     },
     "user_tz": -330
    },
    "id": "hk8cJhVwI3jt"
   },
   "outputs": [],
   "source": [
    "from sklearn.metrics import confusion_matrix\n",
    "\n",
    "confusion_matrix = pd.DataFrame(confusion_matrix(y_test, y_pred_nb_test))\n",
    "\n",
    "confusion_matrix.index=['Actual Rock','Actual Mine']\n",
    "confusion_matrix.columns=['predicted Rock','predicted Mine']\n",
    "print(confusion_matrix)"
   ]
  },
  {
   "cell_type": "markdown",
   "metadata": {
    "id": "yvj0IO46I3j2"
   },
   "source": [
    "## 8.5 Support Vector Classifier\n",
    "<a id=section85></a>"
   ]
  },
  {
   "cell_type": "code",
   "execution_count": null,
   "metadata": {
    "executionInfo": {
     "elapsed": 132847,
     "status": "ok",
     "timestamp": 1604063786610,
     "user": {
      "displayName": "Avinash Shan Monteiro",
      "photoUrl": "https://lh3.googleusercontent.com/a-/AOh14GhdXz_vydwJJcfCE9FwqTa-bepmD2utpymafyGVRA=s64",
      "userId": "06625822810889763391"
     },
     "user_tz": -330
    },
    "id": "1AiBb2xCI3j2"
   },
   "outputs": [],
   "source": [
    "from sklearn.svm import SVC\n",
    "model_svc = SVC()"
   ]
  },
  {
   "cell_type": "code",
   "execution_count": null,
   "metadata": {
    "colab": {
     "base_uri": "https://localhost:8080/"
    },
    "executionInfo": {
     "elapsed": 132842,
     "status": "ok",
     "timestamp": 1604063786611,
     "user": {
      "displayName": "Avinash Shan Monteiro",
      "photoUrl": "https://lh3.googleusercontent.com/a-/AOh14GhdXz_vydwJJcfCE9FwqTa-bepmD2utpymafyGVRA=s64",
      "userId": "06625822810889763391"
     },
     "user_tz": -330
    },
    "id": "GRIJ_MK_I3j4",
    "outputId": "7756ccec-79dd-41cd-8561-6cf1b0088ed1"
   },
   "outputs": [],
   "source": [
    "model_svc.fit(X_train, y_train)"
   ]
  },
  {
   "cell_type": "code",
   "execution_count": null,
   "metadata": {
    "executionInfo": {
     "elapsed": 132833,
     "status": "ok",
     "timestamp": 1604063786612,
     "user": {
      "displayName": "Avinash Shan Monteiro",
      "photoUrl": "https://lh3.googleusercontent.com/a-/AOh14GhdXz_vydwJJcfCE9FwqTa-bepmD2utpymafyGVRA=s64",
      "userId": "06625822810889763391"
     },
     "user_tz": -330
    },
    "id": "Ye4Q1RmgI3j6"
   },
   "outputs": [],
   "source": [
    "y_pred_train_svc = model_svc.predict(X_train)\n",
    "y_pred_test_svc = model_svc.predict(X_test)"
   ]
  },
  {
   "cell_type": "markdown",
   "metadata": {},
   "source": [
    "#### Recall Score"
   ]
  },
  {
   "cell_type": "code",
   "execution_count": null,
   "metadata": {},
   "outputs": [],
   "source": [
    "print(\"Recall score for train dataset: \", recall_score(y_train,y_pred_train_svc))\n",
    "print(\"Recall score for test dataset: \", recall_score(y_test,y_pred_test_svc))"
   ]
  },
  {
   "cell_type": "markdown",
   "metadata": {},
   "source": [
    "### Hyperparameter Tuning"
   ]
  },
  {
   "cell_type": "code",
   "execution_count": null,
   "metadata": {
    "scrolled": true
   },
   "outputs": [],
   "source": [
    "from sklearn.model_selection import GridSearchCV \n",
    "  \n",
    "# defining parameter range \n",
    "param_grid = {'C': [0.1, 1, 10, 100, 1000],  \n",
    "              'gamma': [1, 0.1, 0.01, 0.001, 0.0001], \n",
    "              'kernel': ['rbf']}  \n",
    "  \n",
    "grid = GridSearchCV(model_svc, param_grid, refit = True, verbose = 3) \n",
    "  \n",
    "# fitting the model for grid search \n",
    "grid.fit(X_train, y_train) "
   ]
  },
  {
   "cell_type": "code",
   "execution_count": null,
   "metadata": {
    "colab": {
     "base_uri": "https://localhost:8080/"
    },
    "executionInfo": {
     "elapsed": 134172,
     "status": "ok",
     "timestamp": 1604063788026,
     "user": {
      "displayName": "Avinash Shan Monteiro",
      "photoUrl": "https://lh3.googleusercontent.com/a-/AOh14GhdXz_vydwJJcfCE9FwqTa-bepmD2utpymafyGVRA=s64",
      "userId": "06625822810889763391"
     },
     "user_tz": -330
    },
    "id": "gsAVntbtI3ki",
    "outputId": "e60bd8c8-02ab-4da9-c81b-55cd651938cf",
    "scrolled": true
   },
   "outputs": [],
   "source": [
    "# print how our model looks after hyper-parameter tuning \n",
    "print(grid.best_estimator_) "
   ]
  },
  {
   "cell_type": "code",
   "execution_count": null,
   "metadata": {
    "executionInfo": {
     "elapsed": 134162,
     "status": "ok",
     "timestamp": 1604063788026,
     "user": {
      "displayName": "Avinash Shan Monteiro",
      "photoUrl": "https://lh3.googleusercontent.com/a-/AOh14GhdXz_vydwJJcfCE9FwqTa-bepmD2utpymafyGVRA=s64",
      "userId": "06625822810889763391"
     },
     "user_tz": -330
    },
    "id": "5imsVkCYI3kn",
    "scrolled": true
   },
   "outputs": [],
   "source": [
    "y_grid_predictions_train = grid.predict(X_train) \n",
    "y_grid_predictions_test = grid.predict(X_test) "
   ]
  },
  {
   "cell_type": "markdown",
   "metadata": {},
   "source": [
    "### Model Evaluation"
   ]
  },
  {
   "cell_type": "markdown",
   "metadata": {},
   "source": [
    "#### 1. Recall Score"
   ]
  },
  {
   "cell_type": "code",
   "execution_count": null,
   "metadata": {},
   "outputs": [],
   "source": [
    "print(\"Recall score for train dataset: \", recall_score(y_train,y_grid_predictions_train))\n",
    "print(\"Recall score for test dataset: \", recall_score(y_test,y_grid_predictions_test))"
   ]
  },
  {
   "cell_type": "markdown",
   "metadata": {
    "executionInfo": {
     "elapsed": 132829,
     "status": "ok",
     "timestamp": 1604063786613,
     "user": {
      "displayName": "Avinash Shan Monteiro",
      "photoUrl": "https://lh3.googleusercontent.com/a-/AOh14GhdXz_vydwJJcfCE9FwqTa-bepmD2utpymafyGVRA=s64",
      "userId": "06625822810889763391"
     },
     "user_tz": -330
    },
    "id": "tgnQC1HyI3j9"
   },
   "source": [
    "#### 2. Accuracy Score"
   ]
  },
  {
   "cell_type": "code",
   "execution_count": null,
   "metadata": {
    "colab": {
     "base_uri": "https://localhost:8080/"
    },
    "executionInfo": {
     "elapsed": 132823,
     "status": "ok",
     "timestamp": 1604063786613,
     "user": {
      "displayName": "Avinash Shan Monteiro",
      "photoUrl": "https://lh3.googleusercontent.com/a-/AOh14GhdXz_vydwJJcfCE9FwqTa-bepmD2utpymafyGVRA=s64",
      "userId": "06625822810889763391"
     },
     "user_tz": -330
    },
    "id": "t7CDET6eI3kE",
    "outputId": "10c53dee-2b8d-4044-a0d9-7489ee260ae4",
    "scrolled": true
   },
   "outputs": [],
   "source": [
    "from sklearn.metrics import accuracy_score\n",
    "print('Accuracy score for train data is:', accuracy_score(y_train, y_grid_predictions_train))\n",
    "print('Accuracy score for test data is:', accuracy_score(y_test, y_grid_predictions_test))"
   ]
  },
  {
   "cell_type": "markdown",
   "metadata": {},
   "source": [
    "#### 3. Confusion Matrix"
   ]
  },
  {
   "cell_type": "code",
   "execution_count": null,
   "metadata": {},
   "outputs": [],
   "source": [
    "from sklearn.metrics import confusion_matrix\n",
    "\n",
    "confusion_matrix = pd.DataFrame(confusion_matrix(y_train, y_grid_predictions_train))\n",
    "\n",
    "confusion_matrix.index=['Actual Rock','Actual Mine']\n",
    "confusion_matrix.columns=['predicted Rock','predicted Mine']\n",
    "print(confusion_matrix)"
   ]
  },
  {
   "cell_type": "code",
   "execution_count": null,
   "metadata": {},
   "outputs": [],
   "source": [
    "from sklearn.metrics import confusion_matrix\n",
    "\n",
    "confusion_matrix = pd.DataFrame(confusion_matrix(y_test, y_grid_predictions_test))\n",
    "\n",
    "confusion_matrix.index=['Actual Rock','Actual Mine']\n",
    "confusion_matrix.columns=['predicted Rock','predicted Mine']\n",
    "print(confusion_matrix)"
   ]
  },
  {
   "cell_type": "markdown",
   "metadata": {
    "id": "Iss6txYRI3kH"
   },
   "source": [
    "## 8.6 K Nearest Neighbor\n",
    "<a id=section86></a>"
   ]
  },
  {
   "cell_type": "code",
   "execution_count": null,
   "metadata": {
    "executionInfo": {
     "elapsed": 132816,
     "status": "ok",
     "timestamp": 1604063786614,
     "user": {
      "displayName": "Avinash Shan Monteiro",
      "photoUrl": "https://lh3.googleusercontent.com/a-/AOh14GhdXz_vydwJJcfCE9FwqTa-bepmD2utpymafyGVRA=s64",
      "userId": "06625822810889763391"
     },
     "user_tz": -330
    },
    "id": "pUxLXz2MI3kI"
   },
   "outputs": [],
   "source": [
    "from sklearn.neighbors import KNeighborsClassifier\n",
    "knn = KNeighborsClassifier(n_neighbors=3, p=2, metric='minkowski')"
   ]
  },
  {
   "cell_type": "code",
   "execution_count": null,
   "metadata": {
    "colab": {
     "base_uri": "https://localhost:8080/"
    },
    "executionInfo": {
     "elapsed": 132811,
     "status": "ok",
     "timestamp": 1604063786615,
     "user": {
      "displayName": "Avinash Shan Monteiro",
      "photoUrl": "https://lh3.googleusercontent.com/a-/AOh14GhdXz_vydwJJcfCE9FwqTa-bepmD2utpymafyGVRA=s64",
      "userId": "06625822810889763391"
     },
     "user_tz": -330
    },
    "id": "uAuCdKw8I3kL",
    "outputId": "850ebd11-aa13-47e1-e4ee-63bc8ee090e1"
   },
   "outputs": [],
   "source": [
    "knn.fit(X_train,y_train)"
   ]
  },
  {
   "cell_type": "code",
   "execution_count": null,
   "metadata": {
    "executionInfo": {
     "elapsed": 132803,
     "status": "ok",
     "timestamp": 1604063786616,
     "user": {
      "displayName": "Avinash Shan Monteiro",
      "photoUrl": "https://lh3.googleusercontent.com/a-/AOh14GhdXz_vydwJJcfCE9FwqTa-bepmD2utpymafyGVRA=s64",
      "userId": "06625822810889763391"
     },
     "user_tz": -330
    },
    "id": "AgRics_0I3kS"
   },
   "outputs": [],
   "source": [
    "y_pred_train_knn = knn.predict(X_train)\n",
    "y_pred_test_knn = knn.predict(X_test)"
   ]
  },
  {
   "cell_type": "code",
   "execution_count": null,
   "metadata": {},
   "outputs": [],
   "source": [
    "print(\"Recall score for train dataset: \", recall_score(y_train,y_pred_train_knn))\n",
    "print(\"Recall score for test dataset: \", recall_score(y_test,y_pred_test_knn))"
   ]
  },
  {
   "cell_type": "code",
   "execution_count": null,
   "metadata": {},
   "outputs": [],
   "source": [
    "from sklearn.model_selection import RandomizedSearchCV\n",
    "from scipy.stats import randint as sp_randint\n",
    "import numpy as np\n",
    "\n",
    "def generate():\n",
    "    param_dist = {\"n_neighbors\": range(1,30),                             #  specify parameters and distributions to sample from\n",
    "                  \"algorithm\" : [\"auto\", \"ball_tree\"],\n",
    "                  \"leaf_size\" :  2 ** np.arange(10),\n",
    "                  \"metric\" : [\"euclidean\",\"manhattan\",\"minkowski\",\"chebyshev\"]\n",
    "                 }\n",
    "    \n",
    "\n",
    "    n_iter_search = 25\n",
    "    knn_model = KNeighborsClassifier()\n",
    "    \n",
    "    return RandomizedSearchCV(knn_model,random_state = 0, param_distributions = param_dist,     \n",
    "                                    n_iter = n_iter_search,\n",
    "                                    n_jobs = -1)\n",
    "knn_model2 = generate()\n",
    "knn_model2.fit(X_train,y_train) "
   ]
  },
  {
   "cell_type": "code",
   "execution_count": null,
   "metadata": {},
   "outputs": [],
   "source": [
    "import numpy as np\n",
    "from sklearn.metrics import accuracy_score\n",
    "recall_list = []\n",
    "def generate():\n",
    "    for i in range(1,30):\n",
    "        knn_model_ = KNeighborsClassifier(n_neighbors = i)\n",
    "        knn_model_.fit(X_train, y_train)\n",
    "        pred_i = knn_model_.predict(X_test)\n",
    "        recall_list.append(recall_score(y_test, pred_i))\n",
    "    \n",
    "    print(\"Maximum recall score for the corresponding value of k is\",\n",
    "          max([(v,i+1) for i,v in enumerate(recall_list)]),'respectively.')\n",
    "\n",
    "generate()"
   ]
  },
  {
   "cell_type": "code",
   "execution_count": null,
   "metadata": {},
   "outputs": [],
   "source": [
    "import matplotlib.pyplot as plt\n",
    "%matplotlib inline\n",
    "def generate():\n",
    "    plt.figure(figsize=(15,6))\n",
    "    plt.plot(range(1,30),recall_list,color='blue',linestyle='dashed',marker='o', markerfacecolor='red', markersize='10')\n",
    "    plt.xlabel('K')\n",
    "    plt.ylabel('recall of model')\n",
    "    plt.show()\n",
    "generate()"
   ]
  },
  {
   "cell_type": "code",
   "execution_count": null,
   "metadata": {},
   "outputs": [],
   "source": [
    "from sklearn.neighbors import KNeighborsClassifier\n",
    "knn3 = KNeighborsClassifier(n_neighbors = 1)\n",
    "knn3.fit(X_train, y_train)"
   ]
  },
  {
   "cell_type": "code",
   "execution_count": null,
   "metadata": {},
   "outputs": [],
   "source": [
    "y_pred_train_knn3 = knn3.predict(X_train)\n",
    "y_pred_test_knn3 = knn3.predict(X_test)"
   ]
  },
  {
   "cell_type": "markdown",
   "metadata": {},
   "source": [
    "### Model Evaluation"
   ]
  },
  {
   "cell_type": "markdown",
   "metadata": {},
   "source": [
    "#### 1. Recall Score"
   ]
  },
  {
   "cell_type": "code",
   "execution_count": null,
   "metadata": {},
   "outputs": [],
   "source": [
    "print(\"Recall score for train dataset: \", recall_score(y_train,y_pred_train_knn3))\n",
    "print(\"Recall score for test dataset: \", recall_score(y_test,y_pred_test_knn3))"
   ]
  },
  {
   "cell_type": "markdown",
   "metadata": {},
   "source": [
    "#### 2. Accuracy Score"
   ]
  },
  {
   "cell_type": "code",
   "execution_count": null,
   "metadata": {
    "colab": {
     "base_uri": "https://localhost:8080/"
    },
    "executionInfo": {
     "elapsed": 132798,
     "status": "ok",
     "timestamp": 1604063786617,
     "user": {
      "displayName": "Avinash Shan Monteiro",
      "photoUrl": "https://lh3.googleusercontent.com/a-/AOh14GhdXz_vydwJJcfCE9FwqTa-bepmD2utpymafyGVRA=s64",
      "userId": "06625822810889763391"
     },
     "user_tz": -330
    },
    "id": "wxFekh0UI3kW",
    "outputId": "e8ad5047-d0a8-4c1c-86f3-53926e48c411"
   },
   "outputs": [],
   "source": [
    "from sklearn.metrics import accuracy_score\n",
    "print('Accuracy score for train data is:', accuracy_score(y_train, y_pred_train_knn3))\n",
    "print('Accuracy score for test data is:', accuracy_score(y_test, y_pred_test_knn3))"
   ]
  },
  {
   "cell_type": "markdown",
   "metadata": {},
   "source": [
    "#### 3. Confusion Matrix"
   ]
  },
  {
   "cell_type": "code",
   "execution_count": null,
   "metadata": {},
   "outputs": [],
   "source": [
    "from sklearn.metrics import confusion_matrix\n",
    "\n",
    "confusion_matrix = pd.DataFrame(confusion_matrix(y_train, y_pred_train_knn3))\n",
    "\n",
    "confusion_matrix.index=['Actual Rock','Actual Mine']\n",
    "confusion_matrix.columns=['predicted Rock','predicted Mine']\n",
    "print(confusion_matrix)"
   ]
  },
  {
   "cell_type": "code",
   "execution_count": null,
   "metadata": {
    "colab": {
     "base_uri": "https://localhost:8080/"
    },
    "executionInfo": {
     "elapsed": 132789,
     "status": "ok",
     "timestamp": 1604063786617,
     "user": {
      "displayName": "Avinash Shan Monteiro",
      "photoUrl": "https://lh3.googleusercontent.com/a-/AOh14GhdXz_vydwJJcfCE9FwqTa-bepmD2utpymafyGVRA=s64",
      "userId": "06625822810889763391"
     },
     "user_tz": -330
    },
    "id": "HPfUdJkOI3kY",
    "outputId": "f3b18e42-ffbd-4602-c4ce-683780abe8d8"
   },
   "outputs": [],
   "source": [
    "from sklearn.metrics import confusion_matrix\n",
    "\n",
    "confusion_matrix = pd.DataFrame(confusion_matrix(y_test, y_pred_test_knn3))\n",
    "\n",
    "confusion_matrix.index=['Actual Rock','Actual Mine']\n",
    "confusion_matrix.columns=['predicted Rock','predicted Mine']\n",
    "print(confusion_matrix)"
   ]
  },
  {
   "cell_type": "markdown",
   "metadata": {},
   "source": [
    "## 9. Final Summary\n",
    "<a id=section9></a>"
   ]
  },
  {
   "cell_type": "markdown",
   "metadata": {},
   "source": [
    "The summary of outputs by evaluating all the models are as under;"
   ]
  },
  {
   "cell_type": "markdown",
   "metadata": {},
   "source": [
    "|Model Name|| Accuracy Score for Test Data||Recall Score for test data||Recall Score for Train data||\n",
    "|----------||--------------------------||-----------------------||-------------||\n",
    "|logistic Regression||0.8269||0.9666||0.9382\n",
    "|Decision Tree Classifier||0.7307||0.7333||0.8148||\n",
    "|Random Forest Classifier||0.7307||0.7000||0.9259||\n",
    "|Niave Bayes Classifier||0.8369||0.9506||1.0000||\n",
    "|Support Vecor Classification||0.9230||0.9000||1.0000||\n",
    "|KNN Classifier||0.8846||0.9000||1.0000||"
   ]
  },
  {
   "cell_type": "markdown",
   "metadata": {},
   "source": [
    "From the above table, we can see that **Logistic Regression** model hypertunes to the probability of 40% is giving us the best results for this dataset. "
   ]
  }
 ],
 "metadata": {
  "colab": {
   "collapsed_sections": [],
   "name": "Sonar Data Analysis.ipynb",
   "provenance": []
  },
  "kernelspec": {
   "display_name": "Python 3",
   "language": "python",
   "name": "python3"
  },
  "language_info": {
   "codemirror_mode": {
    "name": "ipython",
    "version": 3
   },
   "file_extension": ".py",
   "mimetype": "text/x-python",
   "name": "python",
   "nbconvert_exporter": "python",
   "pygments_lexer": "ipython3",
   "version": "3.8.5"
  }
 },
 "nbformat": 4,
 "nbformat_minor": 4
}
