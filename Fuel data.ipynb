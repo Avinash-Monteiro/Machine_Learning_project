{
 "cells": [
  {
   "cell_type": "markdown",
   "metadata": {},
   "source": [
    "<h1><center><img src=\"https://github.com/insaid2018/Term-1/blob/master/Images/INSAID_Full%20Logo.png?raw=true\" width=\"240\" height=\"360\" /><centre><h1>"
   ]
  },
  {
   "cell_type": "markdown",
   "metadata": {},
   "source": [
    "<h1><center> MACHINE LEARNING ON AUTOMOBILE CO2 EMISSIONS<h1> \n",
    "    \n",
    "<img src=\"https://images3.alphacoders.com/890/thumb-1920-89045.jpg\"/>"
   ]
  },
  {
   "cell_type": "markdown",
   "metadata": {},
   "source": [
    "## Table of ContentS\n",
    "\n",
    "1. [Introduction](#section1)<br>\n",
    "    - 1.1[Fuel consumption testing & determination of CO2 emissions](#section11)<br>\n",
    "    - 1.2[Data Collection](#section12)<br>\n",
    "2. [Problem Statement](#section2)<br>\n",
    "3. [Selecting the important Python libraries](#section3)<br>\n",
    "4. [Data Loading and Description](#section4)<br>\n",
    "    - 4.1[Data Loading](#section41)<br> \n",
    "    - 4.2[Description of the data](#section42)<br>  \n",
    "5. [Exploratory Data Analysis](#section5)<br>\n",
    "    - 5.1[Basic understanding of columns and dropping unwanted columns](#section51)<br>\n",
    "    - 5.2[Pandas Profiling](#section52)<br>\n",
    "    - 5.3[Removing Duplicate Entries](#section53)<br>\n",
    "    - 5.4[Understanding the distribution of each columns](#section54)<br>\n",
    "        - 5.4.1[MAKE](#section541)<br>\n",
    "        - 5.4.2[VEHICLE CLASS](#section542)<br>\n",
    "        - 5.4.3[ENGINE SIZE](#section543)<br>\n",
    "        - 5.4.4[CYLINDERS](#section544)<br>\n",
    "        - 5.4.5[TRANSMISSION](#section545)<br>\n",
    "        - 5.4.6[FUEL TYPE](#section546)<br>\n",
    "        - 5.4.7[FUEL CONSUMPTION CITY](#section547)<br>\n",
    "        - 5.4.8[FUEL CONSUMPTION HIGHWAY](#section548)<br>\n",
    "        - 5.4.9[FUEL CONSUMPTION COMBINATION](#section549)<br>\n",
    "        - 5.4.10[CO2 EMISSIONS](#section5410)<br>\n",
    "        - 5.4.11[PAIR PLOT](#section5411)<br>\n",
    "        - 5.4.12[HEAT MAP](section5412)<br>\n",
    "        - 5.4.13[Conclusion of EDA](#section5412)<br>\n",
    "6. [Linear Regression](#section6)<br>\n",
    "    - 6.1[Data Preparation for ML](#section61)<br>\n",
    "    - 6.1[LINEAR REGRESSION ASSUMPTIONS¶](#section62)<br>\n",
    "    - 6.3[Train Test Split](#section63)<br>\n",
    "    - 6.4[Data Scaling](#section64)<br>\n",
    "    - 6.5[Linear Regression](#section65)<br>\n",
    "        - 6.5.1[Linear Regression Equation Development](#section651)<br>\n",
    "        - 6.5.2[Plotting Predicted vs Actual](#section652)<br>\n",
    "        - 6.5.3[Finding out RMSE and Adjusted R-squared for Train and Test Linear Regression Model](#section653)<br>\n",
    "    - 6.6 [Summary of Linear Regression](#section66)<br>\n",
    "7. [Decision Tree](#section7)<br>\n",
    "    - 7.1[Decision Tree Model 1](#section71)<br>\n",
    "        - 7.1.1[Model Development](#section711)<br>\n",
    "        - 7.1.2[Plotting the model](#section712)<br>\n",
    "        - 7.1.3[Finding out RMSE and Adjusted R-squared for Train and Test Linear Regression Model](#section713)<br>\n",
    "    - 7.2[Decision Tree Model 2](#section72)<br>\n",
    "        - 7.2.1[Model Development](#section721)<br>\n",
    "        - 7.2.2[Plotting the model](#section722)<br>\n",
    "        - 7.2.3[Finding out RMSE and Adjusted R-squared for Train and Test Linear Regression Model](#section723)<br>\n",
    "    - 7.3[Decision Tree GridSearchCV Model](#section73)<br>\n",
    "        - 7.3.1[Model Development](#section731)<br>\n",
    "        - 7.3.2[Plotting the model](#section732)<br>\n",
    "        - 7.3.3[Finding out RMSE and Adjusted R-squared for Train and Test Linear Regression Model](#section733)<br>\n",
    "    - 7.4[Summary of Decision Tree](#section74)<br>\n",
    "8. [Random Forest Regressor](#section8)<br>\n",
    "    - 8.1[Random Forest Model 1](#section81)<br>\n",
    "        - 8.1.1[Model Development](#section811)<br>\n",
    "        - 8.1.2[Plotting the model](#section812)<br>\n",
    "        - 8.1.3[Finding out RMSE and Adjusted R-squared for Train and Test Linear Regression Model](#section813)<br>\n",
    "    - 8.2[Random Forest Model 2](#section82)<br>\n",
    "        - 8.2.1[Model Development](#section821)<br>\n",
    "        - 8.2.2[Plotting the model](#section822)<br>\n",
    "        - 8.2.3[Finding out RMSE and Adjusted R-squared for Train and Test Linear Regression Model](#section823)<br>\n",
    "    - 8.3[Random Forest Model 3](#section83)<br>\n",
    "        - 8.3.1[Model Development](#section831)<br>\n",
    "        - 8.3.2[Plotting the model](#section832)<br>\n",
    "        - 8.3.3[Finding out RMSE and Adjusted R-squared for Train and Test Linear Regression Model](#section833)<br>\n",
    "        - 8.3.4[Summary of Random Forest](#section834)<br>\n",
    "9. [Conclusion](#section9)<br>                                                                                                                 \n",
    "    \n",
    "    \n",
    "        \n"
   ]
  },
  {
   "cell_type": "markdown",
   "metadata": {},
   "source": [
    "<a id=section1></a>"
   ]
  },
  {
   "cell_type": "markdown",
   "metadata": {},
   "source": [
    "## 1. Introduction"
   ]
  },
  {
   "cell_type": "markdown",
   "metadata": {},
   "source": [
    "<a id=section11></a>"
   ]
  },
  {
   "cell_type": "markdown",
   "metadata": {},
   "source": [
    "### 1.1 Fuel consumption testing & determination of CO2 emissions\n",
    "It would be difficult to drive every model of new vehicle on the road to measure fuel consumption and CO2 emission. And it would be impossible to get repeatable results that way because so many factors – road conditions and weather, to name just two – can affect a vehicle’s performance.\n",
    "\n",
    "That is why vehicle manufacturers use standard, controlled laboratory testing and analytical procedures to generate the fuel consumption data that appear on the **EnerGuide label** for vehicles.\n",
    "\n",
    "Environment and Climate Change Canada collects the data from vehicle manufacturers. Natural Resources Canada puts the data and other information together and publish the Fuel Consumption & CO2 emissions. We will be using the dataset published by Natural Resources Canada on "
   ]
  },
  {
   "cell_type": "markdown",
   "metadata": {},
   "source": [
    "<a id=section12></a>"
   ]
  },
  {
   "cell_type": "markdown",
   "metadata": {},
   "source": [
    "###  1.2 Data Collection\n",
    "\n",
    "\n",
    "Manufacturers use the 2-cycle testing procedure, by testing vehicles under simulated city and highway conditions to find out how much fuel they use and what will be the CO2 emissions.\n",
    "\n",
    "**The city test** simulates urban driving in stop-and-go traffic with an average speed of 34 km/h and a top speed of 90 km/h. The test runs for approximately 31 minutes and includes 23 stops. The test begins from a cold engine start, which is similar to starting a vehicle after it has been parked overnight during the summer. The final phase of the test repeats the first eight minutes of the cycle but with a hot engine start. This simulates restarting a vehicle after it has been warmed up, driven and then stopped for a short time. Over five minutes of test time are spent idling, to represent waiting at traffic lights.\n",
    "\n",
    "The City test parameters are as under;\n",
    "\n",
    "|Parameter Name||Values|\n",
    "|---------||-----------|\n",
    "|Test Cell Temperature:|| 20°-30°C|\n",
    "|Total Time:|| 31 minutes, 14 seconds|\n",
    "|Distance: ||17.8 km|\n",
    "|Top Speed: ||90 km/h|\n",
    "|Average Speed:|| 34 km/h|\n",
    "|Maximum Acceleration: ||5.3 km/h per second|\n",
    "|Number of Stops:|| 23|\n",
    "|Idling Time: ||18% of total time|\n",
    "|Engine Start:|| Cold|\n",
    "\n",
    "**The highway test** simulates a mixture of open highway and rural road driving, with an average speed of 78 km/h and a top speed of 97 km/h. The test runs for approximately 13 minutes and does not include any stops. The test begins from a hot engine start.\n",
    "\n",
    "The Highway test parameters are as under;\n",
    "\n",
    "|Parameter Name||Variable|\n",
    "|--------------||---------|\n",
    "|Test Cell Temperature:||20°-30°C|\n",
    "|Total Time:||12 minutes, 45 seconds|\n",
    "|Distance:||16.5 km|\n",
    "|Top Speed:||97 km/h|\n",
    "|Average Speed:||78 km/h|\n",
    "|Maximum Acceleration:||5.2 km/h per second|\n",
    "|Number of Stops:||0|\n",
    "|Idling Time:||0|\n",
    "|Engine Start:||Warm|"
   ]
  },
  {
   "cell_type": "markdown",
   "metadata": {},
   "source": [
    "<a id=section2></a>"
   ]
  },
  {
   "cell_type": "markdown",
   "metadata": {},
   "source": [
    "## 2. Problem Statement"
   ]
  },
  {
   "cell_type": "markdown",
   "metadata": {},
   "source": [
    "Nowadays, one of the biggest challenges to face is the reduction of greenhouse gas (GHG) from the transport industry. In particular, the road transport sector accounts for about 80% of the whole energy demand required by transportation and, due to its reliance on fossil fuels, represents one of the most important sources of Greed House Gases emissions in the world.\n",
    "\n",
    "Here we have the dataset of new light duty vehicles for retail sale in Canada, where we have different Car models and their corresponding **CO2 emissions** when drove over Highway as well as on City roads. \n",
    "\n",
    "Using this Dataset let us try to find out the following;\n",
    "1. What are the variables that directly influence the CO2 emissions? \n",
    "2. Develop an equation which gives the relationship between the CO2 emissions and the variables that influence it?\n"
   ]
  },
  {
   "cell_type": "markdown",
   "metadata": {},
   "source": [
    "<a id=section3></a>"
   ]
  },
  {
   "cell_type": "markdown",
   "metadata": {},
   "source": [
    "## 3. Selecting the important Python Libraries"
   ]
  },
  {
   "cell_type": "code",
   "execution_count": null,
   "metadata": {},
   "outputs": [],
   "source": [
    "import pandas as pd #Python library to import the dataset and work on it\n",
    "pd.set_option('mode.chained_assignment', None)      # To suppress pandas warnings.\n",
    "pd.set_option('display.max_colwidth', None)           # To display all the data in each column\n",
    "pd.options.display.max_columns = 50                 # To display every column of the dataset in head()\n",
    "\n",
    "import numpy as np # Python library to perform mathematical operations on the dataset\n",
    "import matplotlib.pyplot as plt #Python library to plot the graphs\n",
    "%matplotlib inline \n",
    "import warnings\n",
    "warnings.filterwarnings('ignore') #to ignore the errors which doesnt affect the output"
   ]
  },
  {
   "cell_type": "code",
   "execution_count": null,
   "metadata": {},
   "outputs": [],
   "source": [
    "import seaborn as sns #Python library to plot the graph\n",
    "sns.set(style='whitegrid', font_scale=1.3, color_codes=True)      # To apply seaborn styles to the plots.\n",
    "from pandas_profiling import ProfileReport"
   ]
  },
  {
   "cell_type": "code",
   "execution_count": null,
   "metadata": {},
   "outputs": [],
   "source": [
    "import sklearn as sk  #Python library to perfrom Linear Regression,Train Test Split error calculation etc"
   ]
  },
  {
   "cell_type": "markdown",
   "metadata": {},
   "source": [
    "<a id=section4></a>"
   ]
  },
  {
   "cell_type": "markdown",
   "metadata": {},
   "source": [
    "## 4. Data Loading and Description"
   ]
  },
  {
   "cell_type": "markdown",
   "metadata": {},
   "source": [
    "<a id=section41></a>"
   ]
  },
  {
   "cell_type": "markdown",
   "metadata": {},
   "source": [
    "### 4.1 Data Loading\n",
    "\n",
    "We have downloaded the dataset from the website https://www.canada.ca/en.html and uploaded in my public github repository. We will directly import the date from the repository using pandas as shown under"
   ]
  },
  {
   "cell_type": "code",
   "execution_count": null,
   "metadata": {
    "scrolled": true
   },
   "outputs": [],
   "source": [
    "#importing the data from Github library\n",
    "df=pd.read_csv('https://raw.githubusercontent.com/Avinash-Monteiro/MachineLearning/master/FuelConsumptionCo2.csv')\n",
    "df.head(5) # to display the data"
   ]
  },
  {
   "cell_type": "markdown",
   "metadata": {},
   "source": [
    "<a id=section42></a>"
   ]
  },
  {
   "cell_type": "markdown",
   "metadata": {},
   "source": [
    "### 4.2 Description of the data"
   ]
  },
  {
   "cell_type": "markdown",
   "metadata": {},
   "source": [
    "From the above **```df.head()```** function we have observed that there are 13 columns. The description of the individual columns are as under;\n",
    "\n",
    "|Column Name||Description|\n",
    "|------------||----------|\n",
    "|MODEL YEAR|| The year during which the car model was manufactured|\n",
    "|MAKE||Name of the Car Manufacturer. Eg., DODGE, BMW, AUDI, etc|\n",
    "|MODEL||Name of the Car Model eg., 4WD means 4 Wheel Drive|\n",
    "|VEHICLE CLASS||The type of Car;SUV,Compact, Two seater etc.| \n",
    "|ENGINESIZE||The Capacity of the engine. It is measured as total volume of the cylinders in the engine. It is measured in cc|\n",
    "|CYLINDERS||It generally denotes how many cylinders a vehicle has|\n",
    "|TRANSMISSION||It represents the type of gear system in Car. A stands for Automatic (A4, A5 etc) and M stands for Manual (M5, M7 etc)|\n",
    "|FUEL TYPE||It represents the type of fuel used in the car. The common types of fuel are X = Regular gasoline; Z = Premium gasoline; D = Diesel; E = E85;| \n",
    "|FUELCONSUMPTION_CITY||It is the Fuel consumed during City test. Its unit is Liters/100Km|\n",
    "|FUELCONSUMPTION_HWY||It is the Fuel consumed during Highway test. Its unit is Liters/100Km|\n",
    "|FUELCONSUMPTION_COMB||This reflects 55% of fuel consumption during City test + 45% of fuel consumption during Highway test|\n",
    "|FUELCONSUMPTION_COMB_MPG||It is the combined Fuel consumption in terms of Miles per Gallon. mpg=282.48/FUELCONSUMPTION_COMB|  \n",
    "|CO2EMISSIONS||It is the Carbon-di-oxide emissions measured from tailpipe. Its unit is g/Km. This is our target variable|"
   ]
  },
  {
   "cell_type": "markdown",
   "metadata": {},
   "source": [
    "<a id=section5></a>"
   ]
  },
  {
   "cell_type": "markdown",
   "metadata": {},
   "source": [
    "## 5. Exploratory Data Analysis"
   ]
  },
  {
   "cell_type": "markdown",
   "metadata": {},
   "source": [
    "Now we have the dataset loaded and ready to use. We will not start with Exploratory data Analysis whereby we explore all the columns and also their relationship with other columns"
   ]
  },
  {
   "cell_type": "markdown",
   "metadata": {},
   "source": [
    "<a id=section51></a>"
   ]
  },
  {
   "cell_type": "markdown",
   "metadata": {},
   "source": [
    "### 5.1 Basic understanding of columns and dropping unwanted columns"
   ]
  },
  {
   "cell_type": "markdown",
   "metadata": {},
   "source": [
    "Checking the overview of the data through ```.info()``` and check for missing variables, type of cell etc."
   ]
  },
  {
   "cell_type": "code",
   "execution_count": null,
   "metadata": {},
   "outputs": [],
   "source": [
    "df.info()"
   ]
  },
  {
   "cell_type": "markdown",
   "metadata": {},
   "source": [
    "Observations from ```.info()``` are as under;\n",
    "- 1.There are no missing values in the dataset\n",
    "- 2.We have 13 columns and 1067 rows of data.\n",
    "- 3.Out of the 13 columns, 5 columns have objects and balance 8 columns are numerical\n",
    "\n",
    "Checking the flow of the 8 numerical columns using ```.describe()``` function as under;\n",
    "\n"
   ]
  },
  {
   "cell_type": "code",
   "execution_count": null,
   "metadata": {},
   "outputs": [],
   "source": [
    "df.describe(include='all')"
   ]
  },
  {
   "cell_type": "markdown",
   "metadata": {},
   "source": [
    "Observations from ```.describe()``` are as under;\n",
    "\n",
    "- All the car models are manufactured during the year 2014. So **MODELYEAR** column is no use for us and hence we need to drop it.\n",
    "- **MODEL** column has 663 unique entries and we can drop this column as this will not be any use for developing model.\n",
    "- We will study the **VEHICLE CLASS, TRANSMISSION & FUELTYPE**  columns during EDA and decide whether to drop it.\n",
    "- **ENGINESIZE,CYLINDERS,FUELCONSUMPTION_CITY, FUELCONSUMPTION_HWY, FUELCONSUMPTION_COMB, FUELCONSUMPTION_COMB_MPG** are all looks like normally distributed\n",
    "- We will also drop **FUELCONSUMPTION_COMB_MPG** column as it is derived from **FUELCONSUMPTION_COMB** column."
   ]
  },
  {
   "cell_type": "markdown",
   "metadata": {},
   "source": [
    "#### Dropping unwanted columns"
   ]
  },
  {
   "cell_type": "code",
   "execution_count": null,
   "metadata": {},
   "outputs": [],
   "source": [
    "df.drop(columns=['MODELYEAR','FUELCONSUMPTION_COMB_MPG','MODEL'], axis=0, inplace=True)"
   ]
  },
  {
   "cell_type": "markdown",
   "metadata": {},
   "source": [
    "After deleting the two columns, our dataset looks as under;"
   ]
  },
  {
   "cell_type": "code",
   "execution_count": null,
   "metadata": {
    "scrolled": false
   },
   "outputs": [],
   "source": [
    "df.head()"
   ]
  },
  {
   "cell_type": "markdown",
   "metadata": {},
   "source": [
    "<a id=section52></a>"
   ]
  },
  {
   "cell_type": "markdown",
   "metadata": {},
   "source": [
    "### 5.2 Pandas Profiling"
   ]
  },
  {
   "cell_type": "code",
   "execution_count": null,
   "metadata": {},
   "outputs": [],
   "source": [
    "profile=ProfileReport(df)\n",
    "#profile.to_file('Automotive_data.html')"
   ]
  },
  {
   "cell_type": "markdown",
   "metadata": {},
   "source": [
    "#### Observations from Pandas Profiling are as under;\n",
    "- There are **10** columns, 6 Numerical and 4 Categorical\n",
    "- There are no missing values in the data\n",
    "- Out of 1067 columns, there are 115 duplicate entries (about 10.8%)which needs to be dropped\n",
    "- CYLINDERS is highly correlated with ENGINESIZE\n",
    "- FUELCONSUMPTION_HWY is highly correlated with FUELCONSUMPTION_CITY and FUELCONSUMPTION_COMB."
   ]
  },
  {
   "cell_type": "markdown",
   "metadata": {},
   "source": [
    "<a id=section53></a>"
   ]
  },
  {
   "cell_type": "markdown",
   "metadata": {},
   "source": [
    "### 5.3 Removing duplicate entries "
   ]
  },
  {
   "cell_type": "code",
   "execution_count": null,
   "metadata": {},
   "outputs": [],
   "source": [
    "df=df.drop_duplicates()\n",
    "df.reset_index()"
   ]
  },
  {
   "cell_type": "code",
   "execution_count": null,
   "metadata": {},
   "outputs": [],
   "source": [
    "df.info()"
   ]
  },
  {
   "cell_type": "markdown",
   "metadata": {},
   "source": [
    "Ater removing all the duplicate values, we now have 952 rows of data for our analysis and model creation"
   ]
  },
  {
   "cell_type": "markdown",
   "metadata": {},
   "source": [
    "<a id=section54></a>"
   ]
  },
  {
   "cell_type": "markdown",
   "metadata": {},
   "source": [
    "### 5.4 Understanding the distribution of each columns"
   ]
  },
  {
   "cell_type": "markdown",
   "metadata": {},
   "source": [
    "<a id=section541></a>"
   ]
  },
  {
   "cell_type": "markdown",
   "metadata": {},
   "source": [
    "#### 5.4.1 MAKE:"
   ]
  },
  {
   "cell_type": "code",
   "execution_count": null,
   "metadata": {},
   "outputs": [],
   "source": [
    "len(df['MAKE'].value_counts()) #checking the numbe of verities of car brands"
   ]
  },
  {
   "cell_type": "markdown",
   "metadata": {},
   "source": [
    "There are 39 verities of cars in the dataset"
   ]
  },
  {
   "cell_type": "code",
   "execution_count": null,
   "metadata": {},
   "outputs": [],
   "source": [
    "plt.figure(figsize=(12,12))\n",
    "sns.countplot(y='MAKE',data=df,order=df['MAKE'].value_counts().index)"
   ]
  },
  {
   "cell_type": "markdown",
   "metadata": {},
   "source": [
    "Out of the 39 varieties of cars, **FORD, CHEVROLET, BMW & MERCEDES-BENZ** are very common. 8% of the dataset contains the data only from **FORD** Cars. "
   ]
  },
  {
   "cell_type": "markdown",
   "metadata": {},
   "source": [
    "#### MAKE v/s CO2 EMISSIONS"
   ]
  },
  {
   "cell_type": "code",
   "execution_count": null,
   "metadata": {},
   "outputs": [],
   "source": [
    "A=df[['MAKE','CO2EMISSIONS']]\n",
    "B= A.groupby(by='MAKE').mean().sort_values(by='CO2EMISSIONS',ascending= False) # calculating the mean CO2 emissions for each brand\n",
    "B"
   ]
  },
  {
   "cell_type": "code",
   "execution_count": null,
   "metadata": {
    "scrolled": false
   },
   "outputs": [],
   "source": [
    "plt.figure(figsize=(12,10))\n",
    "sns.set(font_scale = 1)\n",
    "sns.barplot(y=B.index, x=B['CO2EMISSIONS'],)\n",
    "plt.xlabel('CO2 EMISSIONS in g/Km')"
   ]
  },
  {
   "cell_type": "markdown",
   "metadata": {},
   "source": [
    "The top 10 car brands of Canada with highest amount of CO2 emissions are as under;\n",
    "\n",
    "- LAMBORGHINI\n",
    "- SRT\n",
    "- ROLLS-ROYCE\n",
    "- BENTLEY\n",
    "- ASTON MARTIN\n",
    "- GMC\n",
    "- MASERATI\n",
    "- LAND ROVER\n",
    "- RAM\n",
    "- JAGUAR"
   ]
  },
  {
   "cell_type": "code",
   "execution_count": null,
   "metadata": {},
   "outputs": [],
   "source": [
    "B.tail()"
   ]
  },
  {
   "cell_type": "markdown",
   "metadata": {},
   "source": [
    "Car Brands such as **GMC, MASERATI, LAND LOVER, RAM & JAGUAR** are better options as their CO2 emissions are lower"
   ]
  },
  {
   "cell_type": "markdown",
   "metadata": {},
   "source": [
    "<a id=section542></a>"
   ]
  },
  {
   "cell_type": "markdown",
   "metadata": {},
   "source": [
    "####  5.4.2 VEHICLE CLASS"
   ]
  },
  {
   "cell_type": "code",
   "execution_count": null,
   "metadata": {},
   "outputs": [],
   "source": [
    "plt.figure(figsize=(8,8))\n",
    "sns.countplot(y='VEHICLECLASS',data=df,order=df['VEHICLECLASS'].value_counts().index)"
   ]
  },
  {
   "cell_type": "code",
   "execution_count": null,
   "metadata": {
    "scrolled": true
   },
   "outputs": [],
   "source": [
    "df['VEHICLECLASS'].value_counts()"
   ]
  },
  {
   "cell_type": "markdown",
   "metadata": {},
   "source": [
    "From the above count plot and the table, we understand that out of 952 rows of data, the data of 463 columns are only for smaller economical cars "
   ]
  },
  {
   "cell_type": "markdown",
   "metadata": {},
   "source": [
    "#### VEHICLECLASS v/s CO2EMISSIONS"
   ]
  },
  {
   "cell_type": "code",
   "execution_count": null,
   "metadata": {},
   "outputs": [],
   "source": [
    "C=df[['VEHICLECLASS','CO2EMISSIONS']]\n",
    "D= C.groupby(by='VEHICLECLASS').mean().sort_values(by='CO2EMISSIONS',ascending= False).head(10)\n",
    "D"
   ]
  },
  {
   "cell_type": "code",
   "execution_count": null,
   "metadata": {},
   "outputs": [],
   "source": [
    "sns.light_palette(\"seagreen\", as_cmap=True)\n",
    "plt.figure(figsize=(8,8))\n",
    "sns.barplot(y=D.index, x=D['CO2EMISSIONS'],)\n",
    "plt.xlabel('CO2 EMISSIONS in g/Km')"
   ]
  },
  {
   "cell_type": "markdown",
   "metadata": {},
   "source": [
    "The top 10 class of cars in Canada with highest amount of CO2 emissions are as under;\n",
    "\n",
    "- VAN - PASSENGER\n",
    "- VAN - CARGO\n",
    "- PICKUP TRUCK - STANDARD\n",
    "- SUV - STANDARD\n",
    "- PICKUP TRUCK - SMALL\n",
    "- FULL-SIZE\n",
    "- TWO-SEATER\n",
    "- MINIVAN\n",
    "- SUBCOMPACT\n",
    "- SUV - SMALL\n",
    "\n",
    "The compact SUV car models are better models for controlling CO2 emissions"
   ]
  },
  {
   "cell_type": "markdown",
   "metadata": {},
   "source": [
    "<a id=section543></a>"
   ]
  },
  {
   "cell_type": "markdown",
   "metadata": {},
   "source": [
    "#### 5.4.3 ENGINESIZE"
   ]
  },
  {
   "cell_type": "markdown",
   "metadata": {},
   "source": [
    "Engine size is nothing but the capacity of the engine measured in terms of stroke length of the piston inside the cylinder of the engine.\n",
    "Let us plot the distribution of ENGINESIZE and understand the behaviour"
   ]
  },
  {
   "cell_type": "code",
   "execution_count": null,
   "metadata": {},
   "outputs": [],
   "source": [
    "sns.distplot(df['ENGINESIZE'])\n",
    "plt.xlabel('ENGINESIZE in cc')"
   ]
  },
  {
   "cell_type": "markdown",
   "metadata": {},
   "source": [
    "From the above we noticed that the distribution of EngineSize is not 100% uniform. But let us see the behaviour with CO2"
   ]
  },
  {
   "cell_type": "markdown",
   "metadata": {},
   "source": [
    "#### ENGINESIZE v/s CO2EMISSIONS"
   ]
  },
  {
   "cell_type": "code",
   "execution_count": null,
   "metadata": {},
   "outputs": [],
   "source": [
    "plt.figure(figsize=(10,10))\n",
    "sns.set(font_scale = 1.5)\n",
    "sns.lineplot(df['ENGINESIZE'],df['CO2EMISSIONS'])\n",
    "plt.xlabel('ENGINESIZE in cc')\n",
    "plt.ylabel('CO2EMISSIONS in g/Km')"
   ]
  },
  {
   "cell_type": "markdown",
   "metadata": {},
   "source": [
    "From the above plot we notice that as the engine size increases, the CO2 emissions increases.\n",
    "\n",
    "Therefore in order to reduce the CO2 emissions, we should always go for lower cc engines"
   ]
  },
  {
   "cell_type": "markdown",
   "metadata": {},
   "source": [
    "<a id=section544></a>"
   ]
  },
  {
   "cell_type": "markdown",
   "metadata": {},
   "source": [
    "#### 5.4.4 CYLINDERS"
   ]
  },
  {
   "cell_type": "code",
   "execution_count": null,
   "metadata": {},
   "outputs": [],
   "source": [
    "df['CYLINDERS'].unique()"
   ]
  },
  {
   "cell_type": "markdown",
   "metadata": {},
   "source": [
    "Here we have 7 varities of engine cylinders, 3,4,5,6,8,10 and 12"
   ]
  },
  {
   "cell_type": "code",
   "execution_count": null,
   "metadata": {},
   "outputs": [],
   "source": [
    "df['CYLINDERS'].value_counts()"
   ]
  },
  {
   "cell_type": "code",
   "execution_count": null,
   "metadata": {},
   "outputs": [],
   "source": [
    "sns.light_palette(\"seagreen\", as_cmap=True)\n",
    "plt.figure(figsize=(7,6))\n",
    "sns.set(font_scale = 1.5)\n",
    "sns.countplot('CYLINDERS', data=df, order=df['CYLINDERS'].value_counts().index)\n",
    "plt.xlabel('Number of engine cylinders')"
   ]
  },
  {
   "cell_type": "markdown",
   "metadata": {},
   "source": [
    "Out of the 7 varieties of cylinders, 4, 6 and 8 are very common cylinder types. About 97% of the data contains only these cylinder types."
   ]
  },
  {
   "cell_type": "markdown",
   "metadata": {},
   "source": [
    "#### CYLINDERS v/s CO2EMISSIONS"
   ]
  },
  {
   "cell_type": "code",
   "execution_count": null,
   "metadata": {},
   "outputs": [],
   "source": [
    "E=df[['CYLINDERS','CO2EMISSIONS']]\n",
    "F= E.groupby(by='CYLINDERS').mean().sort_values(by='CO2EMISSIONS',ascending= False).head(10)\n",
    "F"
   ]
  },
  {
   "cell_type": "code",
   "execution_count": null,
   "metadata": {},
   "outputs": [],
   "source": [
    "sns.light_palette(\"seagreen\", as_cmap=True)\n",
    "plt.figure(figsize=(8,8))\n",
    "sns.barplot(x=F.index, y=F['CO2EMISSIONS'])\n",
    "plt.ylabel('CO2 EMISSIONS in g/Km')\n",
    "plt.xlabel('Number of engine cylinders')"
   ]
  },
  {
   "cell_type": "markdown",
   "metadata": {},
   "source": [
    "From the above count plot, it is understood that the CO2 emissions increases with increase in Number of cylinders. As for 12 cylinder engine, there is drop in CO2 emissions because of very less data on 12 cylinder engines (only 12 rows of data) \n",
    "\n",
    "Therefore in order to have better control on emissions, we should go for more 3 or 4 cylinder engines"
   ]
  },
  {
   "cell_type": "markdown",
   "metadata": {},
   "source": [
    "<a id=section545></a>"
   ]
  },
  {
   "cell_type": "markdown",
   "metadata": {},
   "source": [
    "#### 5.4.5 TRANSMISSION"
   ]
  },
  {
   "cell_type": "code",
   "execution_count": null,
   "metadata": {},
   "outputs": [],
   "source": [
    "len(df['TRANSMISSION'].unique())"
   ]
  },
  {
   "cell_type": "markdown",
   "metadata": {},
   "source": [
    "We have 22 tyes of Engine Transmissions in the dataset"
   ]
  },
  {
   "cell_type": "code",
   "execution_count": null,
   "metadata": {},
   "outputs": [],
   "source": [
    "plt.figure(figsize=(12,12))\n",
    "sns.set(font_scale = 1.5)\n",
    "sns.countplot('TRANSMISSION',data=df,order=df['TRANSMISSION'].value_counts().index)"
   ]
  },
  {
   "cell_type": "markdown",
   "metadata": {},
   "source": [
    "**M6, AS6 & A6** transmissions are commonly preferred compared to others"
   ]
  },
  {
   "cell_type": "markdown",
   "metadata": {},
   "source": [
    "#### TRANSMISSIONS v/s CO2EMISSIONS"
   ]
  },
  {
   "cell_type": "code",
   "execution_count": null,
   "metadata": {},
   "outputs": [],
   "source": [
    "G=df[['TRANSMISSION','CO2EMISSIONS']]\n",
    "H= G.groupby(by='TRANSMISSION').mean().sort_values(by='CO2EMISSIONS',ascending= False)\n",
    "H"
   ]
  },
  {
   "cell_type": "code",
   "execution_count": null,
   "metadata": {},
   "outputs": [],
   "source": [
    "plt.figure(figsize=(12,12))\n",
    "sns.set(font_scale = 1.5)\n",
    "sns.barplot(y=H.index, x=H['CO2EMISSIONS'])\n",
    "plt.xlabel('CO2 EMISSIONS in g/Km')"
   ]
  },
  {
   "cell_type": "markdown",
   "metadata": {},
   "source": [
    "M6, AS6 & A6 transmissions are commonly preferred as the CO2 emissions are comparatively lower than other transmissions"
   ]
  },
  {
   "cell_type": "markdown",
   "metadata": {},
   "source": [
    "<a id=section546></a>"
   ]
  },
  {
   "cell_type": "markdown",
   "metadata": {},
   "source": [
    "#### 5.4.6 FUELTYPE"
   ]
  },
  {
   "cell_type": "code",
   "execution_count": null,
   "metadata": {},
   "outputs": [],
   "source": [
    "df['FUELTYPE'].unique()"
   ]
  },
  {
   "cell_type": "markdown",
   "metadata": {},
   "source": [
    "There are 4 tyoes of Fuels used, Z, D, X & E"
   ]
  },
  {
   "cell_type": "code",
   "execution_count": null,
   "metadata": {},
   "outputs": [],
   "source": [
    "plt.figure(figsize=(12,7))\n",
    "sns.countplot('FUELTYPE',data=df,order=df['FUELTYPE'].value_counts().index)"
   ]
  },
  {
   "cell_type": "markdown",
   "metadata": {},
   "source": [
    "Fuel type  X & Z are more commonly used then E & D"
   ]
  },
  {
   "cell_type": "markdown",
   "metadata": {},
   "source": [
    "#### FUELTYPE v/s CO2EMISSIONS"
   ]
  },
  {
   "cell_type": "code",
   "execution_count": null,
   "metadata": {},
   "outputs": [],
   "source": [
    "I=df[['FUELTYPE','CO2EMISSIONS']]\n",
    "J= I.groupby(by='FUELTYPE').mean().sort_values(by='CO2EMISSIONS',ascending= False)\n",
    "J"
   ]
  },
  {
   "cell_type": "code",
   "execution_count": null,
   "metadata": {},
   "outputs": [],
   "source": [
    "plt.figure(figsize=(8,8))\n",
    "sns.barplot(x=J.index, y=J['CO2EMISSIONS'],)\n",
    "plt.ylabel('CO2 EMISSIONS in g/Km')"
   ]
  },
  {
   "cell_type": "markdown",
   "metadata": {},
   "source": [
    "Fuel type Z and X have lower CO2 emissions compared to Fuel type E. Fuel Type D has lowest emissions.\n",
    "\n",
    "Car manufacturers must manufacturer engines with type D fuel variant"
   ]
  },
  {
   "cell_type": "markdown",
   "metadata": {},
   "source": [
    "<a id=section547></a>"
   ]
  },
  {
   "cell_type": "markdown",
   "metadata": {},
   "source": [
    "#### 5.4.7 FUEL CONSUMPTION CITY"
   ]
  },
  {
   "cell_type": "code",
   "execution_count": null,
   "metadata": {},
   "outputs": [],
   "source": [
    "sns.distplot(df['FUELCONSUMPTION_CITY'], bins=50)\n",
    "plt.xlabel('FUELCONSUMPTION_CITY in Liters/100Km')"
   ]
  },
  {
   "cell_type": "markdown",
   "metadata": {},
   "source": [
    "FUEL CONSUNPTION CITY is almost normally distributed with slightly right skew"
   ]
  },
  {
   "cell_type": "markdown",
   "metadata": {},
   "source": [
    "#### FUELCONSUMPTION_CITY v/s CO2EMISSIONS"
   ]
  },
  {
   "cell_type": "code",
   "execution_count": null,
   "metadata": {},
   "outputs": [],
   "source": [
    "sns.scatterplot(df['FUELCONSUMPTION_CITY'], df['CO2EMISSIONS'])\n",
    "plt.xlabel('FUELCONSUMPTION_CITY in Liters/100Km')\n",
    "plt.ylabel('CO2 EMISSIONS in g/Km')"
   ]
  },
  {
   "cell_type": "markdown",
   "metadata": {},
   "source": [
    "The above curve gave two distinct patterns where the isolated pattern shows same CO2 emissions with increased higher Fuel Consumption. Let us find out which **FUELTYPE** is giving this output using ```hue``` function"
   ]
  },
  {
   "cell_type": "code",
   "execution_count": null,
   "metadata": {},
   "outputs": [],
   "source": [
    "sns.scatterplot(df['FUELCONSUMPTION_CITY'], df['CO2EMISSIONS'], hue=df['FUELTYPE'])\n",
    "plt.xlabel('FUELCONSUMPTION_CITY in Liters/100Km')\n",
    "plt.ylabel('CO2 EMISSIONS in g/Km')"
   ]
  },
  {
   "cell_type": "markdown",
   "metadata": {},
   "source": [
    "From the above plot it is clear on why **E type Fuel** is not commonly used as the fuel consumption is more compared to other fuels "
   ]
  },
  {
   "cell_type": "markdown",
   "metadata": {},
   "source": [
    "<a id=section548></a>"
   ]
  },
  {
   "cell_type": "markdown",
   "metadata": {},
   "source": [
    "#### 5.4.8 FUEL CONSUMPTION HIGHWAY"
   ]
  },
  {
   "cell_type": "code",
   "execution_count": null,
   "metadata": {},
   "outputs": [],
   "source": [
    "sns.distplot(df['FUELCONSUMPTION_HWY'], bins=50)\n",
    "plt.xlabel('FUELCONSUMPTION_HWY in Liters/100Km')\n"
   ]
  },
  {
   "cell_type": "markdown",
   "metadata": {},
   "source": [
    "#### FUELCONSUMPTION_HWY v/s CO2EMISSIONS"
   ]
  },
  {
   "cell_type": "code",
   "execution_count": null,
   "metadata": {},
   "outputs": [],
   "source": [
    "sns.scatterplot(df['FUELCONSUMPTION_HWY'], df['CO2EMISSIONS'])\n",
    "plt.xlabel('FUELCONSUMPTION_HWY in Liters/100Km')\n",
    "plt.ylabel('CO2 EMISSIONS in g/Km')"
   ]
  },
  {
   "cell_type": "code",
   "execution_count": null,
   "metadata": {},
   "outputs": [],
   "source": [
    "sns.scatterplot(df['FUELCONSUMPTION_HWY'], df['CO2EMISSIONS'], hue=df['FUELTYPE'])\n",
    "plt.xlabel('FUELCONSUMPTION_HWY in Liters/100Km')\n",
    "plt.ylabel('CO2 EMISSIONS in g/Km')"
   ]
  },
  {
   "cell_type": "markdown",
   "metadata": {},
   "source": [
    "FUEL CONSUMPTION in HIGHWAY has same behaviour as that of FUEL CONSMPTION in CITY"
   ]
  },
  {
   "cell_type": "markdown",
   "metadata": {},
   "source": [
    "<a id=section549></a>"
   ]
  },
  {
   "cell_type": "markdown",
   "metadata": {},
   "source": [
    "#### 5.4.9 FUEL CONSUMPTION COMBINATION"
   ]
  },
  {
   "cell_type": "code",
   "execution_count": null,
   "metadata": {},
   "outputs": [],
   "source": [
    "sns.distplot(df['FUELCONSUMPTION_COMB'])\n",
    "plt.xlabel('FUELCONSUMPTION_COMB in Liters/100Km')"
   ]
  },
  {
   "cell_type": "markdown",
   "metadata": {},
   "source": [
    "#### FUELCONSUMPTION_COMB v/s CO2EMISSIONS"
   ]
  },
  {
   "cell_type": "code",
   "execution_count": null,
   "metadata": {},
   "outputs": [],
   "source": [
    "sns.scatterplot(df['FUELCONSUMPTION_COMB'],df['CO2EMISSIONS'])\n",
    "plt.xlabel('FUELCONSUMPTION_COMB in Liters/100Km')\n",
    "plt.ylabel('CO2 EMISSIONS in g/Km')"
   ]
  },
  {
   "cell_type": "code",
   "execution_count": null,
   "metadata": {},
   "outputs": [],
   "source": [
    "sns.scatterplot(df['FUELCONSUMPTION_COMB'],df['CO2EMISSIONS'], hue=df['FUELTYPE'])\n",
    "plt.xlabel('FUELCONSUMPTION_COMB in Liters/100Km')\n",
    "plt.ylabel('CO2 EMISSIONS in g/Km')"
   ]
  },
  {
   "cell_type": "markdown",
   "metadata": {},
   "source": [
    "Since FUELCONSUMPTION_COMB is derived from FUELCONSUMPTION_CITY & FUELCONSUMPTION_HWY, it is best to delete it as it is derived column"
   ]
  },
  {
   "cell_type": "markdown",
   "metadata": {},
   "source": [
    "Let us delete FUELCONSMPTION_CTY & FUELCONSMPTION_HWY and keep only FUELCONSUMPTION_COMB. "
   ]
  },
  {
   "cell_type": "code",
   "execution_count": null,
   "metadata": {},
   "outputs": [],
   "source": [
    "df.drop(columns=['FUELCONSUMPTION_COMB'], axis=0, inplace= True)"
   ]
  },
  {
   "cell_type": "code",
   "execution_count": null,
   "metadata": {
    "scrolled": true
   },
   "outputs": [],
   "source": [
    "df.head()"
   ]
  },
  {
   "cell_type": "markdown",
   "metadata": {},
   "source": [
    "<a id=section5410></a>"
   ]
  },
  {
   "cell_type": "markdown",
   "metadata": {},
   "source": [
    "#### 5.4.10 CO2 EMISSIONS"
   ]
  },
  {
   "cell_type": "code",
   "execution_count": null,
   "metadata": {},
   "outputs": [],
   "source": [
    "sns.distplot(df['CO2EMISSIONS'])\n",
    "plt.xlabel('CO2 EMISSIONS in g/Km')"
   ]
  },
  {
   "cell_type": "markdown",
   "metadata": {},
   "source": [
    "CO2EMISSIONS columns column is normally distributed"
   ]
  },
  {
   "cell_type": "markdown",
   "metadata": {},
   "source": [
    "<a id=section5411></a>"
   ]
  },
  {
   "cell_type": "markdown",
   "metadata": {},
   "source": [
    "#### 5.4.11 PAIR PLOT"
   ]
  },
  {
   "cell_type": "code",
   "execution_count": null,
   "metadata": {},
   "outputs": [],
   "source": [
    "sns.light_palette(\"seagreen\", as_cmap=True)\n",
    "sns.set(font_scale = 1)\n",
    "sns.pairplot(data=df)"
   ]
  },
  {
   "cell_type": "markdown",
   "metadata": {},
   "source": [
    "<a id=section5412></a>"
   ]
  },
  {
   "cell_type": "markdown",
   "metadata": {},
   "source": [
    "#### 5.4.12 HEATMAP"
   ]
  },
  {
   "cell_type": "code",
   "execution_count": null,
   "metadata": {},
   "outputs": [],
   "source": [
    "df.corr()"
   ]
  },
  {
   "cell_type": "code",
   "execution_count": null,
   "metadata": {},
   "outputs": [],
   "source": [
    "sns.heatmap(df.corr(), annot=True, cmap='RdBu')"
   ]
  },
  {
   "cell_type": "markdown",
   "metadata": {},
   "source": [
    "<a id=section5412></a>"
   ]
  },
  {
   "cell_type": "markdown",
   "metadata": {},
   "source": [
    "#### 5.4.12 Conclusion from EDA"
   ]
  },
  {
   "cell_type": "markdown",
   "metadata": {},
   "source": [
    "#### From EDA we have the following conclusions;\n",
    "   - **Engine size** has linear relationship with **CO2 emissions.**\n",
    "   - As the Number of **Engine Cylinder** increases, the **CO2 Emission** increases\n",
    "   - Fuel Type **E** has high fuel consumption but same **CO2 Emissions**\n",
    "   - The Target Variable **CO2 EMISSIONS** is normally distributed.\n",
    "   - **ENGINE SIZE, CYLINDERS, FUELCONSUMPTION_CITY, FUELCONSUMPTION_HWY, & CO2EMISSIONS** are highly co-related with each other\n",
    "   "
   ]
  },
  {
   "cell_type": "markdown",
   "metadata": {},
   "source": [
    "<a id=section6></a>"
   ]
  },
  {
   "cell_type": "markdown",
   "metadata": {},
   "source": [
    "## 6. Linear Regression"
   ]
  },
  {
   "cell_type": "markdown",
   "metadata": {},
   "source": [
    "Now we will more forward and design different Machine Learning models for the dataset and decide what will be the best model for accurately predicting the CO2 emissions "
   ]
  },
  {
   "cell_type": "markdown",
   "metadata": {},
   "source": [
    "<a id=section61></a>"
   ]
  },
  {
   "cell_type": "markdown",
   "metadata": {},
   "source": [
    "### 6.1. Data Preparation for ML"
   ]
  },
  {
   "cell_type": "markdown",
   "metadata": {},
   "source": [
    "Before we move forward with applying Machine learning algorithms, we need to first convet the categorical object column **FUELTYPE** into categorical numerical column using ```getdummies()``` function"
   ]
  },
  {
   "cell_type": "code",
   "execution_count": null,
   "metadata": {},
   "outputs": [],
   "source": [
    "df=pd.get_dummies(data=df, columns=['FUELTYPE'],drop_first=True )"
   ]
  },
  {
   "cell_type": "code",
   "execution_count": null,
   "metadata": {
    "scrolled": false
   },
   "outputs": [],
   "source": [
    "df.head()"
   ]
  },
  {
   "cell_type": "markdown",
   "metadata": {},
   "source": [
    "<a id=section62></a>"
   ]
  },
  {
   "cell_type": "markdown",
   "metadata": {},
   "source": [
    "<a id=section62></a>"
   ]
  },
  {
   "cell_type": "markdown",
   "metadata": {},
   "source": [
    "### 6.2 LINEAR REGRESSION ASSUMPTIONS"
   ]
  },
  {
   "cell_type": "markdown",
   "metadata": {},
   "source": [
    "**1. The Target Variable must be normally distributed**"
   ]
  },
  {
   "cell_type": "code",
   "execution_count": null,
   "metadata": {},
   "outputs": [],
   "source": [
    "sns.distplot(df['CO2EMISSIONS'])\n",
    "plt.xlabel('CO2 EMISSIONS in g/Km')"
   ]
  },
  {
   "cell_type": "markdown",
   "metadata": {},
   "source": [
    "From the above plot it is clear that the target variable ```df['CO2EMISSIONS']``` is normally distributed"
   ]
  },
  {
   "cell_type": "markdown",
   "metadata": {},
   "source": [
    "**2. Explanatory variables must not be co-related with each other**"
   ]
  },
  {
   "cell_type": "markdown",
   "metadata": {},
   "source": [
    "We have the independent feature variables as : ```['MAKE', 'VEHICLECLASS', 'ENGINESIZE', 'CYLINDERS', 'TRANSMISSION','FUELCONSUMPTION_CITY', 'FUELCONSUMPTION_HWY','FUELTYPE_E', 'FUELTYPE_X', 'FUELTYPE_Z']```\n",
    "\n",
    "Let us see the correlation matrix and drop the variables which are having co-relation, |r|<0.8"
   ]
  },
  {
   "cell_type": "code",
   "execution_count": null,
   "metadata": {},
   "outputs": [],
   "source": [
    "columns= ['MAKE', 'VEHICLECLASS', 'ENGINESIZE', 'CYLINDERS', 'TRANSMISSION','FUELCONSUMPTION_CITY', 'FUELCONSUMPTION_HWY','FUELTYPE_E', 'FUELTYPE_X', 'FUELTYPE_Z']\n",
    "columns"
   ]
  },
  {
   "cell_type": "code",
   "execution_count": null,
   "metadata": {},
   "outputs": [],
   "source": [
    "sns.heatmap(df[columns].corr(), annot =True, cmap='RdBu')"
   ]
  },
  {
   "cell_type": "markdown",
   "metadata": {},
   "source": [
    "We need to drop the columns: ```ENGINESIZE, FUELCONSUMPTION_HWY``` as they are highly co-related with other columns. Let's drop these columns and check for co-relation again"
   ]
  },
  {
   "cell_type": "code",
   "execution_count": null,
   "metadata": {},
   "outputs": [],
   "source": [
    "df.drop(columns=['ENGINESIZE', 'FUELCONSUMPTION_HWY'], axis=0, inplace=True)"
   ]
  },
  {
   "cell_type": "code",
   "execution_count": null,
   "metadata": {},
   "outputs": [],
   "source": [
    "columns= ['CYLINDERS', 'FUELCONSUMPTION_CITY', 'FUELTYPE_E', 'FUELTYPE_X', 'FUELTYPE_Z']\n",
    "columns"
   ]
  },
  {
   "cell_type": "code",
   "execution_count": null,
   "metadata": {},
   "outputs": [],
   "source": [
    "sns.heatmap(df[columns].corr(), annot =True, cmap='RdBu')"
   ]
  },
  {
   "cell_type": "markdown",
   "metadata": {},
   "source": [
    "**Thus assumption 2 is satisfied**"
   ]
  },
  {
   "cell_type": "markdown",
   "metadata": {},
   "source": [
    "**3. Linear relationship between independent and dependent variable**"
   ]
  },
  {
   "cell_type": "markdown",
   "metadata": {},
   "source": [
    "The target variable as ```CO2EMISSIONS```\n",
    "The independent variables are: ```['CYLINDERS','FUELCONSUMPTION_CITY', 'FUELTYPE_E', 'FUELTYPE_X', 'FUELTYPE_Z']```\n",
    "\n",
    "Let us check for linear relationship as under"
   ]
  },
  {
   "cell_type": "code",
   "execution_count": null,
   "metadata": {
    "scrolled": false
   },
   "outputs": [],
   "source": [
    "for col in columns:\n",
    "    plt.figure(figsize=(8,8))\n",
    "    sns.scatterplot(x=df[col],y=df['CO2EMISSIONS'])"
   ]
  },
  {
   "cell_type": "markdown",
   "metadata": {},
   "source": [
    "**Thus assumption 3 is satisfied**"
   ]
  },
  {
   "cell_type": "markdown",
   "metadata": {},
   "source": [
    "**4. Homoscedasticity : constant variance**"
   ]
  },
  {
   "cell_type": "markdown",
   "metadata": {},
   "source": [
    "Since the first 3 assumptions are satisfied, we can assume that this assumption is automatically satisfied"
   ]
  },
  {
   "cell_type": "markdown",
   "metadata": {},
   "source": [
    "<a id=section63></a>"
   ]
  },
  {
   "cell_type": "markdown",
   "metadata": {},
   "source": [
    "## 6.3 Train Test Split"
   ]
  },
  {
   "cell_type": "code",
   "execution_count": null,
   "metadata": {},
   "outputs": [],
   "source": [
    "features= ['CYLINDERS', 'FUELCONSUMPTION_CITY', 'FUELTYPE_E', 'FUELTYPE_X', 'FUELTYPE_Z']\n",
    "features"
   ]
  },
  {
   "cell_type": "code",
   "execution_count": null,
   "metadata": {},
   "outputs": [],
   "source": [
    "#We have the X and Y are as under;\n",
    "\n",
    "X=df[features]\n",
    "X.head()"
   ]
  },
  {
   "cell_type": "code",
   "execution_count": null,
   "metadata": {},
   "outputs": [],
   "source": [
    "y=df['CO2EMISSIONS']\n",
    "y.head()"
   ]
  },
  {
   "cell_type": "code",
   "execution_count": null,
   "metadata": {},
   "outputs": [],
   "source": [
    "print('Shape of X is :', X.shape)\n",
    "print('Shape of y is :',y.shape)"
   ]
  },
  {
   "cell_type": "code",
   "execution_count": null,
   "metadata": {},
   "outputs": [],
   "source": [
    "#splitting the data into 80% train and 20% test\n",
    "\n",
    "from sklearn.model_selection import train_test_split\n",
    "\n",
    "def split(X,y):\n",
    "    return train_test_split(X,y, test_size=0.2, random_state=1)\n",
    "\n",
    "X_train, X_test, y_train, y_test=split(X,y)\n"
   ]
  },
  {
   "cell_type": "code",
   "execution_count": null,
   "metadata": {},
   "outputs": [],
   "source": [
    "print('Shape of X_train is :', X_train.shape)\n",
    "print('Shape of y_train is :',y_train.shape)"
   ]
  },
  {
   "cell_type": "code",
   "execution_count": null,
   "metadata": {
    "scrolled": true
   },
   "outputs": [],
   "source": [
    "print('Shape of X_test is :', X_test.shape)\n",
    "print('Shape of y_test is :',y_test.shape)"
   ]
  },
  {
   "cell_type": "markdown",
   "metadata": {},
   "source": [
    "<a id=section64></a>"
   ]
  },
  {
   "cell_type": "markdown",
   "metadata": {},
   "source": [
    "## 6.4 Data Scaling"
   ]
  },
  {
   "cell_type": "markdown",
   "metadata": {},
   "source": [
    "We need to bring all the X columns  to have same uniformity. That is why we scale the data as under;"
   ]
  },
  {
   "cell_type": "code",
   "execution_count": null,
   "metadata": {},
   "outputs": [],
   "source": [
    "#Scaling the X part of data\n",
    "from sklearn.preprocessing import MinMaxScaler\n",
    "scalar=MinMaxScaler() # defining object\n",
    "scalar.fit(X_train) #defining the scal\n",
    "X_train_s=scalar.transform(X_train)#actual scaling\n",
    "X_test_s=scalar.transform(X_test)\n"
   ]
  },
  {
   "cell_type": "markdown",
   "metadata": {},
   "source": [
    "<a id=section65></a>"
   ]
  },
  {
   "cell_type": "markdown",
   "metadata": {},
   "source": [
    "## 6.5 Linear Regression"
   ]
  },
  {
   "cell_type": "markdown",
   "metadata": {},
   "source": [
    "Now that all the assumptions are satisfied for linear regression,we are ready for our model development, let us develop our first model from linear regression model. Normally the model is defined as under;\n",
    "\n",
    "### **Y=B0+B1X1+B2X2+B3X3+.........+BmXm  ==> Y=BX**"
   ]
  },
  {
   "cell_type": "markdown",
   "metadata": {},
   "source": [
    "<a id=section651></a>"
   ]
  },
  {
   "cell_type": "markdown",
   "metadata": {},
   "source": [
    "### 6.5.1 Linear Regression Equation Development"
   ]
  },
  {
   "cell_type": "code",
   "execution_count": null,
   "metadata": {},
   "outputs": [],
   "source": [
    "from sklearn.linear_model import LinearRegression\n",
    "linreg=LinearRegression()\n",
    "linreg.fit(X_train_s, y_train) #calculates B0 and B1\n",
    "y_pred_train_lg=linreg.predict(X_train_s)\n",
    "y_pred_test_lg=linreg.predict(X_test_s)"
   ]
  },
  {
   "cell_type": "code",
   "execution_count": null,
   "metadata": {},
   "outputs": [],
   "source": [
    "#print b0 and b1\n",
    "print('Intercept:',linreg.intercept_)          # print the intercept \n",
    "print('Coefficients:',linreg.coef_)  "
   ]
  },
  {
   "cell_type": "code",
   "execution_count": null,
   "metadata": {},
   "outputs": [],
   "source": [
    "features.insert(0,'Intercept')# Appending the columns to show the B values side by side\n",
    "coef = linreg.coef_.tolist()            \n",
    "coef.insert(0, linreg.intercept_)       "
   ]
  },
  {
   "cell_type": "code",
   "execution_count": null,
   "metadata": {},
   "outputs": [],
   "source": [
    "eq1 = zip(features, coef)\n",
    "\n",
    "for c1,c2 in eq1:\n",
    "    print(c1,c2)"
   ]
  },
  {
   "cell_type": "markdown",
   "metadata": {},
   "source": [
    "Therefore we have the final Linear regression equation as under;\n",
    "\n",
    "**CO2 Emissions=132.86+6.52*X_train['CYLINDERS']+463.10*X_train['FUELCONSUMPTION_CITY']-135.89*X_train['FUELTYPE_E']-24.65*X_train['FUELTYPE_X']-26.87*X_train['FUELTYPE_Z']**\n",
    "\n",
    "From the above linear regression equation, we have observed the following;\n",
    "    - The CO2 Emissions are highly dependent on Fuel Consumption. For one unit increase in fuel consunption, \n",
    "the CO2 emissions increases by 463 counts.\n",
    "    - The CO2 Emissions are also dependent on the number of engine cylinders. The CO2 emissions will get increased \n",
    "by 6 counts\n",
    "    - The use of different type of fuel always tend to reduce the CO2 emissions. Basically the Fuel type E has very high effect on reducing the CO2 emissions as it recues the CO2 emissions by 136 counts\n"
   ]
  },
  {
   "cell_type": "code",
   "execution_count": null,
   "metadata": {},
   "outputs": [],
   "source": [
    "x_plot_train=132.86+6.52*X_train['CYLINDERS']+463.10*X_train['FUELCONSUMPTION_CITY']-135.89*X_train['FUELTYPE_E']-24.65*X_train['FUELTYPE_X']-26.87*X_train['FUELTYPE_Z']"
   ]
  },
  {
   "cell_type": "markdown",
   "metadata": {},
   "source": [
    "<a id=section652></a>"
   ]
  },
  {
   "cell_type": "markdown",
   "metadata": {},
   "source": [
    "### 6.5.2 Plotting Predicted vs Actual"
   ]
  },
  {
   "cell_type": "markdown",
   "metadata": {},
   "source": [
    "Let us plot the Predictd value with actual value and check the behaviour"
   ]
  },
  {
   "cell_type": "markdown",
   "metadata": {},
   "source": [
    "PLotting for test data first"
   ]
  },
  {
   "cell_type": "code",
   "execution_count": null,
   "metadata": {},
   "outputs": [],
   "source": [
    "plt.figure(figsize=(12,12))\n",
    "sns.lineplot(x=x_plot_train,y=y_pred_train_lg, label='Predicted')\n",
    "sns.lineplot(x=x_plot_train,y=y_train, label='Actual')\n",
    "plt.xlabel(\"x_plot=132.86+6.52*X_train['CYLINDERS']+463.10*X_train['FUELCONSUMPTION_CITY']-135.89*X_train['FUELTYPE_E']-24.65*X_train['FUELTYPE_X']-26.87*X_train['FUELTYPE_Z']\")\n",
    "plt.ylabel('CO2 Emissions')\n",
    "plt.legend(loc='upper left')"
   ]
  },
  {
   "cell_type": "markdown",
   "metadata": {},
   "source": [
    "Let us also check for linear behaviour of actual and predicted values for test data"
   ]
  },
  {
   "cell_type": "code",
   "execution_count": null,
   "metadata": {},
   "outputs": [],
   "source": [
    "plt.figure(figsize=(8,8))\n",
    "plt.axes(aspect='equal')\n",
    "plt.scatter(y_train, y_pred_train_lg,marker='.')\n",
    "plt.xlabel('Actual CO2 Values')\n",
    "plt.ylabel('Predicted CO2 Values')"
   ]
  },
  {
   "cell_type": "markdown",
   "metadata": {},
   "source": [
    "Now Let us check for the test dataset"
   ]
  },
  {
   "cell_type": "code",
   "execution_count": null,
   "metadata": {},
   "outputs": [],
   "source": [
    "x_plot_test=132.86+6.52*X_test['CYLINDERS']+463.10*X_test['FUELCONSUMPTION_CITY']-135.89*X_test['FUELTYPE_E']-24.65*X_test['FUELTYPE_X']-26.87*X_test['FUELTYPE_Z']"
   ]
  },
  {
   "cell_type": "code",
   "execution_count": null,
   "metadata": {},
   "outputs": [],
   "source": [
    "plt.figure(figsize=(12,12))\n",
    "sns.lineplot(x=x_plot_test,y=y_pred_test_lg, label='Predicted')\n",
    "sns.lineplot(x=x_plot_test,y=y_test, label='Actual')\n",
    "plt.xlabel(\"x_plot_test=132.86+6.52*X_test['CYLINDERS']+463.10*X_test['FUELCONSUMPTION_CITY']-135.89*X_test['FUELTYPE_E']-24.65*X_test['FUELTYPE_X']-26.87*X_test['FUELTYPE_Z']\")\n",
    "plt.ylabel('CO2 Emissions')\n",
    "plt.legend(loc='upper left')"
   ]
  },
  {
   "cell_type": "markdown",
   "metadata": {},
   "source": [
    "Checcking for predicted vs actual for test dataset"
   ]
  },
  {
   "cell_type": "code",
   "execution_count": null,
   "metadata": {},
   "outputs": [],
   "source": [
    "plt.figure(figsize=(8,22))\n",
    "plt.axes(aspect='equal')\n",
    "sns.lineplot(y_test, y_pred_test_lg,marker='.')\n",
    "plt.xlabel('Actual CO2 Values')\n",
    "plt.ylabel('Predicted CO2 Values')"
   ]
  },
  {
   "cell_type": "markdown",
   "metadata": {},
   "source": [
    "From the above train and test plots its clear that the model is very good for predicting the CO2 Emissions"
   ]
  },
  {
   "cell_type": "markdown",
   "metadata": {},
   "source": [
    "<a id=section6523></a>"
   ]
  },
  {
   "cell_type": "markdown",
   "metadata": {},
   "source": [
    "### 6.5.2 FInding RMSE, R-squared and Adjusted R-squared"
   ]
  },
  {
   "cell_type": "markdown",
   "metadata": {},
   "source": [
    "#### RMSE"
   ]
  },
  {
   "cell_type": "code",
   "execution_count": null,
   "metadata": {},
   "outputs": [],
   "source": [
    "#finding RMSE values\n",
    "from sklearn import metrics\n",
    "RMSE_train_lg=np.sqrt(metrics.mean_squared_error(y_train,y_pred_train_lg))\n",
    "print('the Root Mean Squared Error for Train data is  :',RMSE_train_lg)"
   ]
  },
  {
   "cell_type": "code",
   "execution_count": null,
   "metadata": {},
   "outputs": [],
   "source": [
    "from sklearn import metrics\n",
    "RMSE_test_lg=np.sqrt(metrics.mean_squared_error(y_test,y_pred_test_lg))\n",
    "print('the Root Mean Squared Error for Test data is  :',RMSE_test_lg)"
   ]
  },
  {
   "cell_type": "markdown",
   "metadata": {},
   "source": [
    "#### R Squared"
   ]
  },
  {
   "cell_type": "code",
   "execution_count": null,
   "metadata": {},
   "outputs": [],
   "source": [
    "from sklearn.metrics import r2_score\n",
    "r2_train_lg=r2_score(y_train, y_pred_train_lg)\n",
    "print('The R-square value for Train dataset is  :', r2_train_lg)"
   ]
  },
  {
   "cell_type": "code",
   "execution_count": null,
   "metadata": {},
   "outputs": [],
   "source": [
    "from sklearn.metrics import r2_score\n",
    "r2_test_lg=r2_score(y_test, y_pred_test_lg)\n",
    "print('The R-square value for Test dataset is  :', r2_test_lg)"
   ]
  },
  {
   "cell_type": "markdown",
   "metadata": {},
   "source": [
    "#### Adjusted R-Square"
   ]
  },
  {
   "cell_type": "markdown",
   "metadata": {},
   "source": [
    "Let us develop a ```Function``` to calculate the Adjusted R square so that we can call the function anytime during the program"
   ]
  },
  {
   "cell_type": "markdown",
   "metadata": {},
   "source": [
    "def Adjusted_r2(r_square,P,N) \n",
    "\n",
    "    return(1-(((1-r_square)*(N-1))/(N-P-1)))"
   ]
  },
  {
   "cell_type": "markdown",
   "metadata": {},
   "source": [
    "- Were r_square is the R-Square value\n",
    "- P is the number of independent variables. In this case it is 5.\n",
    "- N is the length of the dependent variables.\n",
    "\n",
    "Since we already know the value of P=5, let us modify the above equation as udner"
   ]
  },
  {
   "cell_type": "code",
   "execution_count": null,
   "metadata": {},
   "outputs": [],
   "source": [
    "def Adjusted_r2(r_square,N): #creating function so that we can call the function again and again\n",
    "    return(1-(((1-r_square)*(N-1))/(N-6)))"
   ]
  },
  {
   "cell_type": "code",
   "execution_count": null,
   "metadata": {},
   "outputs": [],
   "source": [
    "adj_r2_train=Adjusted_r2(r2_train_lg,len(X_train))\n",
    "print('The Adjusted R-square of Linear Regression Train Dataset is :', adj_r2_train)\n",
    "adj_r2_test=Adjusted_r2(r2_test_lg,len(X_test))\n",
    "print('The Adjusted R-square of Linear Regression Test Dataset is :', adj_r2_test)"
   ]
  },
  {
   "cell_type": "code",
   "execution_count": null,
   "metadata": {},
   "outputs": [],
   "source": [
    "X_train.shape[-1]"
   ]
  },
  {
   "cell_type": "markdown",
   "metadata": {},
   "source": [
    "**From the above RMSE and R-squared values, we ca say that the model is very accurate with the accuracy of 98% for train and test dataset**"
   ]
  },
  {
   "cell_type": "markdown",
   "metadata": {},
   "source": [
    "<a id=section66></a>"
   ]
  },
  {
   "cell_type": "markdown",
   "metadata": {},
   "source": [
    "## 6.6 Summary of Linear Regression\n"
   ]
  },
  {
   "cell_type": "markdown",
   "metadata": {},
   "source": [
    "We have the equation for linear regression for CO2 as ;\n",
    "\n",
    "**CO2 Emissions=132.86+6.52*X_train['CYLINDERS']+463.10*X_train['FUELCONSUMPTION_CITY']-135.89*X_train['FUELTYPE_E']-24.65*X_train['FUELTYPE_X']-26.87*X_train['FUELTYPE_Z']**\n",
    "\n",
    "From the above linear regression equation, we have observed the following;\n",
    "   - The CO2 Emissions are highly dependent on Fuel Consumption. For one unit increase in fuel consunption, the CO2 emissions increases by 463 counts.\n",
    "   - The CO2 Emissions are also dependent on the number of engine cylinders. The CO2 emissions will get increased by 6 counts\n",
    "   - The use of different type of fuel always tend to reduce the CO2 emissions. Basically the Fuel type E has very high effect on reducing the CO2 emissions as it recues the CO2 emissions by 136 counts\n",
    "\n",
    "After evaluating this model, we have the following results\n",
    "\n",
    "|RMSE Score Train||RMSE Score Test ||R-square Value Train||R-square Value Test|| Adjusted R-squared Value Train||Adjusted R-squared Value test|\n",
    "|------------||-------------||------||-------------||-----------||---------|\n",
    "| 8.8219  ||8.2269|| 0.9804   ||0.9832|| 0.9803||   0.9827|\n",
    "\n"
   ]
  },
  {
   "cell_type": "markdown",
   "metadata": {},
   "source": [
    "<a id=section7></a>"
   ]
  },
  {
   "cell_type": "markdown",
   "metadata": {},
   "source": [
    "## 7. Decision Tree"
   ]
  },
  {
   "cell_type": "markdown",
   "metadata": {},
   "source": [
    "Developing some more models under Decision Tree Regression"
   ]
  },
  {
   "cell_type": "markdown",
   "metadata": {},
   "source": [
    "<a id=section71></a>"
   ]
  },
  {
   "cell_type": "markdown",
   "metadata": {},
   "source": [
    "### 7.1 Decision Tree Model 1"
   ]
  },
  {
   "cell_type": "markdown",
   "metadata": {},
   "source": [
    "<a id=section711></a>"
   ]
  },
  {
   "cell_type": "markdown",
   "metadata": {},
   "source": [
    "### 7.1.1 Model Development"
   ]
  },
  {
   "cell_type": "code",
   "execution_count": null,
   "metadata": {},
   "outputs": [],
   "source": [
    "# Importing and developing simple Decision Tree Model\n",
    "from sklearn.tree import DecisionTreeRegressor\n",
    "model = DecisionTreeRegressor(criterion='mse')\n",
    "model.fit(X_train_s, y_train)"
   ]
  },
  {
   "cell_type": "code",
   "execution_count": null,
   "metadata": {},
   "outputs": [],
   "source": [
    "y_train_pred_dt=model.predict(X_train_s)\n",
    "y_test_pred_dt=model.predict(X_test_s)"
   ]
  },
  {
   "cell_type": "markdown",
   "metadata": {},
   "source": [
    "<a id=section712></a>"
   ]
  },
  {
   "cell_type": "markdown",
   "metadata": {},
   "source": [
    "### 7.1.2 Plotting the model"
   ]
  },
  {
   "cell_type": "code",
   "execution_count": null,
   "metadata": {},
   "outputs": [],
   "source": [
    "#Importing libraries for visvalizing the Tree\n",
    "from pydotplus import graph_from_dot_data\n",
    "from sklearn.tree import export_graphviz"
   ]
  },
  {
   "cell_type": "code",
   "execution_count": null,
   "metadata": {},
   "outputs": [],
   "source": [
    "#importing OS\n",
    "import os\n",
    "os.environ['PATH'] = os.environ['PATH'] + ';' + os.environ['CONDA_PREFIX'] + r\"\\Library\\bin\\graphviz\""
   ]
  },
  {
   "cell_type": "code",
   "execution_count": null,
   "metadata": {},
   "outputs": [],
   "source": [
    "#Generating DOT File\n",
    "dot_data = export_graphviz(model, filled=True, rounded=True, feature_names=X.columns, out_file=None)\n",
    "graph = graph_from_dot_data(dot_data)"
   ]
  },
  {
   "cell_type": "code",
   "execution_count": null,
   "metadata": {
    "scrolled": true
   },
   "outputs": [],
   "source": [
    "#Converting DOT to PNG File\n",
    "graph.write_png('tree.png')"
   ]
  },
  {
   "cell_type": "code",
   "execution_count": null,
   "metadata": {
    "scrolled": true
   },
   "outputs": [],
   "source": [
    "from sklearn.tree import plot_tree\n",
    " \n",
    "plt.figure(figsize=(8, 6))\n",
    "plot_tree(model, feature_names=X_train.columns, filled=True, rounded=True)"
   ]
  },
  {
   "cell_type": "code",
   "execution_count": null,
   "metadata": {
    "scrolled": false
   },
   "outputs": [],
   "source": [
    "sns.lineplot(x=y_test, y=y_pred_test_lg)\n",
    "plt.title('Decision Tree Model 1')\n",
    "plt.xlabel(' Actual')\n",
    "plt.ylabel('Predicted')"
   ]
  },
  {
   "cell_type": "markdown",
   "metadata": {},
   "source": [
    "<a id=section713></a>"
   ]
  },
  {
   "cell_type": "markdown",
   "metadata": {},
   "source": [
    "### 7.1.3 Finding out RMSE and Adjusted R-squared for Train and Test Linear Regression Model"
   ]
  },
  {
   "cell_type": "markdown",
   "metadata": {},
   "source": [
    "#### RMSE"
   ]
  },
  {
   "cell_type": "code",
   "execution_count": null,
   "metadata": {},
   "outputs": [],
   "source": [
    "#finding RMSE values\n",
    "from sklearn import metrics\n",
    "RMSE_train_dt=np.sqrt(metrics.mean_squared_error(y_train,y_train_pred_dt))\n",
    "print('The RMSE Value of Train Dataset for Simple Decision Tree Model is  :',RMSE_train_dt)"
   ]
  },
  {
   "cell_type": "code",
   "execution_count": null,
   "metadata": {},
   "outputs": [],
   "source": [
    "#finding RMSE values\n",
    "from sklearn import metrics\n",
    "RMSE_test_dt=np.sqrt(metrics.mean_squared_error(y_test,y_test_pred_dt))\n",
    "print('The RMSE Value of Test Dataset for Simple Decision Tree Model is  :',RMSE_test_dt)"
   ]
  },
  {
   "cell_type": "markdown",
   "metadata": {},
   "source": [
    "#### R-squared"
   ]
  },
  {
   "cell_type": "code",
   "execution_count": null,
   "metadata": {},
   "outputs": [],
   "source": [
    "from sklearn.metrics import r2_score\n",
    "r2_dt_train=r2_score(y_train, y_train_pred_dt)\n",
    "print('The R-square value for Train Data of simple Decision Tree Model is :', r2_dt_train)"
   ]
  },
  {
   "cell_type": "code",
   "execution_count": null,
   "metadata": {
    "scrolled": true
   },
   "outputs": [],
   "source": [
    "from sklearn.metrics import r2_score\n",
    "r2_dt_test=r2_score(y_test, y_test_pred_dt)\n",
    "print('The R-square value for Test Data of simple Decision Tree Model is :', r2_dt_test)"
   ]
  },
  {
   "cell_type": "markdown",
   "metadata": {},
   "source": [
    "#### Adjusted R-squared"
   ]
  },
  {
   "cell_type": "code",
   "execution_count": null,
   "metadata": {},
   "outputs": [],
   "source": [
    "adj_r2_train=Adjusted_r2(r2_dt_train,len(X_train))\n",
    "print('The Adjusted R-square of Decision Tree first model Train Dataset is :', adj_r2_train)\n",
    "adj_r2_test=Adjusted_r2(r2_dt_test,len(X_test))\n",
    "print('The Adjusted R-square of Decision Tree first model Test Dataset is :', adj_r2_test)"
   ]
  },
  {
   "cell_type": "markdown",
   "metadata": {},
   "source": [
    "<a id=section72></a>"
   ]
  },
  {
   "cell_type": "markdown",
   "metadata": {},
   "source": [
    "### 7.2 Decision Tree Model 2"
   ]
  },
  {
   "cell_type": "markdown",
   "metadata": {},
   "source": [
    "<a id=section721></a>"
   ]
  },
  {
   "cell_type": "markdown",
   "metadata": {},
   "source": [
    "### 7.2.1 Model Development"
   ]
  },
  {
   "cell_type": "markdown",
   "metadata": {},
   "source": [
    "Let us slightly change few parameters of Model1 and see if we can get better results"
   ]
  },
  {
   "cell_type": "code",
   "execution_count": null,
   "metadata": {},
   "outputs": [],
   "source": [
    "from sklearn.tree import DecisionTreeRegressor\n",
    "model2 = DecisionTreeRegressor( criterion='mse', max_depth=7,\n",
    "                               max_features=None, max_leaf_nodes=None,\n",
    "                               min_impurity_decrease=0.0, min_impurity_split=None,\n",
    "                               min_samples_leaf=1, min_samples_split=2,\n",
    "                               min_weight_fraction_leaf=0.0, presort=False,\n",
    "                               random_state=None, splitter='best')\n",
    "model2.fit(X_train_s, y_train)\n",
    "\n",
    "#random state is a seed to start finding something randomly"
   ]
  },
  {
   "cell_type": "code",
   "execution_count": null,
   "metadata": {},
   "outputs": [],
   "source": [
    "y_train_pred_dt_m2=model2.predict(X_train_s)\n",
    "y_test_pred_dt_m2=model2.predict(X_test_s)\n"
   ]
  },
  {
   "cell_type": "markdown",
   "metadata": {},
   "source": [
    "<a id=section722></a>"
   ]
  },
  {
   "cell_type": "markdown",
   "metadata": {},
   "source": [
    "### 7.2.2 Plotting the model"
   ]
  },
  {
   "cell_type": "code",
   "execution_count": null,
   "metadata": {
    "scrolled": false
   },
   "outputs": [],
   "source": [
    "sns.lineplot(x=y_test, y=y_test_pred_dt)\n",
    "plt.title('Decision Tree Model 2')\n",
    "plt.xlabel(' Actual')\n",
    "plt.ylabel('Predicted')"
   ]
  },
  {
   "cell_type": "code",
   "execution_count": null,
   "metadata": {
    "scrolled": true
   },
   "outputs": [],
   "source": [
    "#Generating DOT File\n",
    "dot_data2 = export_graphviz(model2, filled=True, rounded=True, feature_names=X.columns, out_file=None)\n",
    "graph2 = graph_from_dot_data(dot_data2)\n",
    "graph2.write_png('tree2.png')"
   ]
  },
  {
   "cell_type": "code",
   "execution_count": null,
   "metadata": {
    "scrolled": true
   },
   "outputs": [],
   "source": [
    "from sklearn.tree import plot_tree\n",
    " \n",
    "plt.figure(figsize=(8, 6))\n",
    "plot_tree(model2, feature_names=X_train.columns, filled=True, rounded=True)"
   ]
  },
  {
   "cell_type": "markdown",
   "metadata": {},
   "source": [
    "<a id=section723></a>"
   ]
  },
  {
   "cell_type": "markdown",
   "metadata": {},
   "source": [
    "### 7.2.3 Finding out RMSE and Adjusted R-squared for Train and Test Linear Regression Model"
   ]
  },
  {
   "cell_type": "markdown",
   "metadata": {},
   "source": [
    "#### RMSE"
   ]
  },
  {
   "cell_type": "code",
   "execution_count": null,
   "metadata": {},
   "outputs": [],
   "source": [
    "#finding RMSE values\n",
    "from sklearn import metrics\n",
    "RMSE_train_dt_m2=np.sqrt(metrics.mean_squared_error(y_train,y_train_pred_dt_m2))\n",
    "print('The RMSE score of Train Dataset of Decision Tree Model 2 is :',RMSE_train_dt_m2)"
   ]
  },
  {
   "cell_type": "code",
   "execution_count": null,
   "metadata": {},
   "outputs": [],
   "source": [
    "#finding RMSE values\n",
    "from sklearn import metrics\n",
    "RMSE_test_dt_m2=np.sqrt(metrics.mean_squared_error(y_test,y_test_pred_dt_m2))\n",
    "print('The RMSE score of Test Dataset of Decision Tree Model 2 is :',RMSE_test_dt_m2)"
   ]
  },
  {
   "cell_type": "markdown",
   "metadata": {},
   "source": [
    "#### R-square"
   ]
  },
  {
   "cell_type": "code",
   "execution_count": null,
   "metadata": {},
   "outputs": [],
   "source": [
    "from sklearn.metrics import r2_score\n",
    "r2_dt_m2_train=r2_score(y_train, y_train_pred_dt_m2)\n",
    "print('The R-square value of Train Dataset of Decision Tree Model 2 is :',r2_dt_m2_train)"
   ]
  },
  {
   "cell_type": "code",
   "execution_count": null,
   "metadata": {},
   "outputs": [],
   "source": [
    "from sklearn.metrics import r2_score\n",
    "r2_dt_m2_test=r2_score(y_test, y_test_pred_dt_m2)\n",
    "print('The R-square value of Test Dataset of Decision Tree Model 2 is :',r2_dt_m2_test)"
   ]
  },
  {
   "cell_type": "markdown",
   "metadata": {},
   "source": [
    "#### Adjusted R-squared"
   ]
  },
  {
   "cell_type": "code",
   "execution_count": null,
   "metadata": {
    "scrolled": true
   },
   "outputs": [],
   "source": [
    "adj_r2_train=Adjusted_r2(r2_dt_m2_train,len(X_train))\n",
    "print('The Adjusted R-square of Decisiom Tree Train Dataset for the second model is :', adj_r2_train)\n",
    "adj_r2_test=Adjusted_r2(r2_dt_m2_test,len(X_test))\n",
    "print('The Adjusted R-square of Decision Tree Test Dataset for the second model is :', adj_r2_test)"
   ]
  },
  {
   "cell_type": "markdown",
   "metadata": {},
   "source": [
    "<a id=section73></a>"
   ]
  },
  {
   "cell_type": "markdown",
   "metadata": {},
   "source": [
    "## 7.3 Decision Tree GridSearchCV Model"
   ]
  },
  {
   "cell_type": "markdown",
   "metadata": {},
   "source": [
    "<a id=section731></a>"
   ]
  },
  {
   "cell_type": "markdown",
   "metadata": {},
   "source": [
    "### 7.3.1 Model Development"
   ]
  },
  {
   "cell_type": "markdown",
   "metadata": {},
   "source": [
    "Let us use the powerful python tool called ```GridSearchCV``` and develop third model of our Decision Tree. In this model we will let the system iterate over different criteria and give us the best model"
   ]
  },
  {
   "cell_type": "code",
   "execution_count": null,
   "metadata": {},
   "outputs": [],
   "source": [
    "from sklearn.tree import DecisionTreeRegressor\n",
    "from sklearn.model_selection import GridSearchCV\n",
    "\n",
    "decision_tree_regressor= DecisionTreeRegressor(random_state = 0)\n",
    "\n",
    "\n",
    "tree_para = [{'criterion':[\"mse\", \"friedman_mse\", \"mae\"],'max_depth': range(2,60),\n",
    "              'splitter' : [\"best\", \"random\"],\n",
    "              'max_features': [\"auto\", \"sqrt\", \"log2\"] }]\n",
    "                            \n",
    "                            \n",
    "\n",
    "grid_search = GridSearchCV(decision_tree_regressor,tree_para, cv=10, refit='AUC')\n",
    "grid_search.fit(X_train_s, y_train)"
   ]
  },
  {
   "cell_type": "code",
   "execution_count": null,
   "metadata": {},
   "outputs": [],
   "source": [
    "y_train_pred_dt3 = grid_search.predict(X_train_s)\n",
    "y_test_pred_dt3 = grid_search.predict(X_test_s)"
   ]
  },
  {
   "cell_type": "markdown",
   "metadata": {},
   "source": [
    "<a id=section732></a>"
   ]
  },
  {
   "cell_type": "markdown",
   "metadata": {},
   "source": [
    "### 7.3.2 Plotting the model"
   ]
  },
  {
   "cell_type": "code",
   "execution_count": null,
   "metadata": {
    "scrolled": false
   },
   "outputs": [],
   "source": [
    "sns.lineplot(x=y_test, y=y_test_pred_dt)\n",
    "plt.title('Decision Tree Model 2')\n",
    "plt.xlabel(' Actual')\n",
    "plt.ylabel('Predicted')"
   ]
  },
  {
   "cell_type": "code",
   "execution_count": null,
   "metadata": {
    "scrolled": true
   },
   "outputs": [],
   "source": [
    "#Generating DOT File\n",
    "dot_data2 = export_graphviz(model2, filled=True, rounded=True, feature_names=X.columns, out_file=None)\n",
    "graph2 = graph_from_dot_data(dot_data2)\n",
    "graph2.write_png('tree2.png')"
   ]
  },
  {
   "cell_type": "code",
   "execution_count": null,
   "metadata": {
    "scrolled": true
   },
   "outputs": [],
   "source": [
    "from sklearn.tree import plot_tree\n",
    " \n",
    "plt.figure(figsize=(8, 6))\n",
    "plot_tree(model2, feature_names=X_train.columns, filled=True, rounded=True)"
   ]
  },
  {
   "cell_type": "markdown",
   "metadata": {},
   "source": [
    "<a id=section733></a>"
   ]
  },
  {
   "cell_type": "markdown",
   "metadata": {},
   "source": [
    "### 7.3.3 FInding out RMSE and Adjusted R-squared for Train and Test Linear Regression Model"
   ]
  },
  {
   "cell_type": "markdown",
   "metadata": {},
   "source": [
    "### RMSE"
   ]
  },
  {
   "cell_type": "code",
   "execution_count": null,
   "metadata": {},
   "outputs": [],
   "source": [
    "#finding RMSE values\n",
    "from sklearn import metrics\n",
    "RMSE_train_dt_m3=np.sqrt(metrics.mean_squared_error(y_train,y_train_pred_dt3))\n",
    "print('The RMSE value of Train dataset for Decision Tree Grid Search Model is :',RMSE_train_dt_m3)"
   ]
  },
  {
   "cell_type": "code",
   "execution_count": null,
   "metadata": {},
   "outputs": [],
   "source": [
    "#finding RMSE values\n",
    "from sklearn import metrics\n",
    "RMSE_test_dt_m3=np.sqrt(metrics.mean_squared_error(y_test,y_test_pred_dt3))\n",
    "print('The RMSE value of Test dataset for Decision Tree Grid Search Model is :',RMSE_test_dt_m3)"
   ]
  },
  {
   "cell_type": "markdown",
   "metadata": {},
   "source": [
    "#### R-squared"
   ]
  },
  {
   "cell_type": "code",
   "execution_count": null,
   "metadata": {},
   "outputs": [],
   "source": [
    "from sklearn.metrics import r2_score\n",
    "r2_m3_train=r2_score(y_train, y_train_pred_dt3)\n",
    "print('The R-square value of Train dataset for Decision Tree Grid Search Model is :',r2_m3_train)"
   ]
  },
  {
   "cell_type": "code",
   "execution_count": null,
   "metadata": {
    "scrolled": true
   },
   "outputs": [],
   "source": [
    "from sklearn.metrics import r2_score\n",
    "r2_m3_test=r2_score(y_test, y_test_pred_dt3)\n",
    "print('The R-square value of Test dataset for Decision Tree Grid Search Model is :',r2_m3_test)"
   ]
  },
  {
   "cell_type": "markdown",
   "metadata": {},
   "source": [
    "#### Adjusted R-squared"
   ]
  },
  {
   "cell_type": "code",
   "execution_count": null,
   "metadata": {
    "scrolled": true
   },
   "outputs": [],
   "source": [
    "adj_r2_train=Adjusted_r2(r2_m3_train,len(X_train))\n",
    "print('The Adjusted R-square of Decision Tree GridSearch model Train Dataset for the second model is :', adj_r2_train)\n",
    "adj_r2_test=Adjusted_r2(r2_m3_test,len(X_test))\n",
    "print('The Adjusted R-square of Decision Tree Test GridSearch model Test Dataset for the second model is :', adj_r2_test)"
   ]
  },
  {
   "cell_type": "markdown",
   "metadata": {},
   "source": [
    "<a id=section74></a>"
   ]
  },
  {
   "cell_type": "markdown",
   "metadata": {},
   "source": [
    "## 7.4 Summary of Decision Tree"
   ]
  },
  {
   "cell_type": "markdown",
   "metadata": {},
   "source": [
    "The summary of the 3 Decision Tree Models we have for the train and test dataset details as under\n",
    "\n",
    "|Model Name||RMSE Score Train||RMSE Score Test ||R-square Value Train||R-square Value Test||Adjusted R-squared Train||Adjusted R-square Test|\n",
    "|---------||------------||-------------||------||-------------||--------||--------|\n",
    "|Decision Tree Moidel-1|| 3.5162  ||8.3830|| 0.9969   ||0.9825||0.9968||0.9819|\n",
    "|Decision Tree Model-2|| 5.9540  ||8.4839|| 0.9911    ||0.9821||0.9910||0.9819|\n",
    "|GridSearchCV Model|| 3.6269 ||7.6863||  0.9967  ||0.9853|| 0.9966||0.9849|\n"
   ]
  },
  {
   "cell_type": "markdown",
   "metadata": {},
   "source": [
    "**Based on the R2 Score for test data, we can say that Decision Tree GridSearchCV model is the best model**"
   ]
  },
  {
   "cell_type": "markdown",
   "metadata": {},
   "source": [
    "<a id=section8></a>"
   ]
  },
  {
   "cell_type": "markdown",
   "metadata": {},
   "source": [
    "## 8.Random Forest Regressor"
   ]
  },
  {
   "cell_type": "markdown",
   "metadata": {},
   "source": [
    "Developing and understanding few models under Random Forest to check if we can get beter models"
   ]
  },
  {
   "cell_type": "markdown",
   "metadata": {},
   "source": [
    "<a id=section81></a>"
   ]
  },
  {
   "cell_type": "markdown",
   "metadata": {},
   "source": [
    "### 8.1 Random Forest Model 1"
   ]
  },
  {
   "cell_type": "markdown",
   "metadata": {},
   "source": [
    "<a id=section811></a>"
   ]
  },
  {
   "cell_type": "markdown",
   "metadata": {},
   "source": [
    "### 8.1.1 Model Development"
   ]
  },
  {
   "cell_type": "code",
   "execution_count": null,
   "metadata": {},
   "outputs": [],
   "source": [
    "from sklearn.ensemble import RandomForestRegressor\n",
    "model_rf1 = RandomForestRegressor(random_state = 0)\n",
    "model_rf1.fit(X_train_s, y_train)"
   ]
  },
  {
   "cell_type": "code",
   "execution_count": null,
   "metadata": {},
   "outputs": [],
   "source": [
    "y_pred_train_rf1 = model_rf1.predict(X_train_s)\n",
    "y_pred_test_rf1 = model_rf1.predict(X_test_s)"
   ]
  },
  {
   "cell_type": "markdown",
   "metadata": {},
   "source": [
    " <a id=section812></a>"
   ]
  },
  {
   "cell_type": "markdown",
   "metadata": {},
   "source": [
    "### 8.1.2 Plotting the model"
   ]
  },
  {
   "cell_type": "code",
   "execution_count": null,
   "metadata": {
    "scrolled": false
   },
   "outputs": [],
   "source": [
    "sns.lineplot(x=y_test, y=y_pred_test_rf1)\n",
    "plt.title('Random Forest Model 1')\n",
    "plt.xlabel(' Actual')\n",
    "plt.ylabel('Predicted')"
   ]
  },
  {
   "cell_type": "markdown",
   "metadata": {},
   "source": [
    "<a id=section813></a>"
   ]
  },
  {
   "cell_type": "markdown",
   "metadata": {},
   "source": [
    "### 8.1.3 FInding out RMSE and Adjusted R-squared for Train and Test Linear Regression Model"
   ]
  },
  {
   "cell_type": "markdown",
   "metadata": {},
   "source": [
    "#### RMSE"
   ]
  },
  {
   "cell_type": "code",
   "execution_count": null,
   "metadata": {},
   "outputs": [],
   "source": [
    "#finding RMSE values\n",
    "from sklearn import metrics\n",
    "RMSE_train_rf1=np.sqrt(metrics.mean_squared_error(y_train,y_pred_train_rf1))\n",
    "RMSE_test_rf1=np.sqrt(metrics.mean_squared_error(y_test,y_pred_test_rf1))\n",
    "print('RMSE of Random Forest Model 1 for train dataset : ',RMSE_train_rf1)\n",
    "print('RMSE of Random Forest Model 1 for test dataset : ',RMSE_test_rf1)"
   ]
  },
  {
   "cell_type": "markdown",
   "metadata": {},
   "source": [
    "#### R-squared"
   ]
  },
  {
   "cell_type": "code",
   "execution_count": null,
   "metadata": {},
   "outputs": [],
   "source": [
    "from sklearn.metrics import r2_score\n",
    "r2_rf1_train=r2_score(y_train, y_pred_train_rf1)\n",
    "r2_rf1_test=r2_score(y_test, y_pred_test_rf1)\n",
    "print('The R-square Value of train dataset of Simple Random Forest Model is :',r2_rf1_train)\n",
    "print('The R-square Value of test dataset of Simple Random Forest Model is :',r2_rf1_test)\n"
   ]
  },
  {
   "cell_type": "markdown",
   "metadata": {},
   "source": [
    "#### Adjusted R-squared"
   ]
  },
  {
   "cell_type": "code",
   "execution_count": null,
   "metadata": {},
   "outputs": [],
   "source": [
    "adj_r2_train=Adjusted_r2(r2_rf1_train,len(X_train))\n",
    "print('The Adjusted R-square of Random Forest Train Dataset for the first model is :', adj_r2_train)\n",
    "adj_r2_test=Adjusted_r2(r2_rf1_test,len(X_test))\n",
    "print('The Adjusted R-square of Random Forest Test Dataset for the first model is :', adj_r2_test)"
   ]
  },
  {
   "cell_type": "markdown",
   "metadata": {},
   "source": [
    "#### Plotting the data"
   ]
  },
  {
   "cell_type": "code",
   "execution_count": null,
   "metadata": {},
   "outputs": [],
   "source": [
    "sns.lineplot(x=y_test, y=y_pred_test_rf1)\n",
    "plt.title('Random Forest Model 1')\n",
    "plt.xlabel(' Actual')\n",
    "plt.ylabel('Predicted')"
   ]
  },
  {
   "cell_type": "markdown",
   "metadata": {},
   "source": [
    "### 8.2 Random Forest Model 2"
   ]
  },
  {
   "cell_type": "markdown",
   "metadata": {},
   "source": [
    "<a id=section821></a>"
   ]
  },
  {
   "cell_type": "markdown",
   "metadata": {},
   "source": [
    "### 8.2.1 Model Development "
   ]
  },
  {
   "cell_type": "code",
   "execution_count": null,
   "metadata": {},
   "outputs": [],
   "source": [
    "model_rf2 = RandomForestRegressor(random_state = 0,\n",
    "                                n_estimators = 15,\n",
    "                                min_samples_split = 2,\n",
    "                                min_samples_leaf = 1)\n",
    "\n",
    "model_rf2.fit(X_train_s, y_train)"
   ]
  },
  {
   "cell_type": "code",
   "execution_count": null,
   "metadata": {},
   "outputs": [],
   "source": [
    "y_pred_train_rf2 = model_rf2.predict(X_train_s)\n",
    "y_pred_test_rf2 = model_rf2.predict(X_test_s)"
   ]
  },
  {
   "cell_type": "markdown",
   "metadata": {},
   "source": [
    "<a id=section822></a>"
   ]
  },
  {
   "cell_type": "markdown",
   "metadata": {},
   "source": [
    "### 8.2.2 Plotting the model "
   ]
  },
  {
   "cell_type": "code",
   "execution_count": null,
   "metadata": {
    "scrolled": false
   },
   "outputs": [],
   "source": [
    "sns.lineplot(x=y_test, y=y_pred_test_rf2)\n",
    "plt.title('Random Forest Model 2')\n",
    "plt.xlabel(' Actual')\n",
    "plt.ylabel('Predicted')"
   ]
  },
  {
   "cell_type": "markdown",
   "metadata": {},
   "source": [
    "<a id=section823></a>\n",
    "### 8.2.3 FInding out RMSE and Adjusted R-squared for Train and Test Linear Regression Model"
   ]
  },
  {
   "cell_type": "markdown",
   "metadata": {},
   "source": [
    "#### RMSE"
   ]
  },
  {
   "cell_type": "code",
   "execution_count": null,
   "metadata": {},
   "outputs": [],
   "source": [
    "#finding RMSE values\n",
    "from sklearn import metrics\n",
    "RMSE_train_rf2=np.sqrt(metrics.mean_squared_error(y_train,y_pred_train_rf2))\n",
    "RMSE_test_rf2=np.sqrt(metrics.mean_squared_error(y_test,y_pred_test_rf2))\n",
    "print('RMSE value of Random Forest model 2 for train dataset is : ',RMSE_train_rf2)\n",
    "print('RMSE value of Random Forest model 2 for test dataset is : ',RMSE_test_rf2)"
   ]
  },
  {
   "cell_type": "markdown",
   "metadata": {},
   "source": [
    "#### R-squared"
   ]
  },
  {
   "cell_type": "code",
   "execution_count": null,
   "metadata": {},
   "outputs": [],
   "source": [
    "from sklearn.metrics import r2_score\n",
    "r2_rf2_train=r2_score(y_train, y_pred_train_rf2)\n",
    "r2_rf2_test=r2_score(y_test, y_pred_test_rf2)\n",
    "print('The R-square value of train dataset of Random Forest 2nd Model is :',r2_rf2_train)\n",
    "print('The R-square value of test dataset of Random Forest 2nd Model is :',r2_rf2_test)"
   ]
  },
  {
   "cell_type": "markdown",
   "metadata": {},
   "source": [
    "#### Adjusted R-squared"
   ]
  },
  {
   "cell_type": "code",
   "execution_count": null,
   "metadata": {
    "scrolled": true
   },
   "outputs": [],
   "source": [
    "adj_r2_train=Adjusted_r2(r2_rf2_train,len(X_train))\n",
    "print('The Adjusted R-square of Random Forest Train Dataset for the second model is :', adj_r2_train)\n",
    "adj_r2_test=Adjusted_r2(r2_rf2_test,len(X_test))\n",
    "print('The Adjusted R-square of Random Forest Test Dataset for the second model is :', adj_r2_test)"
   ]
  },
  {
   "cell_type": "markdown",
   "metadata": {},
   "source": [
    "<a id=section83></a>"
   ]
  },
  {
   "cell_type": "markdown",
   "metadata": {},
   "source": [
    "### 8.3 Random Forest Model 3"
   ]
  },
  {
   "cell_type": "markdown",
   "metadata": {},
   "source": [
    "<a id=section831></a>"
   ]
  },
  {
   "cell_type": "markdown",
   "metadata": {},
   "source": [
    "### 8.3.1 Model Development"
   ]
  },
  {
   "cell_type": "markdown",
   "metadata": {},
   "source": [
    "Here we sue the most popular python search module called ```RandomizedSearchCV``` to iterate over all possible parameters and give us the best model there is for the dataset"
   ]
  },
  {
   "cell_type": "code",
   "execution_count": null,
   "metadata": {},
   "outputs": [],
   "source": [
    "from sklearn.model_selection import RandomizedSearchCV\n",
    "from scipy.stats import randint as sp_randint\n",
    "# parameters for GridSearchCV\n",
    "# specify parameters and distributions to sample from\n",
    "param_dist = {\"max_depth\": range(2,100),\n",
    "              \"min_samples_split\": sp_randint(2, 11),\n",
    "              \"min_samples_leaf\": sp_randint(1, 11),\n",
    "              \"bootstrap\": [True, False],\n",
    "              \"n_estimators\": [100, 400, 700, 1000, 1500],\n",
    "              \"criterion\" : [\"mse\", \"friedman_mse\", \"mae\"],\n",
    "              'max_features': [\"auto\", \"sqrt\", \"log2\"]\n",
    "             }\n",
    "# run randomized search\n",
    "n_iter_search = 50\n",
    "random_search = RandomizedSearchCV(model_rf2, param_distributions = param_dist,\n",
    "                                   n_iter = n_iter_search,\n",
    "                                   n_jobs = -1)"
   ]
  },
  {
   "cell_type": "code",
   "execution_count": null,
   "metadata": {
    "scrolled": false
   },
   "outputs": [],
   "source": [
    "random_search.fit(X_train_s, y_train)"
   ]
  },
  {
   "cell_type": "code",
   "execution_count": null,
   "metadata": {},
   "outputs": [],
   "source": [
    "y_pred_test_rf3 = random_search.predict(X_test_s)\n",
    "y_pred_train_rf3=random_search.predict(X_train_s)"
   ]
  },
  {
   "cell_type": "markdown",
   "metadata": {},
   "source": [
    "<a id=section832></a>"
   ]
  },
  {
   "cell_type": "markdown",
   "metadata": {},
   "source": [
    "### 8.3.2 Plotting the data"
   ]
  },
  {
   "cell_type": "code",
   "execution_count": null,
   "metadata": {
    "scrolled": false
   },
   "outputs": [],
   "source": [
    "sns.lineplot(x=y_test, y=y_pred_test_rf2)\n",
    "plt.title('RandomizedSearchCV Model')\n",
    "plt.xlabel(' Actual')\n",
    "plt.ylabel('Predicted')"
   ]
  },
  {
   "cell_type": "markdown",
   "metadata": {},
   "source": [
    "<a id=section833></a>"
   ]
  },
  {
   "cell_type": "markdown",
   "metadata": {},
   "source": [
    "### 8.3.3 FInding out RMSE and Adjusted R-squared for Train and Test Linear Regression Model"
   ]
  },
  {
   "cell_type": "markdown",
   "metadata": {},
   "source": [
    "#### RMSE"
   ]
  },
  {
   "cell_type": "code",
   "execution_count": null,
   "metadata": {},
   "outputs": [],
   "source": [
    "#finding RMSE values\n",
    "from sklearn import metrics\n",
    "RMSE_train_rf3=np.sqrt(metrics.mean_squared_error(y_train,y_pred_train_rf3))\n",
    "RMSE_test_rf3=np.sqrt(metrics.mean_squared_error(y_test,y_pred_test_rf3))\n",
    "print('RMSE value of Random Forest model 3 for train dataset is : ',RMSE_train_rf3)\n",
    "print('RMSE value of Random Forest model 3 for test dataset is : ',RMSE_test_rf3)"
   ]
  },
  {
   "cell_type": "markdown",
   "metadata": {},
   "source": [
    "#### R-squared"
   ]
  },
  {
   "cell_type": "code",
   "execution_count": null,
   "metadata": {
    "scrolled": true
   },
   "outputs": [],
   "source": [
    "from sklearn.metrics import r2_score\n",
    "r2_rf3_train=r2_score(y_train, y_pred_train_rf3)\n",
    "r2_rf3_test=r2_score(y_test, y_pred_test_rf3)\n",
    "print('The R-square Value of train dataset of Random Forest 3rd Model is :',r2_rf3_train)\n",
    "print('The R-square Value of test dataset of Random Forest 3rd Model is :',r2_rf3_test)"
   ]
  },
  {
   "cell_type": "markdown",
   "metadata": {},
   "source": [
    "#### Adjusted R-squared"
   ]
  },
  {
   "cell_type": "code",
   "execution_count": null,
   "metadata": {
    "scrolled": false
   },
   "outputs": [],
   "source": [
    "adj_r2_train=Adjusted_r2(r2_rf3_train,len(X_train))\n",
    "print('The Adjusted R-square of Random Forest Train Dataset for the Randomized Search model is :', adj_r2_train)\n",
    "adj_r2_test=Adjusted_r2(r2_rf3_test,len(X_test))\n",
    "print('The Adjusted R-square of Random Forest Test Dataset for the Randomized Search model is :', adj_r2_test)"
   ]
  },
  {
   "cell_type": "markdown",
   "metadata": {},
   "source": [
    "<a id=section84></a>"
   ]
  },
  {
   "cell_type": "markdown",
   "metadata": {},
   "source": [
    "### 8.4 Summary of Random Forest"
   ]
  },
  {
   "cell_type": "markdown",
   "metadata": {},
   "source": [
    "The summary of the 3 Random Forest Models we have the test dataset are as under;\n",
    "\n",
    "|Model Name||RMSE Score Train||RMSE Score test||R-square Value train|| R-square value test||Adjusted R-squared Train||Adjusted R-squared test|\n",
    "|---------||------------||-------------||----------||-------------||-------||------|\n",
    "|Random Forest Model-1||  4.2409  ||7.9963||  0.9954      ||0.9841||0.9954||0.9837|\n",
    "|Random Forest Mode2-2|| 4.3914    ||8.0166||  0.9951      ||0.9840||0.9951||0.9836|\n",
    "|RandomizedSearchCV Model||  4.0816 ||88103||   0.9958    ||0.9807||0.9957||0.9802|\n"
   ]
  },
  {
   "cell_type": "markdown",
   "metadata": {},
   "source": [
    "<a id=section9></a>"
   ]
  },
  {
   "cell_type": "markdown",
   "metadata": {},
   "source": [
    "## 9. Conclusion"
   ]
  },
  {
   "cell_type": "markdown",
   "metadata": {},
   "source": [
    "To sum up, we have developed a total of 7 models under Linear Regression, Decision Tree and Random Forest. We trained these models with our train dataset and tested each models with our test dataset. Each model gave us excellent results with an accuracy of >97%.\n",
    "\n",
    "The RMSE and R2 Score for each models for train and test datasets are as under;\n",
    "\n",
    "|Sl. No.|| Model Name || RMSE Score Test || R-square Value test || Adjusted R-squared test|\n",
    "|----||---------||------------||-------------||----------|\n",
    "|1|| Linear Regression Model|| 8.2269||0.9832||0.9827|\n",
    "|2|| Decision Tree Model-1|| 8.3830||0.9825||0.9820|\n",
    "|3|| Decision Tree Model-2|| 8.4839||0.9821||0.9816|\n",
    "|4|| GridSearchCV Model|| 7.6863||0.9853||0.9849|\n",
    "|5|| Random Forest Model-1|| 7.9963||0.9841||0.9837|\n",
    "|6|| Random Forest Model-2||8.0166||0.9840||0.9836|\n",
    "|7|| Randomized Search Model||8.8103||0.9807||0.9802|"
   ]
  },
  {
   "cell_type": "markdown",
   "metadata": {},
   "source": [
    "**Therefore based on R2 score, GridSearchCV- model is the best model for this dataset**"
   ]
  }
 ],
 "metadata": {
  "kernelspec": {
   "display_name": "Python 3",
   "language": "python",
   "name": "python3"
  },
  "language_info": {
   "codemirror_mode": {
    "name": "ipython",
    "version": 3
   },
   "file_extension": ".py",
   "mimetype": "text/x-python",
   "name": "python",
   "nbconvert_exporter": "python",
   "pygments_lexer": "ipython3",
   "version": "3.7.6"
  }
 },
 "nbformat": 4,
 "nbformat_minor": 4
}
